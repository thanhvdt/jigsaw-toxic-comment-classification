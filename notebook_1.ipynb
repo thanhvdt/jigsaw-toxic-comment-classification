{
  "cells": [
    {
      "cell_type": "code",
      "execution_count": null,
      "metadata": {
        "colab": {
          "base_uri": "https://localhost:8080/"
        },
        "id": "vJGL3i82VTdW",
        "outputId": "71e06068-8d38-4c4e-bbab-511183e2d70b"
      },
      "outputs": [
        {
          "output_type": "stream",
          "name": "stdout",
          "text": [
            "fatal: destination path 'jigsaw-toxic-comment-classification' already exists and is not an empty directory.\n"
          ]
        }
      ],
      "source": [
        "!git clone https://github.com/thanhvdt/jigsaw-toxic-comment-classification.git"
      ]
    },
    {
      "cell_type": "code",
      "execution_count": null,
      "metadata": {
        "colab": {
          "base_uri": "https://localhost:8080/"
        },
        "id": "dFRtD1iiVlx7",
        "outputId": "6319c7c6-9412-41b6-eeee-98d340cb1619"
      },
      "outputs": [
        {
          "output_type": "stream",
          "name": "stderr",
          "text": [
            "[nltk_data] Downloading package stopwords to /root/nltk_data...\n",
            "[nltk_data]   Package stopwords is already up-to-date!\n"
          ]
        }
      ],
      "source": [
        "import pandas as pd\n",
        "import matplotlib.pyplot as plt\n",
        "import seaborn as sb \n",
        "import numpy as np\n",
        "import re\n",
        "import nltk \n",
        "import csv\n",
        "nltk.download('stopwords')\n",
        "from nltk.corpus import stopwords"
      ]
    },
    {
      "cell_type": "code",
      "execution_count": null,
      "metadata": {
        "id": "hYsVtlp9VnV2"
      },
      "outputs": [],
      "source": [
        "data = pd.read_csv('/content/jigsaw-toxic-comment-classification/data/train.csv')"
      ]
    },
    {
      "cell_type": "code",
      "execution_count": null,
      "metadata": {
        "colab": {
          "base_uri": "https://localhost:8080/",
          "height": 206
        },
        "id": "rZmtu-ZD8mQS",
        "outputId": "202c9c97-b8e3-44c7-be08-6e44b299d295"
      },
      "outputs": [
        {
          "output_type": "execute_result",
          "data": {
            "text/plain": [
              "                 id                                       comment_text  toxic  \\\n",
              "0  0000997932d777bf  Explanation\\nWhy the edits made under my usern...      0   \n",
              "1  000103f0d9cfb60f  D'aww! He matches this background colour I'm s...      0   \n",
              "2  000113f07ec002fd  Hey man, I'm really not trying to edit war. It...      0   \n",
              "3  0001b41b1c6bb37e  \"\\nMore\\nI can't make any real suggestions on ...      0   \n",
              "4  0001d958c54c6e35  You, sir, are my hero. Any chance you remember...      0   \n",
              "\n",
              "   severe_toxic  obscene  threat  insult  identity_hate  \n",
              "0             0        0       0       0              0  \n",
              "1             0        0       0       0              0  \n",
              "2             0        0       0       0              0  \n",
              "3             0        0       0       0              0  \n",
              "4             0        0       0       0              0  "
            ],
            "text/html": [
              "\n",
              "  <div id=\"df-b0cf76dd-16eb-4cf8-baaf-284ad7af3653\">\n",
              "    <div class=\"colab-df-container\">\n",
              "      <div>\n",
              "<style scoped>\n",
              "    .dataframe tbody tr th:only-of-type {\n",
              "        vertical-align: middle;\n",
              "    }\n",
              "\n",
              "    .dataframe tbody tr th {\n",
              "        vertical-align: top;\n",
              "    }\n",
              "\n",
              "    .dataframe thead th {\n",
              "        text-align: right;\n",
              "    }\n",
              "</style>\n",
              "<table border=\"1\" class=\"dataframe\">\n",
              "  <thead>\n",
              "    <tr style=\"text-align: right;\">\n",
              "      <th></th>\n",
              "      <th>id</th>\n",
              "      <th>comment_text</th>\n",
              "      <th>toxic</th>\n",
              "      <th>severe_toxic</th>\n",
              "      <th>obscene</th>\n",
              "      <th>threat</th>\n",
              "      <th>insult</th>\n",
              "      <th>identity_hate</th>\n",
              "    </tr>\n",
              "  </thead>\n",
              "  <tbody>\n",
              "    <tr>\n",
              "      <th>0</th>\n",
              "      <td>0000997932d777bf</td>\n",
              "      <td>Explanation\\nWhy the edits made under my usern...</td>\n",
              "      <td>0</td>\n",
              "      <td>0</td>\n",
              "      <td>0</td>\n",
              "      <td>0</td>\n",
              "      <td>0</td>\n",
              "      <td>0</td>\n",
              "    </tr>\n",
              "    <tr>\n",
              "      <th>1</th>\n",
              "      <td>000103f0d9cfb60f</td>\n",
              "      <td>D'aww! He matches this background colour I'm s...</td>\n",
              "      <td>0</td>\n",
              "      <td>0</td>\n",
              "      <td>0</td>\n",
              "      <td>0</td>\n",
              "      <td>0</td>\n",
              "      <td>0</td>\n",
              "    </tr>\n",
              "    <tr>\n",
              "      <th>2</th>\n",
              "      <td>000113f07ec002fd</td>\n",
              "      <td>Hey man, I'm really not trying to edit war. It...</td>\n",
              "      <td>0</td>\n",
              "      <td>0</td>\n",
              "      <td>0</td>\n",
              "      <td>0</td>\n",
              "      <td>0</td>\n",
              "      <td>0</td>\n",
              "    </tr>\n",
              "    <tr>\n",
              "      <th>3</th>\n",
              "      <td>0001b41b1c6bb37e</td>\n",
              "      <td>\"\\nMore\\nI can't make any real suggestions on ...</td>\n",
              "      <td>0</td>\n",
              "      <td>0</td>\n",
              "      <td>0</td>\n",
              "      <td>0</td>\n",
              "      <td>0</td>\n",
              "      <td>0</td>\n",
              "    </tr>\n",
              "    <tr>\n",
              "      <th>4</th>\n",
              "      <td>0001d958c54c6e35</td>\n",
              "      <td>You, sir, are my hero. Any chance you remember...</td>\n",
              "      <td>0</td>\n",
              "      <td>0</td>\n",
              "      <td>0</td>\n",
              "      <td>0</td>\n",
              "      <td>0</td>\n",
              "      <td>0</td>\n",
              "    </tr>\n",
              "  </tbody>\n",
              "</table>\n",
              "</div>\n",
              "      <button class=\"colab-df-convert\" onclick=\"convertToInteractive('df-b0cf76dd-16eb-4cf8-baaf-284ad7af3653')\"\n",
              "              title=\"Convert this dataframe to an interactive table.\"\n",
              "              style=\"display:none;\">\n",
              "        \n",
              "  <svg xmlns=\"http://www.w3.org/2000/svg\" height=\"24px\"viewBox=\"0 0 24 24\"\n",
              "       width=\"24px\">\n",
              "    <path d=\"M0 0h24v24H0V0z\" fill=\"none\"/>\n",
              "    <path d=\"M18.56 5.44l.94 2.06.94-2.06 2.06-.94-2.06-.94-.94-2.06-.94 2.06-2.06.94zm-11 1L8.5 8.5l.94-2.06 2.06-.94-2.06-.94L8.5 2.5l-.94 2.06-2.06.94zm10 10l.94 2.06.94-2.06 2.06-.94-2.06-.94-.94-2.06-.94 2.06-2.06.94z\"/><path d=\"M17.41 7.96l-1.37-1.37c-.4-.4-.92-.59-1.43-.59-.52 0-1.04.2-1.43.59L10.3 9.45l-7.72 7.72c-.78.78-.78 2.05 0 2.83L4 21.41c.39.39.9.59 1.41.59.51 0 1.02-.2 1.41-.59l7.78-7.78 2.81-2.81c.8-.78.8-2.07 0-2.86zM5.41 20L4 18.59l7.72-7.72 1.47 1.35L5.41 20z\"/>\n",
              "  </svg>\n",
              "      </button>\n",
              "      \n",
              "  <style>\n",
              "    .colab-df-container {\n",
              "      display:flex;\n",
              "      flex-wrap:wrap;\n",
              "      gap: 12px;\n",
              "    }\n",
              "\n",
              "    .colab-df-convert {\n",
              "      background-color: #E8F0FE;\n",
              "      border: none;\n",
              "      border-radius: 50%;\n",
              "      cursor: pointer;\n",
              "      display: none;\n",
              "      fill: #1967D2;\n",
              "      height: 32px;\n",
              "      padding: 0 0 0 0;\n",
              "      width: 32px;\n",
              "    }\n",
              "\n",
              "    .colab-df-convert:hover {\n",
              "      background-color: #E2EBFA;\n",
              "      box-shadow: 0px 1px 2px rgba(60, 64, 67, 0.3), 0px 1px 3px 1px rgba(60, 64, 67, 0.15);\n",
              "      fill: #174EA6;\n",
              "    }\n",
              "\n",
              "    [theme=dark] .colab-df-convert {\n",
              "      background-color: #3B4455;\n",
              "      fill: #D2E3FC;\n",
              "    }\n",
              "\n",
              "    [theme=dark] .colab-df-convert:hover {\n",
              "      background-color: #434B5C;\n",
              "      box-shadow: 0px 1px 3px 1px rgba(0, 0, 0, 0.15);\n",
              "      filter: drop-shadow(0px 1px 2px rgba(0, 0, 0, 0.3));\n",
              "      fill: #FFFFFF;\n",
              "    }\n",
              "  </style>\n",
              "\n",
              "      <script>\n",
              "        const buttonEl =\n",
              "          document.querySelector('#df-b0cf76dd-16eb-4cf8-baaf-284ad7af3653 button.colab-df-convert');\n",
              "        buttonEl.style.display =\n",
              "          google.colab.kernel.accessAllowed ? 'block' : 'none';\n",
              "\n",
              "        async function convertToInteractive(key) {\n",
              "          const element = document.querySelector('#df-b0cf76dd-16eb-4cf8-baaf-284ad7af3653');\n",
              "          const dataTable =\n",
              "            await google.colab.kernel.invokeFunction('convertToInteractive',\n",
              "                                                     [key], {});\n",
              "          if (!dataTable) return;\n",
              "\n",
              "          const docLinkHtml = 'Like what you see? Visit the ' +\n",
              "            '<a target=\"_blank\" href=https://colab.research.google.com/notebooks/data_table.ipynb>data table notebook</a>'\n",
              "            + ' to learn more about interactive tables.';\n",
              "          element.innerHTML = '';\n",
              "          dataTable['output_type'] = 'display_data';\n",
              "          await google.colab.output.renderOutput(dataTable, element);\n",
              "          const docLink = document.createElement('div');\n",
              "          docLink.innerHTML = docLinkHtml;\n",
              "          element.appendChild(docLink);\n",
              "        }\n",
              "      </script>\n",
              "    </div>\n",
              "  </div>\n",
              "  "
            ]
          },
          "metadata": {},
          "execution_count": 4
        }
      ],
      "source": [
        "data.head()"
      ]
    },
    {
      "cell_type": "markdown",
      "metadata": {
        "id": "g6zBtFqOVqDJ"
      },
      "source": [
        "# Data exploration"
      ]
    },
    {
      "cell_type": "code",
      "source": [
        "data.describe()"
      ],
      "metadata": {
        "colab": {
          "base_uri": "https://localhost:8080/",
          "height": 300
        },
        "id": "whgQwTgXRpJP",
        "outputId": "8491b1e7-5325-4b1c-e6d9-837a407f2afb"
      },
      "execution_count": null,
      "outputs": [
        {
          "output_type": "execute_result",
          "data": {
            "text/plain": [
              "               toxic   severe_toxic        obscene         threat  \\\n",
              "count  159571.000000  159571.000000  159571.000000  159571.000000   \n",
              "mean        0.095844       0.009996       0.052948       0.002996   \n",
              "std         0.294379       0.099477       0.223931       0.054650   \n",
              "min         0.000000       0.000000       0.000000       0.000000   \n",
              "25%         0.000000       0.000000       0.000000       0.000000   \n",
              "50%         0.000000       0.000000       0.000000       0.000000   \n",
              "75%         0.000000       0.000000       0.000000       0.000000   \n",
              "max         1.000000       1.000000       1.000000       1.000000   \n",
              "\n",
              "              insult  identity_hate  \n",
              "count  159571.000000  159571.000000  \n",
              "mean        0.049364       0.008805  \n",
              "std         0.216627       0.093420  \n",
              "min         0.000000       0.000000  \n",
              "25%         0.000000       0.000000  \n",
              "50%         0.000000       0.000000  \n",
              "75%         0.000000       0.000000  \n",
              "max         1.000000       1.000000  "
            ],
            "text/html": [
              "\n",
              "  <div id=\"df-59e9a94a-3d5d-41ee-ae84-03f3c5e5d48a\">\n",
              "    <div class=\"colab-df-container\">\n",
              "      <div>\n",
              "<style scoped>\n",
              "    .dataframe tbody tr th:only-of-type {\n",
              "        vertical-align: middle;\n",
              "    }\n",
              "\n",
              "    .dataframe tbody tr th {\n",
              "        vertical-align: top;\n",
              "    }\n",
              "\n",
              "    .dataframe thead th {\n",
              "        text-align: right;\n",
              "    }\n",
              "</style>\n",
              "<table border=\"1\" class=\"dataframe\">\n",
              "  <thead>\n",
              "    <tr style=\"text-align: right;\">\n",
              "      <th></th>\n",
              "      <th>toxic</th>\n",
              "      <th>severe_toxic</th>\n",
              "      <th>obscene</th>\n",
              "      <th>threat</th>\n",
              "      <th>insult</th>\n",
              "      <th>identity_hate</th>\n",
              "    </tr>\n",
              "  </thead>\n",
              "  <tbody>\n",
              "    <tr>\n",
              "      <th>count</th>\n",
              "      <td>159571.000000</td>\n",
              "      <td>159571.000000</td>\n",
              "      <td>159571.000000</td>\n",
              "      <td>159571.000000</td>\n",
              "      <td>159571.000000</td>\n",
              "      <td>159571.000000</td>\n",
              "    </tr>\n",
              "    <tr>\n",
              "      <th>mean</th>\n",
              "      <td>0.095844</td>\n",
              "      <td>0.009996</td>\n",
              "      <td>0.052948</td>\n",
              "      <td>0.002996</td>\n",
              "      <td>0.049364</td>\n",
              "      <td>0.008805</td>\n",
              "    </tr>\n",
              "    <tr>\n",
              "      <th>std</th>\n",
              "      <td>0.294379</td>\n",
              "      <td>0.099477</td>\n",
              "      <td>0.223931</td>\n",
              "      <td>0.054650</td>\n",
              "      <td>0.216627</td>\n",
              "      <td>0.093420</td>\n",
              "    </tr>\n",
              "    <tr>\n",
              "      <th>min</th>\n",
              "      <td>0.000000</td>\n",
              "      <td>0.000000</td>\n",
              "      <td>0.000000</td>\n",
              "      <td>0.000000</td>\n",
              "      <td>0.000000</td>\n",
              "      <td>0.000000</td>\n",
              "    </tr>\n",
              "    <tr>\n",
              "      <th>25%</th>\n",
              "      <td>0.000000</td>\n",
              "      <td>0.000000</td>\n",
              "      <td>0.000000</td>\n",
              "      <td>0.000000</td>\n",
              "      <td>0.000000</td>\n",
              "      <td>0.000000</td>\n",
              "    </tr>\n",
              "    <tr>\n",
              "      <th>50%</th>\n",
              "      <td>0.000000</td>\n",
              "      <td>0.000000</td>\n",
              "      <td>0.000000</td>\n",
              "      <td>0.000000</td>\n",
              "      <td>0.000000</td>\n",
              "      <td>0.000000</td>\n",
              "    </tr>\n",
              "    <tr>\n",
              "      <th>75%</th>\n",
              "      <td>0.000000</td>\n",
              "      <td>0.000000</td>\n",
              "      <td>0.000000</td>\n",
              "      <td>0.000000</td>\n",
              "      <td>0.000000</td>\n",
              "      <td>0.000000</td>\n",
              "    </tr>\n",
              "    <tr>\n",
              "      <th>max</th>\n",
              "      <td>1.000000</td>\n",
              "      <td>1.000000</td>\n",
              "      <td>1.000000</td>\n",
              "      <td>1.000000</td>\n",
              "      <td>1.000000</td>\n",
              "      <td>1.000000</td>\n",
              "    </tr>\n",
              "  </tbody>\n",
              "</table>\n",
              "</div>\n",
              "      <button class=\"colab-df-convert\" onclick=\"convertToInteractive('df-59e9a94a-3d5d-41ee-ae84-03f3c5e5d48a')\"\n",
              "              title=\"Convert this dataframe to an interactive table.\"\n",
              "              style=\"display:none;\">\n",
              "        \n",
              "  <svg xmlns=\"http://www.w3.org/2000/svg\" height=\"24px\"viewBox=\"0 0 24 24\"\n",
              "       width=\"24px\">\n",
              "    <path d=\"M0 0h24v24H0V0z\" fill=\"none\"/>\n",
              "    <path d=\"M18.56 5.44l.94 2.06.94-2.06 2.06-.94-2.06-.94-.94-2.06-.94 2.06-2.06.94zm-11 1L8.5 8.5l.94-2.06 2.06-.94-2.06-.94L8.5 2.5l-.94 2.06-2.06.94zm10 10l.94 2.06.94-2.06 2.06-.94-2.06-.94-.94-2.06-.94 2.06-2.06.94z\"/><path d=\"M17.41 7.96l-1.37-1.37c-.4-.4-.92-.59-1.43-.59-.52 0-1.04.2-1.43.59L10.3 9.45l-7.72 7.72c-.78.78-.78 2.05 0 2.83L4 21.41c.39.39.9.59 1.41.59.51 0 1.02-.2 1.41-.59l7.78-7.78 2.81-2.81c.8-.78.8-2.07 0-2.86zM5.41 20L4 18.59l7.72-7.72 1.47 1.35L5.41 20z\"/>\n",
              "  </svg>\n",
              "      </button>\n",
              "      \n",
              "  <style>\n",
              "    .colab-df-container {\n",
              "      display:flex;\n",
              "      flex-wrap:wrap;\n",
              "      gap: 12px;\n",
              "    }\n",
              "\n",
              "    .colab-df-convert {\n",
              "      background-color: #E8F0FE;\n",
              "      border: none;\n",
              "      border-radius: 50%;\n",
              "      cursor: pointer;\n",
              "      display: none;\n",
              "      fill: #1967D2;\n",
              "      height: 32px;\n",
              "      padding: 0 0 0 0;\n",
              "      width: 32px;\n",
              "    }\n",
              "\n",
              "    .colab-df-convert:hover {\n",
              "      background-color: #E2EBFA;\n",
              "      box-shadow: 0px 1px 2px rgba(60, 64, 67, 0.3), 0px 1px 3px 1px rgba(60, 64, 67, 0.15);\n",
              "      fill: #174EA6;\n",
              "    }\n",
              "\n",
              "    [theme=dark] .colab-df-convert {\n",
              "      background-color: #3B4455;\n",
              "      fill: #D2E3FC;\n",
              "    }\n",
              "\n",
              "    [theme=dark] .colab-df-convert:hover {\n",
              "      background-color: #434B5C;\n",
              "      box-shadow: 0px 1px 3px 1px rgba(0, 0, 0, 0.15);\n",
              "      filter: drop-shadow(0px 1px 2px rgba(0, 0, 0, 0.3));\n",
              "      fill: #FFFFFF;\n",
              "    }\n",
              "  </style>\n",
              "\n",
              "      <script>\n",
              "        const buttonEl =\n",
              "          document.querySelector('#df-59e9a94a-3d5d-41ee-ae84-03f3c5e5d48a button.colab-df-convert');\n",
              "        buttonEl.style.display =\n",
              "          google.colab.kernel.accessAllowed ? 'block' : 'none';\n",
              "\n",
              "        async function convertToInteractive(key) {\n",
              "          const element = document.querySelector('#df-59e9a94a-3d5d-41ee-ae84-03f3c5e5d48a');\n",
              "          const dataTable =\n",
              "            await google.colab.kernel.invokeFunction('convertToInteractive',\n",
              "                                                     [key], {});\n",
              "          if (!dataTable) return;\n",
              "\n",
              "          const docLinkHtml = 'Like what you see? Visit the ' +\n",
              "            '<a target=\"_blank\" href=https://colab.research.google.com/notebooks/data_table.ipynb>data table notebook</a>'\n",
              "            + ' to learn more about interactive tables.';\n",
              "          element.innerHTML = '';\n",
              "          dataTable['output_type'] = 'display_data';\n",
              "          await google.colab.output.renderOutput(dataTable, element);\n",
              "          const docLink = document.createElement('div');\n",
              "          docLink.innerHTML = docLinkHtml;\n",
              "          element.appendChild(docLink);\n",
              "        }\n",
              "      </script>\n",
              "    </div>\n",
              "  </div>\n",
              "  "
            ]
          },
          "metadata": {},
          "execution_count": 5
        }
      ]
    },
    {
      "cell_type": "code",
      "source": [
        "data.info()"
      ],
      "metadata": {
        "colab": {
          "base_uri": "https://localhost:8080/"
        },
        "id": "6q-YGfv-Rrc7",
        "outputId": "58259019-081c-44e3-8146-adcff57672ea"
      },
      "execution_count": null,
      "outputs": [
        {
          "output_type": "stream",
          "name": "stdout",
          "text": [
            "<class 'pandas.core.frame.DataFrame'>\n",
            "RangeIndex: 159571 entries, 0 to 159570\n",
            "Data columns (total 8 columns):\n",
            " #   Column         Non-Null Count   Dtype \n",
            "---  ------         --------------   ----- \n",
            " 0   id             159571 non-null  object\n",
            " 1   comment_text   159571 non-null  object\n",
            " 2   toxic          159571 non-null  int64 \n",
            " 3   severe_toxic   159571 non-null  int64 \n",
            " 4   obscene        159571 non-null  int64 \n",
            " 5   threat         159571 non-null  int64 \n",
            " 6   insult         159571 non-null  int64 \n",
            " 7   identity_hate  159571 non-null  int64 \n",
            "dtypes: int64(6), object(2)\n",
            "memory usage: 9.7+ MB\n"
          ]
        }
      ]
    },
    {
      "cell_type": "code",
      "execution_count": null,
      "metadata": {
        "colab": {
          "base_uri": "https://localhost:8080/",
          "height": 468
        },
        "id": "f0MBTAcBVpGJ",
        "outputId": "fbb2de6c-dfd5-46d2-ba03-fb345a468b24"
      },
      "outputs": [
        {
          "output_type": "display_data",
          "data": {
            "text/plain": [
              "<Figure size 1000x500 with 1 Axes>"
            ],
            "image/png": "[encoded data removed]"
          },
          "metadata": {}
        }
      ],
      "source": [
        "plt.figure(figsize = (10,5))\n",
        "plt.subplot(1,1,1)\n",
        "data['toxic'].hist(bins = 100)\n",
        "plt.title('Toxic histogram')\n",
        "plt.show()"
      ]
    },
    {
      "cell_type": "code",
      "execution_count": null,
      "metadata": {
        "colab": {
          "base_uri": "https://localhost:8080/",
          "height": 468
        },
        "id": "PMGtODdvVuTo",
        "outputId": "af74e3c4-ffae-4076-ad62-ad41054d38bc"
      },
      "outputs": [
        {
          "output_type": "display_data",
          "data": {
            "text/plain": [
              "<Figure size 1000x500 with 1 Axes>"
            ],
            "image/png": "[encoded data removed]"
          },
          "metadata": {}
        }
      ],
      "source": [
        "plt.figure(figsize = (10,5))\n",
        "plt.subplot(1,1,1)\n",
        "data['severe_toxic'].hist(bins = 100)\n",
        "plt.title('Severe toxic histogram')\n",
        "plt.show()"
      ]
    },
    {
      "cell_type": "code",
      "execution_count": null,
      "metadata": {
        "colab": {
          "base_uri": "https://localhost:8080/",
          "height": 468
        },
        "id": "TB7QhoobVv9K",
        "outputId": "d093dc7e-d815-44c9-f44e-d17145d33cfa"
      },
      "outputs": [
        {
          "output_type": "display_data",
          "data": {
            "text/plain": [
              "<Figure size 1000x500 with 1 Axes>"
            ],
            "image/png": "[encoded data removed]"
          },
          "metadata": {}
        }
      ],
      "source": [
        "plt.figure(figsize = (10,5))\n",
        "plt.subplot(1,1,1)\n",
        "data['obscene'].hist(bins = 100)\n",
        "plt.title('Obscene histogram')\n",
        "plt.show()"
      ]
    },
    {
      "cell_type": "code",
      "execution_count": null,
      "metadata": {
        "colab": {
          "base_uri": "https://localhost:8080/",
          "height": 468
        },
        "id": "yJv44pLgVxkO",
        "outputId": "9b3da8b8-7140-46d5-dc95-777b903b85f7"
      },
      "outputs": [
        {
          "output_type": "display_data",
          "data": {
            "text/plain": [
              "<Figure size 1000x500 with 1 Axes>"
            ],
            "image/png": "[encoded data removed]"
          },
          "metadata": {}
        }
      ],
      "source": [
        "plt.figure(figsize = (10,5))\n",
        "plt.subplot(1,1,1)\n",
        "data['threat'].hist(bins = 100)\n",
        "plt.title('Threat histogram')\n",
        "plt.show()"
      ]
    },
    {
      "cell_type": "code",
      "execution_count": null,
      "metadata": {
        "colab": {
          "base_uri": "https://localhost:8080/",
          "height": 468
        },
        "id": "yljpR_YDV0Yi",
        "outputId": "3de6275b-63c9-41b9-cf94-2d3d97c40d06"
      },
      "outputs": [
        {
          "output_type": "display_data",
          "data": {
            "text/plain": [
              "<Figure size 1000x500 with 1 Axes>"
            ],
            "image/png": "[encoded data removed]"
          },
          "metadata": {}
        }
      ],
      "source": [
        "plt.figure(figsize = (10,5))\n",
        "plt.subplot(1,1,1)\n",
        "data['insult'].hist(bins = 100)\n",
        "plt.title('Insult histogram')\n",
        "plt.show()"
      ]
    },
    {
      "cell_type": "code",
      "execution_count": null,
      "metadata": {
        "colab": {
          "base_uri": "https://localhost:8080/",
          "height": 468
        },
        "id": "pDvp_Um3V2Qo",
        "outputId": "7e407325-91a2-42e1-9c53-63753f46fb47"
      },
      "outputs": [
        {
          "output_type": "display_data",
          "data": {
            "text/plain": [
              "<Figure size 1000x500 with 1 Axes>"
            ],
            "image/png": "[encoded data removed]"
          },
          "metadata": {}
        }
      ],
      "source": [
        "plt.figure(figsize = (10,5))\n",
        "plt.subplot(1,1,1)\n",
        "data['identity_hate'].hist(bins = 100)\n",
        "plt.title('identity hate histogram')\n",
        "plt.show()"
      ]
    },
    {
      "cell_type": "code",
      "execution_count": null,
      "metadata": {
        "colab": {
          "base_uri": "https://localhost:8080/",
          "height": 1000
        },
        "id": "T5xWOdd0WCRZ",
        "outputId": "a93e6464-bf89-4313-fc9f-84e4f7bf5495"
      },
      "outputs": [
        {
          "output_type": "stream",
          "name": "stdout",
          "text": [
            "*************************toxic\n"
          ]
        },
        {
          "output_type": "display_data",
          "data": {
            "text/plain": [
              "                                             comment_text  toxic\n",
              "111296                           Fuck shit kwa kwa kwa!!!      1\n",
              "47476                       I got refresh 4 times faggot.      1\n",
              "130045  From the lead onwards the page refers to chips...      1\n",
              "129827                              This bitch is a cunt!      1\n",
              "130151  \"Mayormcgeez; I find reasoning with this guy i...      1\n",
              "110964  THEY SHOULD DIE\\nAND PLEASE NOTE TOO THAT\\nbus...      1\n",
              "115238                               Stop biasing my face      1\n",
              "31756   (UTC)\\nChrist what a dumb question.21:37, 31 D...      1\n",
              "102888  Okay, then he isn't an idiot, just a dense per...      1\n",
              "11646   hey you deleted your bio and stuff, that kinda...      1"
            ],
            "text/html": [
              "\n",
              "  <div id=\"df-ac467fc7-4a44-430b-a9a4-598c47a6438f\">\n",
              "    <div class=\"colab-df-container\">\n",
              "      <div>\n",
              "<style scoped>\n",
              "    .dataframe tbody tr th:only-of-type {\n",
              "        vertical-align: middle;\n",
              "    }\n",
              "\n",
              "    .dataframe tbody tr th {\n",
              "        vertical-align: top;\n",
              "    }\n",
              "\n",
              "    .dataframe thead th {\n",
              "        text-align: right;\n",
              "    }\n",
              "</style>\n",
              "<table border=\"1\" class=\"dataframe\">\n",
              "  <thead>\n",
              "    <tr style=\"text-align: right;\">\n",
              "      <th></th>\n",
              "      <th>comment_text</th>\n",
              "      <th>toxic</th>\n",
              "    </tr>\n",
              "  </thead>\n",
              "  <tbody>\n",
              "    <tr>\n",
              "      <th>111296</th>\n",
              "      <td>Fuck shit kwa kwa kwa!!!</td>\n",
              "      <td>1</td>\n",
              "    </tr>\n",
              "    <tr>\n",
              "      <th>47476</th>\n",
              "      <td>I got refresh 4 times faggot.</td>\n",
              "      <td>1</td>\n",
              "    </tr>\n",
              "    <tr>\n",
              "      <th>130045</th>\n",
              "      <td>From the lead onwards the page refers to chips...</td>\n",
              "      <td>1</td>\n",
              "    </tr>\n",
              "    <tr>\n",
              "      <th>129827</th>\n",
              "      <td>This bitch is a cunt!</td>\n",
              "      <td>1</td>\n",
              "    </tr>\n",
              "    <tr>\n",
              "      <th>130151</th>\n",
              "      <td>\"Mayormcgeez; I find reasoning with this guy i...</td>\n",
              "      <td>1</td>\n",
              "    </tr>\n",
              "    <tr>\n",
              "      <th>110964</th>\n",
              "      <td>THEY SHOULD DIE\\nAND PLEASE NOTE TOO THAT\\nbus...</td>\n",
              "      <td>1</td>\n",
              "    </tr>\n",
              "    <tr>\n",
              "      <th>115238</th>\n",
              "      <td>Stop biasing my face</td>\n",
              "      <td>1</td>\n",
              "    </tr>\n",
              "    <tr>\n",
              "      <th>31756</th>\n",
              "      <td>(UTC)\\nChrist what a dumb question.21:37, 31 D...</td>\n",
              "      <td>1</td>\n",
              "    </tr>\n",
              "    <tr>\n",
              "      <th>102888</th>\n",
              "      <td>Okay, then he isn't an idiot, just a dense per...</td>\n",
              "      <td>1</td>\n",
              "    </tr>\n",
              "    <tr>\n",
              "      <th>11646</th>\n",
              "      <td>hey you deleted your bio and stuff, that kinda...</td>\n",
              "      <td>1</td>\n",
              "    </tr>\n",
              "  </tbody>\n",
              "</table>\n",
              "</div>\n",
              "      <button class=\"colab-df-convert\" onclick=\"convertToInteractive('df-ac467fc7-4a44-430b-a9a4-598c47a6438f')\"\n",
              "              title=\"Convert this dataframe to an interactive table.\"\n",
              "              style=\"display:none;\">\n",
              "        \n",
              "  <svg xmlns=\"http://www.w3.org/2000/svg\" height=\"24px\"viewBox=\"0 0 24 24\"\n",
              "       width=\"24px\">\n",
              "    <path d=\"M0 0h24v24H0V0z\" fill=\"none\"/>\n",
              "    <path d=\"M18.56 5.44l.94 2.06.94-2.06 2.06-.94-2.06-.94-.94-2.06-.94 2.06-2.06.94zm-11 1L8.5 8.5l.94-2.06 2.06-.94-2.06-.94L8.5 2.5l-.94 2.06-2.06.94zm10 10l.94 2.06.94-2.06 2.06-.94-2.06-.94-.94-2.06-.94 2.06-2.06.94z\"/><path d=\"M17.41 7.96l-1.37-1.37c-.4-.4-.92-.59-1.43-.59-.52 0-1.04.2-1.43.59L10.3 9.45l-7.72 7.72c-.78.78-.78 2.05 0 2.83L4 21.41c.39.39.9.59 1.41.59.51 0 1.02-.2 1.41-.59l7.78-7.78 2.81-2.81c.8-.78.8-2.07 0-2.86zM5.41 20L4 18.59l7.72-7.72 1.47 1.35L5.41 20z\"/>\n",
              "  </svg>\n",
              "      </button>\n",
              "      \n",
              "  <style>\n",
              "    .colab-df-container {\n",
              "      display:flex;\n",
              "      flex-wrap:wrap;\n",
              "      gap: 12px;\n",
              "    }\n",
              "\n",
              "    .colab-df-convert {\n",
              "      background-color: #E8F0FE;\n",
              "      border: none;\n",
              "      border-radius: 50%;\n",
              "      cursor: pointer;\n",
              "      display: none;\n",
              "      fill: #1967D2;\n",
              "      height: 32px;\n",
              "      padding: 0 0 0 0;\n",
              "      width: 32px;\n",
              "    }\n",
              "\n",
              "    .colab-df-convert:hover {\n",
              "      background-color: #E2EBFA;\n",
              "      box-shadow: 0px 1px 2px rgba(60, 64, 67, 0.3), 0px 1px 3px 1px rgba(60, 64, 67, 0.15);\n",
              "      fill: #174EA6;\n",
              "    }\n",
              "\n",
              "    [theme=dark] .colab-df-convert {\n",
              "      background-color: #3B4455;\n",
              "      fill: #D2E3FC;\n",
              "    }\n",
              "\n",
              "    [theme=dark] .colab-df-convert:hover {\n",
              "      background-color: #434B5C;\n",
              "      box-shadow: 0px 1px 3px 1px rgba(0, 0, 0, 0.15);\n",
              "      filter: drop-shadow(0px 1px 2px rgba(0, 0, 0, 0.3));\n",
              "      fill: #FFFFFF;\n",
              "    }\n",
              "  </style>\n",
              "\n",
              "      <script>\n",
              "        const buttonEl =\n",
              "          document.querySelector('#df-ac467fc7-4a44-430b-a9a4-598c47a6438f button.colab-df-convert');\n",
              "        buttonEl.style.display =\n",
              "          google.colab.kernel.accessAllowed ? 'block' : 'none';\n",
              "\n",
              "        async function convertToInteractive(key) {\n",
              "          const element = document.querySelector('#df-ac467fc7-4a44-430b-a9a4-598c47a6438f');\n",
              "          const dataTable =\n",
              "            await google.colab.kernel.invokeFunction('convertToInteractive',\n",
              "                                                     [key], {});\n",
              "          if (!dataTable) return;\n",
              "\n",
              "          const docLinkHtml = 'Like what you see? Visit the ' +\n",
              "            '<a target=\"_blank\" href=https://colab.research.google.com/notebooks/data_table.ipynb>data table notebook</a>'\n",
              "            + ' to learn more about interactive tables.';\n",
              "          element.innerHTML = '';\n",
              "          dataTable['output_type'] = 'display_data';\n",
              "          await google.colab.output.renderOutput(dataTable, element);\n",
              "          const docLink = document.createElement('div');\n",
              "          docLink.innerHTML = docLinkHtml;\n",
              "          element.appendChild(docLink);\n",
              "        }\n",
              "      </script>\n",
              "    </div>\n",
              "  </div>\n",
              "  "
            ]
          },
          "metadata": {}
        },
        {
          "output_type": "stream",
          "name": "stdout",
          "text": [
            "*************************severe_toxic\n"
          ]
        },
        {
          "output_type": "display_data",
          "data": {
            "text/plain": [
              "                                             comment_text  severe_toxic\n",
              "32135        fuck you wikipedia, you are a bunch of fags!             1\n",
              "96120                        FUCK YOU, YOU RACIST ASSHOLE             1\n",
              "76607                              you smell of pig shit,             1\n",
              "99436   I tell you what, why don't YOU FUCK OFF, you c...             1\n",
              "105316                               FUCK U BASTARD(TURD)             1\n",
              "21546                           you suck donkey balls fag             1\n",
              "76164   Bloody asshole \\n\\nYou are a bloody asshole an...             1\n",
              "112503  Stupid fuck, it's on the script, I also posted...             1\n",
              "102529  You're an asshole.\\nYou're an asshole.\\nYou're...             1\n",
              "110875  For fuck's sake just fucking stop you spastic!...             1"
            ],
            "text/html": [
              "\n",
              "  <div id=\"df-e839e45b-ec4e-40cd-b79a-a76ba6c79538\">\n",
              "    <div class=\"colab-df-container\">\n",
              "      <div>\n",
              "<style scoped>\n",
              "    .dataframe tbody tr th:only-of-type {\n",
              "        vertical-align: middle;\n",
              "    }\n",
              "\n",
              "    .dataframe tbody tr th {\n",
              "        vertical-align: top;\n",
              "    }\n",
              "\n",
              "    .dataframe thead th {\n",
              "        text-align: right;\n",
              "    }\n",
              "</style>\n",
              "<table border=\"1\" class=\"dataframe\">\n",
              "  <thead>\n",
              "    <tr style=\"text-align: right;\">\n",
              "      <th></th>\n",
              "      <th>comment_text</th>\n",
              "      <th>severe_toxic</th>\n",
              "    </tr>\n",
              "  </thead>\n",
              "  <tbody>\n",
              "    <tr>\n",
              "      <th>32135</th>\n",
              "      <td>fuck you wikipedia, you are a bunch of fags!</td>\n",
              "      <td>1</td>\n",
              "    </tr>\n",
              "    <tr>\n",
              "      <th>96120</th>\n",
              "      <td>FUCK YOU, YOU RACIST ASSHOLE</td>\n",
              "      <td>1</td>\n",
              "    </tr>\n",
              "    <tr>\n",
              "      <th>76607</th>\n",
              "      <td>you smell of pig shit,</td>\n",
              "      <td>1</td>\n",
              "    </tr>\n",
              "    <tr>\n",
              "      <th>99436</th>\n",
              "      <td>I tell you what, why don't YOU FUCK OFF, you c...</td>\n",
              "      <td>1</td>\n",
              "    </tr>\n",
              "    <tr>\n",
              "      <th>105316</th>\n",
              "      <td>FUCK U BASTARD(TURD)</td>\n",
              "      <td>1</td>\n",
              "    </tr>\n",
              "    <tr>\n",
              "      <th>21546</th>\n",
              "      <td>you suck donkey balls fag</td>\n",
              "      <td>1</td>\n",
              "    </tr>\n",
              "    <tr>\n",
              "      <th>76164</th>\n",
              "      <td>Bloody asshole \\n\\nYou are a bloody asshole an...</td>\n",
              "      <td>1</td>\n",
              "    </tr>\n",
              "    <tr>\n",
              "      <th>112503</th>\n",
              "      <td>Stupid fuck, it's on the script, I also posted...</td>\n",
              "      <td>1</td>\n",
              "    </tr>\n",
              "    <tr>\n",
              "      <th>102529</th>\n",
              "      <td>You're an asshole.\\nYou're an asshole.\\nYou're...</td>\n",
              "      <td>1</td>\n",
              "    </tr>\n",
              "    <tr>\n",
              "      <th>110875</th>\n",
              "      <td>For fuck's sake just fucking stop you spastic!...</td>\n",
              "      <td>1</td>\n",
              "    </tr>\n",
              "  </tbody>\n",
              "</table>\n",
              "</div>\n",
              "      <button class=\"colab-df-convert\" onclick=\"convertToInteractive('df-e839e45b-ec4e-40cd-b79a-a76ba6c79538')\"\n",
              "              title=\"Convert this dataframe to an interactive table.\"\n",
              "              style=\"display:none;\">\n",
              "        \n",
              "  <svg xmlns=\"http://www.w3.org/2000/svg\" height=\"24px\"viewBox=\"0 0 24 24\"\n",
              "       width=\"24px\">\n",
              "    <path d=\"M0 0h24v24H0V0z\" fill=\"none\"/>\n",
              "    <path d=\"M18.56 5.44l.94 2.06.94-2.06 2.06-.94-2.06-.94-.94-2.06-.94 2.06-2.06.94zm-11 1L8.5 8.5l.94-2.06 2.06-.94-2.06-.94L8.5 2.5l-.94 2.06-2.06.94zm10 10l.94 2.06.94-2.06 2.06-.94-2.06-.94-.94-2.06-.94 2.06-2.06.94z\"/><path d=\"M17.41 7.96l-1.37-1.37c-.4-.4-.92-.59-1.43-.59-.52 0-1.04.2-1.43.59L10.3 9.45l-7.72 7.72c-.78.78-.78 2.05 0 2.83L4 21.41c.39.39.9.59 1.41.59.51 0 1.02-.2 1.41-.59l7.78-7.78 2.81-2.81c.8-.78.8-2.07 0-2.86zM5.41 20L4 18.59l7.72-7.72 1.47 1.35L5.41 20z\"/>\n",
              "  </svg>\n",
              "      </button>\n",
              "      \n",
              "  <style>\n",
              "    .colab-df-container {\n",
              "      display:flex;\n",
              "      flex-wrap:wrap;\n",
              "      gap: 12px;\n",
              "    }\n",
              "\n",
              "    .colab-df-convert {\n",
              "      background-color: #E8F0FE;\n",
              "      border: none;\n",
              "      border-radius: 50%;\n",
              "      cursor: pointer;\n",
              "      display: none;\n",
              "      fill: #1967D2;\n",
              "      height: 32px;\n",
              "      padding: 0 0 0 0;\n",
              "      width: 32px;\n",
              "    }\n",
              "\n",
              "    .colab-df-convert:hover {\n",
              "      background-color: #E2EBFA;\n",
              "      box-shadow: 0px 1px 2px rgba(60, 64, 67, 0.3), 0px 1px 3px 1px rgba(60, 64, 67, 0.15);\n",
              "      fill: #174EA6;\n",
              "    }\n",
              "\n",
              "    [theme=dark] .colab-df-convert {\n",
              "      background-color: #3B4455;\n",
              "      fill: #D2E3FC;\n",
              "    }\n",
              "\n",
              "    [theme=dark] .colab-df-convert:hover {\n",
              "      background-color: #434B5C;\n",
              "      box-shadow: 0px 1px 3px 1px rgba(0, 0, 0, 0.15);\n",
              "      filter: drop-shadow(0px 1px 2px rgba(0, 0, 0, 0.3));\n",
              "      fill: #FFFFFF;\n",
              "    }\n",
              "  </style>\n",
              "\n",
              "      <script>\n",
              "        const buttonEl =\n",
              "          document.querySelector('#df-e839e45b-ec4e-40cd-b79a-a76ba6c79538 button.colab-df-convert');\n",
              "        buttonEl.style.display =\n",
              "          google.colab.kernel.accessAllowed ? 'block' : 'none';\n",
              "\n",
              "        async function convertToInteractive(key) {\n",
              "          const element = document.querySelector('#df-e839e45b-ec4e-40cd-b79a-a76ba6c79538');\n",
              "          const dataTable =\n",
              "            await google.colab.kernel.invokeFunction('convertToInteractive',\n",
              "                                                     [key], {});\n",
              "          if (!dataTable) return;\n",
              "\n",
              "          const docLinkHtml = 'Like what you see? Visit the ' +\n",
              "            '<a target=\"_blank\" href=https://colab.research.google.com/notebooks/data_table.ipynb>data table notebook</a>'\n",
              "            + ' to learn more about interactive tables.';\n",
              "          element.innerHTML = '';\n",
              "          dataTable['output_type'] = 'display_data';\n",
              "          await google.colab.output.renderOutput(dataTable, element);\n",
              "          const docLink = document.createElement('div');\n",
              "          docLink.innerHTML = docLinkHtml;\n",
              "          element.appendChild(docLink);\n",
              "        }\n",
              "      </script>\n",
              "    </div>\n",
              "  </div>\n",
              "  "
            ]
          },
          "metadata": {}
        },
        {
          "output_type": "stream",
          "name": "stdout",
          "text": [
            "*************************obscene\n"
          ]
        },
        {
          "output_type": "display_data",
          "data": {
            "text/plain": [
              "                                             comment_text  obscene\n",
              "60718   \"\\n\\n You bitch \\n\\nYou son of a bitch!You are...        1\n",
              "70102                           Hey, Olyeller:  Fuck off.        1\n",
              "112135  Why don't you GO TO HELL, how's that fool!  I ...        1\n",
              "52322   You stupid Chinese Wannabe \\n\\nIf you're Vietn...        1\n",
              "45718   Okay okay I see. There's a protocol. \\n\\nOh, o...        1\n",
              "144206                 FisherQueen can suck my hard cock!        1\n",
              "102881  I did'nt vandalize anything. Faggot. 166.248.6...        1\n",
              "114035        , you dummy.\\n\\nThe man above me is correct        1\n",
              "138331  \"\\n\\n A cup of cum for you! \\n\\n  DRINK IT ALL...        1\n",
              "2154    Look you little cocksucker. I did nothing wron...        1"
            ],
            "text/html": [
              "\n",
              "  <div id=\"df-17814d65-a2e6-4b01-9935-2bff05c87fc8\">\n",
              "    <div class=\"colab-df-container\">\n",
              "      <div>\n",
              "<style scoped>\n",
              "    .dataframe tbody tr th:only-of-type {\n",
              "        vertical-align: middle;\n",
              "    }\n",
              "\n",
              "    .dataframe tbody tr th {\n",
              "        vertical-align: top;\n",
              "    }\n",
              "\n",
              "    .dataframe thead th {\n",
              "        text-align: right;\n",
              "    }\n",
              "</style>\n",
              "<table border=\"1\" class=\"dataframe\">\n",
              "  <thead>\n",
              "    <tr style=\"text-align: right;\">\n",
              "      <th></th>\n",
              "      <th>comment_text</th>\n",
              "      <th>obscene</th>\n",
              "    </tr>\n",
              "  </thead>\n",
              "  <tbody>\n",
              "    <tr>\n",
              "      <th>60718</th>\n",
              "      <td>\"\\n\\n You bitch \\n\\nYou son of a bitch!You are...</td>\n",
              "      <td>1</td>\n",
              "    </tr>\n",
              "    <tr>\n",
              "      <th>70102</th>\n",
              "      <td>Hey, Olyeller:  Fuck off.</td>\n",
              "      <td>1</td>\n",
              "    </tr>\n",
              "    <tr>\n",
              "      <th>112135</th>\n",
              "      <td>Why don't you GO TO HELL, how's that fool!  I ...</td>\n",
              "      <td>1</td>\n",
              "    </tr>\n",
              "    <tr>\n",
              "      <th>52322</th>\n",
              "      <td>You stupid Chinese Wannabe \\n\\nIf you're Vietn...</td>\n",
              "      <td>1</td>\n",
              "    </tr>\n",
              "    <tr>\n",
              "      <th>45718</th>\n",
              "      <td>Okay okay I see. There's a protocol. \\n\\nOh, o...</td>\n",
              "      <td>1</td>\n",
              "    </tr>\n",
              "    <tr>\n",
              "      <th>144206</th>\n",
              "      <td>FisherQueen can suck my hard cock!</td>\n",
              "      <td>1</td>\n",
              "    </tr>\n",
              "    <tr>\n",
              "      <th>102881</th>\n",
              "      <td>I did'nt vandalize anything. Faggot. 166.248.6...</td>\n",
              "      <td>1</td>\n",
              "    </tr>\n",
              "    <tr>\n",
              "      <th>114035</th>\n",
              "      <td>, you dummy.\\n\\nThe man above me is correct</td>\n",
              "      <td>1</td>\n",
              "    </tr>\n",
              "    <tr>\n",
              "      <th>138331</th>\n",
              "      <td>\"\\n\\n A cup of cum for you! \\n\\n  DRINK IT ALL...</td>\n",
              "      <td>1</td>\n",
              "    </tr>\n",
              "    <tr>\n",
              "      <th>2154</th>\n",
              "      <td>Look you little cocksucker. I did nothing wron...</td>\n",
              "      <td>1</td>\n",
              "    </tr>\n",
              "  </tbody>\n",
              "</table>\n",
              "</div>\n",
              "      <button class=\"colab-df-convert\" onclick=\"convertToInteractive('df-17814d65-a2e6-4b01-9935-2bff05c87fc8')\"\n",
              "              title=\"Convert this dataframe to an interactive table.\"\n",
              "              style=\"display:none;\">\n",
              "        \n",
              "  <svg xmlns=\"http://www.w3.org/2000/svg\" height=\"24px\"viewBox=\"0 0 24 24\"\n",
              "       width=\"24px\">\n",
              "    <path d=\"M0 0h24v24H0V0z\" fill=\"none\"/>\n",
              "    <path d=\"M18.56 5.44l.94 2.06.94-2.06 2.06-.94-2.06-.94-.94-2.06-.94 2.06-2.06.94zm-11 1L8.5 8.5l.94-2.06 2.06-.94-2.06-.94L8.5 2.5l-.94 2.06-2.06.94zm10 10l.94 2.06.94-2.06 2.06-.94-2.06-.94-.94-2.06-.94 2.06-2.06.94z\"/><path d=\"M17.41 7.96l-1.37-1.37c-.4-.4-.92-.59-1.43-.59-.52 0-1.04.2-1.43.59L10.3 9.45l-7.72 7.72c-.78.78-.78 2.05 0 2.83L4 21.41c.39.39.9.59 1.41.59.51 0 1.02-.2 1.41-.59l7.78-7.78 2.81-2.81c.8-.78.8-2.07 0-2.86zM5.41 20L4 18.59l7.72-7.72 1.47 1.35L5.41 20z\"/>\n",
              "  </svg>\n",
              "      </button>\n",
              "      \n",
              "  <style>\n",
              "    .colab-df-container {\n",
              "      display:flex;\n",
              "      flex-wrap:wrap;\n",
              "      gap: 12px;\n",
              "    }\n",
              "\n",
              "    .colab-df-convert {\n",
              "      background-color: #E8F0FE;\n",
              "      border: none;\n",
              "      border-radius: 50%;\n",
              "      cursor: pointer;\n",
              "      display: none;\n",
              "      fill: #1967D2;\n",
              "      height: 32px;\n",
              "      padding: 0 0 0 0;\n",
              "      width: 32px;\n",
              "    }\n",
              "\n",
              "    .colab-df-convert:hover {\n",
              "      background-color: #E2EBFA;\n",
              "      box-shadow: 0px 1px 2px rgba(60, 64, 67, 0.3), 0px 1px 3px 1px rgba(60, 64, 67, 0.15);\n",
              "      fill: #174EA6;\n",
              "    }\n",
              "\n",
              "    [theme=dark] .colab-df-convert {\n",
              "      background-color: #3B4455;\n",
              "      fill: #D2E3FC;\n",
              "    }\n",
              "\n",
              "    [theme=dark] .colab-df-convert:hover {\n",
              "      background-color: #434B5C;\n",
              "      box-shadow: 0px 1px 3px 1px rgba(0, 0, 0, 0.15);\n",
              "      filter: drop-shadow(0px 1px 2px rgba(0, 0, 0, 0.3));\n",
              "      fill: #FFFFFF;\n",
              "    }\n",
              "  </style>\n",
              "\n",
              "      <script>\n",
              "        const buttonEl =\n",
              "          document.querySelector('#df-17814d65-a2e6-4b01-9935-2bff05c87fc8 button.colab-df-convert');\n",
              "        buttonEl.style.display =\n",
              "          google.colab.kernel.accessAllowed ? 'block' : 'none';\n",
              "\n",
              "        async function convertToInteractive(key) {\n",
              "          const element = document.querySelector('#df-17814d65-a2e6-4b01-9935-2bff05c87fc8');\n",
              "          const dataTable =\n",
              "            await google.colab.kernel.invokeFunction('convertToInteractive',\n",
              "                                                     [key], {});\n",
              "          if (!dataTable) return;\n",
              "\n",
              "          const docLinkHtml = 'Like what you see? Visit the ' +\n",
              "            '<a target=\"_blank\" href=https://colab.research.google.com/notebooks/data_table.ipynb>data table notebook</a>'\n",
              "            + ' to learn more about interactive tables.';\n",
              "          element.innerHTML = '';\n",
              "          dataTable['output_type'] = 'display_data';\n",
              "          await google.colab.output.renderOutput(dataTable, element);\n",
              "          const docLink = document.createElement('div');\n",
              "          docLink.innerHTML = docLinkHtml;\n",
              "          element.appendChild(docLink);\n",
              "        }\n",
              "      </script>\n",
              "    </div>\n",
              "  </div>\n",
              "  "
            ]
          },
          "metadata": {}
        },
        {
          "output_type": "stream",
          "name": "stdout",
          "text": [
            "*************************threat\n"
          ]
        },
        {
          "output_type": "display_data",
          "data": {
            "text/plain": [
              "                                             comment_text  threat\n",
              "136178  what the hell man? why did you delete my page ...       1\n",
              "9650    That's it. Remember last time you fucked with ...       1\n",
              "13886   You're welcome and I'm gonna vandalize every s...       1\n",
              "37408   \"\\n\\n RE: NAIR!!! \\n\\nSorry Karl, I wasn't abl...       1\n",
              "72331   To BongWarrior, Listen you fuckface, maybe you...       1\n",
              "91224                you just wait \\n\\nyour death is near       1\n",
              "126328  Burn In Hell Paulley \\nEvery time I try to edi...       1\n",
              "49200   I'm going to punch you in the ovaries \\n\\nThat...       1\n",
              "25588   SLEEP WITH ME OR I WILL FUCKING KILL YOU AND B...       1\n",
              "156708  Abey Chutiyaay wikipedian. \\n\\nOye..\\n\\nLudayy...       1"
            ],
            "text/html": [
              "\n",
              "  <div id=\"df-ad472c1a-5395-4a3d-a1ac-76521a4e2d44\">\n",
              "    <div class=\"colab-df-container\">\n",
              "      <div>\n",
              "<style scoped>\n",
              "    .dataframe tbody tr th:only-of-type {\n",
              "        vertical-align: middle;\n",
              "    }\n",
              "\n",
              "    .dataframe tbody tr th {\n",
              "        vertical-align: top;\n",
              "    }\n",
              "\n",
              "    .dataframe thead th {\n",
              "        text-align: right;\n",
              "    }\n",
              "</style>\n",
              "<table border=\"1\" class=\"dataframe\">\n",
              "  <thead>\n",
              "    <tr style=\"text-align: right;\">\n",
              "      <th></th>\n",
              "      <th>comment_text</th>\n",
              "      <th>threat</th>\n",
              "    </tr>\n",
              "  </thead>\n",
              "  <tbody>\n",
              "    <tr>\n",
              "      <th>136178</th>\n",
              "      <td>what the hell man? why did you delete my page ...</td>\n",
              "      <td>1</td>\n",
              "    </tr>\n",
              "    <tr>\n",
              "      <th>9650</th>\n",
              "      <td>That's it. Remember last time you fucked with ...</td>\n",
              "      <td>1</td>\n",
              "    </tr>\n",
              "    <tr>\n",
              "      <th>13886</th>\n",
              "      <td>You're welcome and I'm gonna vandalize every s...</td>\n",
              "      <td>1</td>\n",
              "    </tr>\n",
              "    <tr>\n",
              "      <th>37408</th>\n",
              "      <td>\"\\n\\n RE: NAIR!!! \\n\\nSorry Karl, I wasn't abl...</td>\n",
              "      <td>1</td>\n",
              "    </tr>\n",
              "    <tr>\n",
              "      <th>72331</th>\n",
              "      <td>To BongWarrior, Listen you fuckface, maybe you...</td>\n",
              "      <td>1</td>\n",
              "    </tr>\n",
              "    <tr>\n",
              "      <th>91224</th>\n",
              "      <td>you just wait \\n\\nyour death is near</td>\n",
              "      <td>1</td>\n",
              "    </tr>\n",
              "    <tr>\n",
              "      <th>126328</th>\n",
              "      <td>Burn In Hell Paulley \\nEvery time I try to edi...</td>\n",
              "      <td>1</td>\n",
              "    </tr>\n",
              "    <tr>\n",
              "      <th>49200</th>\n",
              "      <td>I'm going to punch you in the ovaries \\n\\nThat...</td>\n",
              "      <td>1</td>\n",
              "    </tr>\n",
              "    <tr>\n",
              "      <th>25588</th>\n",
              "      <td>SLEEP WITH ME OR I WILL FUCKING KILL YOU AND B...</td>\n",
              "      <td>1</td>\n",
              "    </tr>\n",
              "    <tr>\n",
              "      <th>156708</th>\n",
              "      <td>Abey Chutiyaay wikipedian. \\n\\nOye..\\n\\nLudayy...</td>\n",
              "      <td>1</td>\n",
              "    </tr>\n",
              "  </tbody>\n",
              "</table>\n",
              "</div>\n",
              "      <button class=\"colab-df-convert\" onclick=\"convertToInteractive('df-ad472c1a-5395-4a3d-a1ac-76521a4e2d44')\"\n",
              "              title=\"Convert this dataframe to an interactive table.\"\n",
              "              style=\"display:none;\">\n",
              "        \n",
              "  <svg xmlns=\"http://www.w3.org/2000/svg\" height=\"24px\"viewBox=\"0 0 24 24\"\n",
              "       width=\"24px\">\n",
              "    <path d=\"M0 0h24v24H0V0z\" fill=\"none\"/>\n",
              "    <path d=\"M18.56 5.44l.94 2.06.94-2.06 2.06-.94-2.06-.94-.94-2.06-.94 2.06-2.06.94zm-11 1L8.5 8.5l.94-2.06 2.06-.94-2.06-.94L8.5 2.5l-.94 2.06-2.06.94zm10 10l.94 2.06.94-2.06 2.06-.94-2.06-.94-.94-2.06-.94 2.06-2.06.94z\"/><path d=\"M17.41 7.96l-1.37-1.37c-.4-.4-.92-.59-1.43-.59-.52 0-1.04.2-1.43.59L10.3 9.45l-7.72 7.72c-.78.78-.78 2.05 0 2.83L4 21.41c.39.39.9.59 1.41.59.51 0 1.02-.2 1.41-.59l7.78-7.78 2.81-2.81c.8-.78.8-2.07 0-2.86zM5.41 20L4 18.59l7.72-7.72 1.47 1.35L5.41 20z\"/>\n",
              "  </svg>\n",
              "      </button>\n",
              "      \n",
              "  <style>\n",
              "    .colab-df-container {\n",
              "      display:flex;\n",
              "      flex-wrap:wrap;\n",
              "      gap: 12px;\n",
              "    }\n",
              "\n",
              "    .colab-df-convert {\n",
              "      background-color: #E8F0FE;\n",
              "      border: none;\n",
              "      border-radius: 50%;\n",
              "      cursor: pointer;\n",
              "      display: none;\n",
              "      fill: #1967D2;\n",
              "      height: 32px;\n",
              "      padding: 0 0 0 0;\n",
              "      width: 32px;\n",
              "    }\n",
              "\n",
              "    .colab-df-convert:hover {\n",
              "      background-color: #E2EBFA;\n",
              "      box-shadow: 0px 1px 2px rgba(60, 64, 67, 0.3), 0px 1px 3px 1px rgba(60, 64, 67, 0.15);\n",
              "      fill: #174EA6;\n",
              "    }\n",
              "\n",
              "    [theme=dark] .colab-df-convert {\n",
              "      background-color: #3B4455;\n",
              "      fill: #D2E3FC;\n",
              "    }\n",
              "\n",
              "    [theme=dark] .colab-df-convert:hover {\n",
              "      background-color: #434B5C;\n",
              "      box-shadow: 0px 1px 3px 1px rgba(0, 0, 0, 0.15);\n",
              "      filter: drop-shadow(0px 1px 2px rgba(0, 0, 0, 0.3));\n",
              "      fill: #FFFFFF;\n",
              "    }\n",
              "  </style>\n",
              "\n",
              "      <script>\n",
              "        const buttonEl =\n",
              "          document.querySelector('#df-ad472c1a-5395-4a3d-a1ac-76521a4e2d44 button.colab-df-convert');\n",
              "        buttonEl.style.display =\n",
              "          google.colab.kernel.accessAllowed ? 'block' : 'none';\n",
              "\n",
              "        async function convertToInteractive(key) {\n",
              "          const element = document.querySelector('#df-ad472c1a-5395-4a3d-a1ac-76521a4e2d44');\n",
              "          const dataTable =\n",
              "            await google.colab.kernel.invokeFunction('convertToInteractive',\n",
              "                                                     [key], {});\n",
              "          if (!dataTable) return;\n",
              "\n",
              "          const docLinkHtml = 'Like what you see? Visit the ' +\n",
              "            '<a target=\"_blank\" href=https://colab.research.google.com/notebooks/data_table.ipynb>data table notebook</a>'\n",
              "            + ' to learn more about interactive tables.';\n",
              "          element.innerHTML = '';\n",
              "          dataTable['output_type'] = 'display_data';\n",
              "          await google.colab.output.renderOutput(dataTable, element);\n",
              "          const docLink = document.createElement('div');\n",
              "          docLink.innerHTML = docLinkHtml;\n",
              "          element.appendChild(docLink);\n",
              "        }\n",
              "      </script>\n",
              "    </div>\n",
              "  </div>\n",
              "  "
            ]
          },
          "metadata": {}
        },
        {
          "output_type": "stream",
          "name": "stdout",
          "text": [
            "*************************insult\n"
          ]
        },
        {
          "output_type": "display_data",
          "data": {
            "text/plain": [
              "                                             comment_text  insult\n",
              "141998  I did provide a source you fucking dumbass, an...       1\n",
              "116038  Stop \\n\\nWhen you know you're too stupid to un...       1\n",
              "33917   Halfway decent map of what? You stupid cock-su...       1\n",
              "28408   FUCKYOU \\n\\nwow,just wow james delenoy. u are ...       1\n",
              "29146   Where the fuck is the printer toner you stupid...       1\n",
              "40319   stop your bullshit you don't have the ps3 nor ...       1\n",
              "1910    My side of the story\\n\\nAttention, douchebags ...       1\n",
              "8070    \"\\nARE YOU FUCKING RETARDED?\\n  TAB\\n\\nPlease ...       1\n",
              "93396   \"\\n\\nAnd western reports are? You're a biased ...       1\n",
              "130250     Good job really, as you're obviously an idiot.       1"
            ],
            "text/html": [
              "\n",
              "  <div id=\"df-5a682f38-8f3f-4a19-954d-6925930b9cd0\">\n",
              "    <div class=\"colab-df-container\">\n",
              "      <div>\n",
              "<style scoped>\n",
              "    .dataframe tbody tr th:only-of-type {\n",
              "        vertical-align: middle;\n",
              "    }\n",
              "\n",
              "    .dataframe tbody tr th {\n",
              "        vertical-align: top;\n",
              "    }\n",
              "\n",
              "    .dataframe thead th {\n",
              "        text-align: right;\n",
              "    }\n",
              "</style>\n",
              "<table border=\"1\" class=\"dataframe\">\n",
              "  <thead>\n",
              "    <tr style=\"text-align: right;\">\n",
              "      <th></th>\n",
              "      <th>comment_text</th>\n",
              "      <th>insult</th>\n",
              "    </tr>\n",
              "  </thead>\n",
              "  <tbody>\n",
              "    <tr>\n",
              "      <th>141998</th>\n",
              "      <td>I did provide a source you fucking dumbass, an...</td>\n",
              "      <td>1</td>\n",
              "    </tr>\n",
              "    <tr>\n",
              "      <th>116038</th>\n",
              "      <td>Stop \\n\\nWhen you know you're too stupid to un...</td>\n",
              "      <td>1</td>\n",
              "    </tr>\n",
              "    <tr>\n",
              "      <th>33917</th>\n",
              "      <td>Halfway decent map of what? You stupid cock-su...</td>\n",
              "      <td>1</td>\n",
              "    </tr>\n",
              "    <tr>\n",
              "      <th>28408</th>\n",
              "      <td>FUCKYOU \\n\\nwow,just wow james delenoy. u are ...</td>\n",
              "      <td>1</td>\n",
              "    </tr>\n",
              "    <tr>\n",
              "      <th>29146</th>\n",
              "      <td>Where the fuck is the printer toner you stupid...</td>\n",
              "      <td>1</td>\n",
              "    </tr>\n",
              "    <tr>\n",
              "      <th>40319</th>\n",
              "      <td>stop your bullshit you don't have the ps3 nor ...</td>\n",
              "      <td>1</td>\n",
              "    </tr>\n",
              "    <tr>\n",
              "      <th>1910</th>\n",
              "      <td>My side of the story\\n\\nAttention, douchebags ...</td>\n",
              "      <td>1</td>\n",
              "    </tr>\n",
              "    <tr>\n",
              "      <th>8070</th>\n",
              "      <td>\"\\nARE YOU FUCKING RETARDED?\\n  TAB\\n\\nPlease ...</td>\n",
              "      <td>1</td>\n",
              "    </tr>\n",
              "    <tr>\n",
              "      <th>93396</th>\n",
              "      <td>\"\\n\\nAnd western reports are? You're a biased ...</td>\n",
              "      <td>1</td>\n",
              "    </tr>\n",
              "    <tr>\n",
              "      <th>130250</th>\n",
              "      <td>Good job really, as you're obviously an idiot.</td>\n",
              "      <td>1</td>\n",
              "    </tr>\n",
              "  </tbody>\n",
              "</table>\n",
              "</div>\n",
              "      <button class=\"colab-df-convert\" onclick=\"convertToInteractive('df-5a682f38-8f3f-4a19-954d-6925930b9cd0')\"\n",
              "              title=\"Convert this dataframe to an interactive table.\"\n",
              "              style=\"display:none;\">\n",
              "        \n",
              "  <svg xmlns=\"http://www.w3.org/2000/svg\" height=\"24px\"viewBox=\"0 0 24 24\"\n",
              "       width=\"24px\">\n",
              "    <path d=\"M0 0h24v24H0V0z\" fill=\"none\"/>\n",
              "    <path d=\"M18.56 5.44l.94 2.06.94-2.06 2.06-.94-2.06-.94-.94-2.06-.94 2.06-2.06.94zm-11 1L8.5 8.5l.94-2.06 2.06-.94-2.06-.94L8.5 2.5l-.94 2.06-2.06.94zm10 10l.94 2.06.94-2.06 2.06-.94-2.06-.94-.94-2.06-.94 2.06-2.06.94z\"/><path d=\"M17.41 7.96l-1.37-1.37c-.4-.4-.92-.59-1.43-.59-.52 0-1.04.2-1.43.59L10.3 9.45l-7.72 7.72c-.78.78-.78 2.05 0 2.83L4 21.41c.39.39.9.59 1.41.59.51 0 1.02-.2 1.41-.59l7.78-7.78 2.81-2.81c.8-.78.8-2.07 0-2.86zM5.41 20L4 18.59l7.72-7.72 1.47 1.35L5.41 20z\"/>\n",
              "  </svg>\n",
              "      </button>\n",
              "      \n",
              "  <style>\n",
              "    .colab-df-container {\n",
              "      display:flex;\n",
              "      flex-wrap:wrap;\n",
              "      gap: 12px;\n",
              "    }\n",
              "\n",
              "    .colab-df-convert {\n",
              "      background-color: #E8F0FE;\n",
              "      border: none;\n",
              "      border-radius: 50%;\n",
              "      cursor: pointer;\n",
              "      display: none;\n",
              "      fill: #1967D2;\n",
              "      height: 32px;\n",
              "      padding: 0 0 0 0;\n",
              "      width: 32px;\n",
              "    }\n",
              "\n",
              "    .colab-df-convert:hover {\n",
              "      background-color: #E2EBFA;\n",
              "      box-shadow: 0px 1px 2px rgba(60, 64, 67, 0.3), 0px 1px 3px 1px rgba(60, 64, 67, 0.15);\n",
              "      fill: #174EA6;\n",
              "    }\n",
              "\n",
              "    [theme=dark] .colab-df-convert {\n",
              "      background-color: #3B4455;\n",
              "      fill: #D2E3FC;\n",
              "    }\n",
              "\n",
              "    [theme=dark] .colab-df-convert:hover {\n",
              "      background-color: #434B5C;\n",
              "      box-shadow: 0px 1px 3px 1px rgba(0, 0, 0, 0.15);\n",
              "      filter: drop-shadow(0px 1px 2px rgba(0, 0, 0, 0.3));\n",
              "      fill: #FFFFFF;\n",
              "    }\n",
              "  </style>\n",
              "\n",
              "      <script>\n",
              "        const buttonEl =\n",
              "          document.querySelector('#df-5a682f38-8f3f-4a19-954d-6925930b9cd0 button.colab-df-convert');\n",
              "        buttonEl.style.display =\n",
              "          google.colab.kernel.accessAllowed ? 'block' : 'none';\n",
              "\n",
              "        async function convertToInteractive(key) {\n",
              "          const element = document.querySelector('#df-5a682f38-8f3f-4a19-954d-6925930b9cd0');\n",
              "          const dataTable =\n",
              "            await google.colab.kernel.invokeFunction('convertToInteractive',\n",
              "                                                     [key], {});\n",
              "          if (!dataTable) return;\n",
              "\n",
              "          const docLinkHtml = 'Like what you see? Visit the ' +\n",
              "            '<a target=\"_blank\" href=https://colab.research.google.com/notebooks/data_table.ipynb>data table notebook</a>'\n",
              "            + ' to learn more about interactive tables.';\n",
              "          element.innerHTML = '';\n",
              "          dataTable['output_type'] = 'display_data';\n",
              "          await google.colab.output.renderOutput(dataTable, element);\n",
              "          const docLink = document.createElement('div');\n",
              "          docLink.innerHTML = docLinkHtml;\n",
              "          element.appendChild(docLink);\n",
              "        }\n",
              "      </script>\n",
              "    </div>\n",
              "  </div>\n",
              "  "
            ]
          },
          "metadata": {}
        },
        {
          "output_type": "stream",
          "name": "stdout",
          "text": [
            "*************************identity_hate\n"
          ]
        },
        {
          "output_type": "display_data",
          "data": {
            "text/plain": [
              "                                             comment_text  identity_hate\n",
              "154338  Islam is racist it kills people that resist it...              1\n",
              "148551  \"u are a fucking wanker!!!! There was no fucke...              1\n",
              "18973              H YOU NEGROS WIKI USERS LIKE AREASEVEN              1\n",
              "153663  How could the capital of Israel not be part of...              1\n",
              "4267    HOLD ON! ive got something to say to u. FUK U!...              1\n",
              "22378   I fuck niggas! I fuck niggas! I fuck niggas! I...              1\n",
              "133720  Pedofile \\n\\nYou are one. I hope you and your ...              1\n",
              "116767  Go fuck yourself!!! you fucking delteted it an...              1\n",
              "148368  FUCK YOU Ckatz you are german Cock sucker and ...              1\n",
              "110115                    homosexuals are all pedophiles.              1"
            ],
            "text/html": [
              "\n",
              "  <div id=\"df-da49b837-b511-4880-8064-cd45db319e44\">\n",
              "    <div class=\"colab-df-container\">\n",
              "      <div>\n",
              "<style scoped>\n",
              "    .dataframe tbody tr th:only-of-type {\n",
              "        vertical-align: middle;\n",
              "    }\n",
              "\n",
              "    .dataframe tbody tr th {\n",
              "        vertical-align: top;\n",
              "    }\n",
              "\n",
              "    .dataframe thead th {\n",
              "        text-align: right;\n",
              "    }\n",
              "</style>\n",
              "<table border=\"1\" class=\"dataframe\">\n",
              "  <thead>\n",
              "    <tr style=\"text-align: right;\">\n",
              "      <th></th>\n",
              "      <th>comment_text</th>\n",
              "      <th>identity_hate</th>\n",
              "    </tr>\n",
              "  </thead>\n",
              "  <tbody>\n",
              "    <tr>\n",
              "      <th>154338</th>\n",
              "      <td>Islam is racist it kills people that resist it...</td>\n",
              "      <td>1</td>\n",
              "    </tr>\n",
              "    <tr>\n",
              "      <th>148551</th>\n",
              "      <td>\"u are a fucking wanker!!!! There was no fucke...</td>\n",
              "      <td>1</td>\n",
              "    </tr>\n",
              "    <tr>\n",
              "      <th>18973</th>\n",
              "      <td>H YOU NEGROS WIKI USERS LIKE AREASEVEN</td>\n",
              "      <td>1</td>\n",
              "    </tr>\n",
              "    <tr>\n",
              "      <th>153663</th>\n",
              "      <td>How could the capital of Israel not be part of...</td>\n",
              "      <td>1</td>\n",
              "    </tr>\n",
              "    <tr>\n",
              "      <th>4267</th>\n",
              "      <td>HOLD ON! ive got something to say to u. FUK U!...</td>\n",
              "      <td>1</td>\n",
              "    </tr>\n",
              "    <tr>\n",
              "      <th>22378</th>\n",
              "      <td>I fuck niggas! I fuck niggas! I fuck niggas! I...</td>\n",
              "      <td>1</td>\n",
              "    </tr>\n",
              "    <tr>\n",
              "      <th>133720</th>\n",
              "      <td>Pedofile \\n\\nYou are one. I hope you and your ...</td>\n",
              "      <td>1</td>\n",
              "    </tr>\n",
              "    <tr>\n",
              "      <th>116767</th>\n",
              "      <td>Go fuck yourself!!! you fucking delteted it an...</td>\n",
              "      <td>1</td>\n",
              "    </tr>\n",
              "    <tr>\n",
              "      <th>148368</th>\n",
              "      <td>FUCK YOU Ckatz you are german Cock sucker and ...</td>\n",
              "      <td>1</td>\n",
              "    </tr>\n",
              "    <tr>\n",
              "      <th>110115</th>\n",
              "      <td>homosexuals are all pedophiles.</td>\n",
              "      <td>1</td>\n",
              "    </tr>\n",
              "  </tbody>\n",
              "</table>\n",
              "</div>\n",
              "      <button class=\"colab-df-convert\" onclick=\"convertToInteractive('df-da49b837-b511-4880-8064-cd45db319e44')\"\n",
              "              title=\"Convert this dataframe to an interactive table.\"\n",
              "              style=\"display:none;\">\n",
              "        \n",
              "  <svg xmlns=\"http://www.w3.org/2000/svg\" height=\"24px\"viewBox=\"0 0 24 24\"\n",
              "       width=\"24px\">\n",
              "    <path d=\"M0 0h24v24H0V0z\" fill=\"none\"/>\n",
              "    <path d=\"M18.56 5.44l.94 2.06.94-2.06 2.06-.94-2.06-.94-.94-2.06-.94 2.06-2.06.94zm-11 1L8.5 8.5l.94-2.06 2.06-.94-2.06-.94L8.5 2.5l-.94 2.06-2.06.94zm10 10l.94 2.06.94-2.06 2.06-.94-2.06-.94-.94-2.06-.94 2.06-2.06.94z\"/><path d=\"M17.41 7.96l-1.37-1.37c-.4-.4-.92-.59-1.43-.59-.52 0-1.04.2-1.43.59L10.3 9.45l-7.72 7.72c-.78.78-.78 2.05 0 2.83L4 21.41c.39.39.9.59 1.41.59.51 0 1.02-.2 1.41-.59l7.78-7.78 2.81-2.81c.8-.78.8-2.07 0-2.86zM5.41 20L4 18.59l7.72-7.72 1.47 1.35L5.41 20z\"/>\n",
              "  </svg>\n",
              "      </button>\n",
              "      \n",
              "  <style>\n",
              "    .colab-df-container {\n",
              "      display:flex;\n",
              "      flex-wrap:wrap;\n",
              "      gap: 12px;\n",
              "    }\n",
              "\n",
              "    .colab-df-convert {\n",
              "      background-color: #E8F0FE;\n",
              "      border: none;\n",
              "      border-radius: 50%;\n",
              "      cursor: pointer;\n",
              "      display: none;\n",
              "      fill: #1967D2;\n",
              "      height: 32px;\n",
              "      padding: 0 0 0 0;\n",
              "      width: 32px;\n",
              "    }\n",
              "\n",
              "    .colab-df-convert:hover {\n",
              "      background-color: #E2EBFA;\n",
              "      box-shadow: 0px 1px 2px rgba(60, 64, 67, 0.3), 0px 1px 3px 1px rgba(60, 64, 67, 0.15);\n",
              "      fill: #174EA6;\n",
              "    }\n",
              "\n",
              "    [theme=dark] .colab-df-convert {\n",
              "      background-color: #3B4455;\n",
              "      fill: #D2E3FC;\n",
              "    }\n",
              "\n",
              "    [theme=dark] .colab-df-convert:hover {\n",
              "      background-color: #434B5C;\n",
              "      box-shadow: 0px 1px 3px 1px rgba(0, 0, 0, 0.15);\n",
              "      filter: drop-shadow(0px 1px 2px rgba(0, 0, 0, 0.3));\n",
              "      fill: #FFFFFF;\n",
              "    }\n",
              "  </style>\n",
              "\n",
              "      <script>\n",
              "        const buttonEl =\n",
              "          document.querySelector('#df-da49b837-b511-4880-8064-cd45db319e44 button.colab-df-convert');\n",
              "        buttonEl.style.display =\n",
              "          google.colab.kernel.accessAllowed ? 'block' : 'none';\n",
              "\n",
              "        async function convertToInteractive(key) {\n",
              "          const element = document.querySelector('#df-da49b837-b511-4880-8064-cd45db319e44');\n",
              "          const dataTable =\n",
              "            await google.colab.kernel.invokeFunction('convertToInteractive',\n",
              "                                                     [key], {});\n",
              "          if (!dataTable) return;\n",
              "\n",
              "          const docLinkHtml = 'Like what you see? Visit the ' +\n",
              "            '<a target=\"_blank\" href=https://colab.research.google.com/notebooks/data_table.ipynb>data table notebook</a>'\n",
              "            + ' to learn more about interactive tables.';\n",
              "          element.innerHTML = '';\n",
              "          dataTable['output_type'] = 'display_data';\n",
              "          await google.colab.output.renderOutput(dataTable, element);\n",
              "          const docLink = document.createElement('div');\n",
              "          docLink.innerHTML = docLinkHtml;\n",
              "          element.appendChild(docLink);\n",
              "        }\n",
              "      </script>\n",
              "    </div>\n",
              "  </div>\n",
              "  "
            ]
          },
          "metadata": {}
        }
      ],
      "source": [
        "for col in ['toxic', 'severe_toxic', 'obscene', 'threat', 'insult', 'identity_hate']:\n",
        "    print(f'*************************{col}')\n",
        "    display(data.loc[data[col]==1,['comment_text',col]].sample(10))"
      ]
    },
    {
      "cell_type": "markdown",
      "metadata": {
        "id": "iBrwyHe6V6iJ"
      },
      "source": [
        "# Preprocessing"
      ]
    },
    {
      "cell_type": "code",
      "execution_count": null,
      "metadata": {
        "id": "BWEWajcPV4bE"
      },
      "outputs": [],
      "source": [
        "#drop id\n",
        "data = data.drop('id', axis = 1)"
      ]
    },
    {
      "cell_type": "code",
      "execution_count": null,
      "metadata": {
        "colab": {
          "base_uri": "https://localhost:8080/"
        },
        "id": "e3N7nXIsWAuv",
        "outputId": "4d5e1ed0-eaf4-44ed-e929-e4037bb95fc9"
      },
      "outputs": [
        {
          "output_type": "execute_result",
          "data": {
            "text/plain": [
              "0         False\n",
              "1         False\n",
              "2         False\n",
              "3         False\n",
              "4         False\n",
              "          ...  \n",
              "159566    False\n",
              "159567    False\n",
              "159568    False\n",
              "159569    False\n",
              "159570    False\n",
              "Length: 159571, dtype: bool"
            ]
          },
          "metadata": {},
          "execution_count": 104
        }
      ],
      "source": [
        "#check duplicate values\n",
        "duplicate = data.duplicated()\n",
        "duplicate"
      ]
    },
    {
      "cell_type": "code",
      "execution_count": null,
      "metadata": {
        "id": "BoaKP-i0WE_7"
      },
      "outputs": [],
      "source": [
        "stop = stopwords.words('english')"
      ]
    },
    {
      "cell_type": "code",
      "execution_count": null,
      "metadata": {
        "id": "O6W__SUZWHb7"
      },
      "outputs": [],
      "source": [
        "def clean(data, col):\n",
        "    \n",
        "    data[col] = data[col].str.replace(r\"what's\", \"what is \")    \n",
        "    data[col] = data[col].str.replace(r\"\\'ve\", \" have \")\n",
        "    data[col] = data[col].str.replace(r\"can't\", \"cannot \")\n",
        "    data[col] = data[col].str.replace(r\"n't\", \" not \")\n",
        "    data[col] = data[col].str.replace(r\"i'm\", \"i am \")\n",
        "    data[col] = data[col].str.replace(r\"\\'re\", \" are \")\n",
        "    data[col] = data[col].str.replace(r\"\\'d\", \" would \")\n",
        "    data[col] = data[col].str.replace(r\"\\'ll\", \" will \")\n",
        "    data[col] = data[col].str.replace(r\"\\'scuse\", \" excuse \")\n",
        "    data[col] = data[col].str.replace(r\"\\'s\", \" \")\n",
        "\n",
        "    # Clean some punctutations\n",
        "    data[col] = data[col].str.replace('\\n', ' \\n ')\n",
        "    data[col] = data[col].str.replace(r'([a-zA-Z]+)([/!?.])([a-zA-Z]+)',r'\\1 \\2 \\3')\n",
        "    # Replace repeating characters more than 3 times to length of 3\n",
        "    data[col] = data[col].str.replace(r'([*!?\\'])\\1\\1{2,}',r'\\1\\1\\1')    \n",
        "    # Add space around repeating characters\n",
        "    data[col] = data[col].str.replace(r'([*!?\\']+)',r' \\1 ')    \n",
        "    # patterns with repeating characters \n",
        "    data[col] = data[col].str.replace(r'([a-zA-Z])\\1{2,}\\b',r'\\1\\1')\n",
        "    data[col] = data[col].str.replace(r'([a-zA-Z])\\1\\1{2,}\\B',r'\\1\\1\\1')\n",
        "    data[col] = data[col].str.replace(r'[ ]{2,}',' ').str.strip()   \n",
        "    data[col] = data[col].str.replace(r'[ ]{2,}',' ').str.strip()   \n",
        "    data[col] = data[col].apply(lambda x: ' '.join([word for word in x.split() if word not in (stop)]))\n",
        "    \n",
        "    return data"
      ]
    },
    {
      "cell_type": "code",
      "execution_count": null,
      "metadata": {
        "colab": {
          "base_uri": "https://localhost:8080/"
        },
        "id": "slCRJqMTWJ58",
        "outputId": "196c0633-bbb2-4113-a453-a947b488e177"
      },
      "outputs": [
        {
          "output_type": "stream",
          "name": "stderr",
          "text": [
            "<ipython-input-106-b7176b744e24>:4: FutureWarning: The default value of regex will change from True to False in a future version.\n",
            "  data[col] = data[col].str.replace(r\"\\'ve\", \" have \")\n",
            "<ipython-input-106-b7176b744e24>:8: FutureWarning: The default value of regex will change from True to False in a future version.\n",
            "  data[col] = data[col].str.replace(r\"\\'re\", \" are \")\n",
            "<ipython-input-106-b7176b744e24>:9: FutureWarning: The default value of regex will change from True to False in a future version.\n",
            "  data[col] = data[col].str.replace(r\"\\'d\", \" would \")\n",
            "<ipython-input-106-b7176b744e24>:10: FutureWarning: The default value of regex will change from True to False in a future version.\n",
            "  data[col] = data[col].str.replace(r\"\\'ll\", \" will \")\n",
            "<ipython-input-106-b7176b744e24>:11: FutureWarning: The default value of regex will change from True to False in a future version.\n",
            "  data[col] = data[col].str.replace(r\"\\'scuse\", \" excuse \")\n",
            "<ipython-input-106-b7176b744e24>:12: FutureWarning: The default value of regex will change from True to False in a future version.\n",
            "  data[col] = data[col].str.replace(r\"\\'s\", \" \")\n",
            "<ipython-input-106-b7176b744e24>:16: FutureWarning: The default value of regex will change from True to False in a future version.\n",
            "  data[col] = data[col].str.replace(r'([a-zA-Z]+)([/!?.])([a-zA-Z]+)',r'\\1 \\2 \\3')\n",
            "<ipython-input-106-b7176b744e24>:18: FutureWarning: The default value of regex will change from True to False in a future version.\n",
            "  data[col] = data[col].str.replace(r'([*!?\\'])\\1\\1{2,}',r'\\1\\1\\1')\n",
            "<ipython-input-106-b7176b744e24>:20: FutureWarning: The default value of regex will change from True to False in a future version.\n",
            "  data[col] = data[col].str.replace(r'([*!?\\']+)',r' \\1 ')\n",
            "<ipython-input-106-b7176b744e24>:22: FutureWarning: The default value of regex will change from True to False in a future version.\n",
            "  data[col] = data[col].str.replace(r'([a-zA-Z])\\1{2,}\\b',r'\\1\\1')\n",
            "<ipython-input-106-b7176b744e24>:23: FutureWarning: The default value of regex will change from True to False in a future version.\n",
            "  data[col] = data[col].str.replace(r'([a-zA-Z])\\1\\1{2,}\\B',r'\\1\\1\\1')\n",
            "<ipython-input-106-b7176b744e24>:24: FutureWarning: The default value of regex will change from True to False in a future version.\n",
            "  data[col] = data[col].str.replace(r'[ ]{2,}',' ').str.strip()\n",
            "<ipython-input-106-b7176b744e24>:25: FutureWarning: The default value of regex will change from True to False in a future version.\n",
            "  data[col] = data[col].str.replace(r'[ ]{2,}',' ').str.strip()\n"
          ]
        }
      ],
      "source": [
        "data = clean(data, 'comment_text')"
      ]
    },
    {
      "cell_type": "code",
      "execution_count": null,
      "metadata": {
        "id": "9de2Gkw_WNCx"
      },
      "outputs": [],
      "source": [
        "#higher score for severe toxic, lower score for non-toxic label\n",
        "#calculate total score, append new colume to database include (total score) = probability of toxicity, boolean indicates toxicicty/ non-toxicity\n",
        "def score_label(data):\n",
        "  df = data\n",
        "  df['severe_toxic'] = df['severe_toxic']*2\n",
        "  col = ['obscene', 'threat', 'insult', 'identity_hate']\n",
        "  for i in col:\n",
        "    df[i] = 0.5*df[i]\n",
        "  df['probability'] =(df[['toxic', 'severe_toxic', 'obscene', 'threat', 'insult', 'identity_hate']].sum(axis=1) ).astype(int)\n",
        "  df['probability'] = df['probability']/df['probability'].max()\n",
        "  df['toxic indicator'] = df['toxic'] + df['severe_toxic']\n",
        "  return df\n",
        "\n"
      ]
    },
    {
      "cell_type": "code",
      "execution_count": null,
      "metadata": {
        "colab": {
          "base_uri": "https://localhost:8080/",
          "height": 423
        },
        "id": "3SfTNYU3WmTB",
        "outputId": "c75ae22e-2898-4c41-c51a-2ed130ac373c"
      },
      "outputs": [
        {
          "output_type": "execute_result",
          "data": {
            "text/plain": [
              "                                             comment_text  toxic  \\\n",
              "0       Explanation Why edits made username Hardcore M...      0   \n",
              "1       D ' aww ! He matches background colour I ' see...      0   \n",
              "2       Hey man, I ' really trying edit war. It guy co...      0   \n",
              "3       \" More I cannot make real suggestions improvem...      0   \n",
              "4              You, sir, hero. Any chance remember page ?      0   \n",
              "...                                                   ...    ...   \n",
              "159566  \":::::And second time asking, view completely ...      0   \n",
              "159567  You ashamed That horrible thing put talk page....      0   \n",
              "159568  Spitzer Umm, theres actual article prostitutio...      0   \n",
              "159569  And looks like actually put speedy first versi...      0   \n",
              "159570  \" And ... I really think understand. I came id...      0   \n",
              "\n",
              "        severe_toxic  obscene  threat  insult  identity_hate  probability  \\\n",
              "0                  0      0.0     0.0     0.0            0.0          0.0   \n",
              "1                  0      0.0     0.0     0.0            0.0          0.0   \n",
              "2                  0      0.0     0.0     0.0            0.0          0.0   \n",
              "3                  0      0.0     0.0     0.0            0.0          0.0   \n",
              "4                  0      0.0     0.0     0.0            0.0          0.0   \n",
              "...              ...      ...     ...     ...            ...          ...   \n",
              "159566             0      0.0     0.0     0.0            0.0          0.0   \n",
              "159567             0      0.0     0.0     0.0            0.0          0.0   \n",
              "159568             0      0.0     0.0     0.0            0.0          0.0   \n",
              "159569             0      0.0     0.0     0.0            0.0          0.0   \n",
              "159570             0      0.0     0.0     0.0            0.0          0.0   \n",
              "\n",
              "        toxic indicator  \n",
              "0                     0  \n",
              "1                     0  \n",
              "2                     0  \n",
              "3                     0  \n",
              "4                     0  \n",
              "...                 ...  \n",
              "159566                0  \n",
              "159567                0  \n",
              "159568                0  \n",
              "159569                0  \n",
              "159570                0  \n",
              "\n",
              "[159571 rows x 9 columns]"
            ],
            "text/html": [
              "\n",
              "  <div id=\"df-f2bc6dd5-4cfc-4690-affd-b021e4f1fef2\">\n",
              "    <div class=\"colab-df-container\">\n",
              "      <div>\n",
              "<style scoped>\n",
              "    .dataframe tbody tr th:only-of-type {\n",
              "        vertical-align: middle;\n",
              "    }\n",
              "\n",
              "    .dataframe tbody tr th {\n",
              "        vertical-align: top;\n",
              "    }\n",
              "\n",
              "    .dataframe thead th {\n",
              "        text-align: right;\n",
              "    }\n",
              "</style>\n",
              "<table border=\"1\" class=\"dataframe\">\n",
              "  <thead>\n",
              "    <tr style=\"text-align: right;\">\n",
              "      <th></th>\n",
              "      <th>comment_text</th>\n",
              "      <th>toxic</th>\n",
              "      <th>severe_toxic</th>\n",
              "      <th>obscene</th>\n",
              "      <th>threat</th>\n",
              "      <th>insult</th>\n",
              "      <th>identity_hate</th>\n",
              "      <th>probability</th>\n",
              "      <th>toxic indicator</th>\n",
              "    </tr>\n",
              "  </thead>\n",
              "  <tbody>\n",
              "    <tr>\n",
              "      <th>0</th>\n",
              "      <td>Explanation Why edits made username Hardcore M...</td>\n",
              "      <td>0</td>\n",
              "      <td>0</td>\n",
              "      <td>0.0</td>\n",
              "      <td>0.0</td>\n",
              "      <td>0.0</td>\n",
              "      <td>0.0</td>\n",
              "      <td>0.0</td>\n",
              "      <td>0</td>\n",
              "    </tr>\n",
              "    <tr>\n",
              "      <th>1</th>\n",
              "      <td>D ' aww ! He matches background colour I ' see...</td>\n",
              "      <td>0</td>\n",
              "      <td>0</td>\n",
              "      <td>0.0</td>\n",
              "      <td>0.0</td>\n",
              "      <td>0.0</td>\n",
              "      <td>0.0</td>\n",
              "      <td>0.0</td>\n",
              "      <td>0</td>\n",
              "    </tr>\n",
              "    <tr>\n",
              "      <th>2</th>\n",
              "      <td>Hey man, I ' really trying edit war. It guy co...</td>\n",
              "      <td>0</td>\n",
              "      <td>0</td>\n",
              "      <td>0.0</td>\n",
              "      <td>0.0</td>\n",
              "      <td>0.0</td>\n",
              "      <td>0.0</td>\n",
              "      <td>0.0</td>\n",
              "      <td>0</td>\n",
              "    </tr>\n",
              "    <tr>\n",
              "      <th>3</th>\n",
              "      <td>\" More I cannot make real suggestions improvem...</td>\n",
              "      <td>0</td>\n",
              "      <td>0</td>\n",
              "      <td>0.0</td>\n",
              "      <td>0.0</td>\n",
              "      <td>0.0</td>\n",
              "      <td>0.0</td>\n",
              "      <td>0.0</td>\n",
              "      <td>0</td>\n",
              "    </tr>\n",
              "    <tr>\n",
              "      <th>4</th>\n",
              "      <td>You, sir, hero. Any chance remember page ?</td>\n",
              "      <td>0</td>\n",
              "      <td>0</td>\n",
              "      <td>0.0</td>\n",
              "      <td>0.0</td>\n",
              "      <td>0.0</td>\n",
              "      <td>0.0</td>\n",
              "      <td>0.0</td>\n",
              "      <td>0</td>\n",
              "    </tr>\n",
              "    <tr>\n",
              "      <th>...</th>\n",
              "      <td>...</td>\n",
              "      <td>...</td>\n",
              "      <td>...</td>\n",
              "      <td>...</td>\n",
              "      <td>...</td>\n",
              "      <td>...</td>\n",
              "      <td>...</td>\n",
              "      <td>...</td>\n",
              "      <td>...</td>\n",
              "    </tr>\n",
              "    <tr>\n",
              "      <th>159566</th>\n",
              "      <td>\":::::And second time asking, view completely ...</td>\n",
              "      <td>0</td>\n",
              "      <td>0</td>\n",
              "      <td>0.0</td>\n",
              "      <td>0.0</td>\n",
              "      <td>0.0</td>\n",
              "      <td>0.0</td>\n",
              "      <td>0.0</td>\n",
              "      <td>0</td>\n",
              "    </tr>\n",
              "    <tr>\n",
              "      <th>159567</th>\n",
              "      <td>You ashamed That horrible thing put talk page....</td>\n",
              "      <td>0</td>\n",
              "      <td>0</td>\n",
              "      <td>0.0</td>\n",
              "      <td>0.0</td>\n",
              "      <td>0.0</td>\n",
              "      <td>0.0</td>\n",
              "      <td>0.0</td>\n",
              "      <td>0</td>\n",
              "    </tr>\n",
              "    <tr>\n",
              "      <th>159568</th>\n",
              "      <td>Spitzer Umm, theres actual article prostitutio...</td>\n",
              "      <td>0</td>\n",
              "      <td>0</td>\n",
              "      <td>0.0</td>\n",
              "      <td>0.0</td>\n",
              "      <td>0.0</td>\n",
              "      <td>0.0</td>\n",
              "      <td>0.0</td>\n",
              "      <td>0</td>\n",
              "    </tr>\n",
              "    <tr>\n",
              "      <th>159569</th>\n",
              "      <td>And looks like actually put speedy first versi...</td>\n",
              "      <td>0</td>\n",
              "      <td>0</td>\n",
              "      <td>0.0</td>\n",
              "      <td>0.0</td>\n",
              "      <td>0.0</td>\n",
              "      <td>0.0</td>\n",
              "      <td>0.0</td>\n",
              "      <td>0</td>\n",
              "    </tr>\n",
              "    <tr>\n",
              "      <th>159570</th>\n",
              "      <td>\" And ... I really think understand. I came id...</td>\n",
              "      <td>0</td>\n",
              "      <td>0</td>\n",
              "      <td>0.0</td>\n",
              "      <td>0.0</td>\n",
              "      <td>0.0</td>\n",
              "      <td>0.0</td>\n",
              "      <td>0.0</td>\n",
              "      <td>0</td>\n",
              "    </tr>\n",
              "  </tbody>\n",
              "</table>\n",
              "<p>159571 rows × 9 columns</p>\n",
              "</div>\n",
              "      <button class=\"colab-df-convert\" onclick=\"convertToInteractive('df-f2bc6dd5-4cfc-4690-affd-b021e4f1fef2')\"\n",
              "              title=\"Convert this dataframe to an interactive table.\"\n",
              "              style=\"display:none;\">\n",
              "        \n",
              "  <svg xmlns=\"http://www.w3.org/2000/svg\" height=\"24px\"viewBox=\"0 0 24 24\"\n",
              "       width=\"24px\">\n",
              "    <path d=\"M0 0h24v24H0V0z\" fill=\"none\"/>\n",
              "    <path d=\"M18.56 5.44l.94 2.06.94-2.06 2.06-.94-2.06-.94-.94-2.06-.94 2.06-2.06.94zm-11 1L8.5 8.5l.94-2.06 2.06-.94-2.06-.94L8.5 2.5l-.94 2.06-2.06.94zm10 10l.94 2.06.94-2.06 2.06-.94-2.06-.94-.94-2.06-.94 2.06-2.06.94z\"/><path d=\"M17.41 7.96l-1.37-1.37c-.4-.4-.92-.59-1.43-.59-.52 0-1.04.2-1.43.59L10.3 9.45l-7.72 7.72c-.78.78-.78 2.05 0 2.83L4 21.41c.39.39.9.59 1.41.59.51 0 1.02-.2 1.41-.59l7.78-7.78 2.81-2.81c.8-.78.8-2.07 0-2.86zM5.41 20L4 18.59l7.72-7.72 1.47 1.35L5.41 20z\"/>\n",
              "  </svg>\n",
              "      </button>\n",
              "      \n",
              "  <style>\n",
              "    .colab-df-container {\n",
              "      display:flex;\n",
              "      flex-wrap:wrap;\n",
              "      gap: 12px;\n",
              "    }\n",
              "\n",
              "    .colab-df-convert {\n",
              "      background-color: #E8F0FE;\n",
              "      border: none;\n",
              "      border-radius: 50%;\n",
              "      cursor: pointer;\n",
              "      display: none;\n",
              "      fill: #1967D2;\n",
              "      height: 32px;\n",
              "      padding: 0 0 0 0;\n",
              "      width: 32px;\n",
              "    }\n",
              "\n",
              "    .colab-df-convert:hover {\n",
              "      background-color: #E2EBFA;\n",
              "      box-shadow: 0px 1px 2px rgba(60, 64, 67, 0.3), 0px 1px 3px 1px rgba(60, 64, 67, 0.15);\n",
              "      fill: #174EA6;\n",
              "    }\n",
              "\n",
              "    [theme=dark] .colab-df-convert {\n",
              "      background-color: #3B4455;\n",
              "      fill: #D2E3FC;\n",
              "    }\n",
              "\n",
              "    [theme=dark] .colab-df-convert:hover {\n",
              "      background-color: #434B5C;\n",
              "      box-shadow: 0px 1px 3px 1px rgba(0, 0, 0, 0.15);\n",
              "      filter: drop-shadow(0px 1px 2px rgba(0, 0, 0, 0.3));\n",
              "      fill: #FFFFFF;\n",
              "    }\n",
              "  </style>\n",
              "\n",
              "      <script>\n",
              "        const buttonEl =\n",
              "          document.querySelector('#df-f2bc6dd5-4cfc-4690-affd-b021e4f1fef2 button.colab-df-convert');\n",
              "        buttonEl.style.display =\n",
              "          google.colab.kernel.accessAllowed ? 'block' : 'none';\n",
              "\n",
              "        async function convertToInteractive(key) {\n",
              "          const element = document.querySelector('#df-f2bc6dd5-4cfc-4690-affd-b021e4f1fef2');\n",
              "          const dataTable =\n",
              "            await google.colab.kernel.invokeFunction('convertToInteractive',\n",
              "                                                     [key], {});\n",
              "          if (!dataTable) return;\n",
              "\n",
              "          const docLinkHtml = 'Like what you see? Visit the ' +\n",
              "            '<a target=\"_blank\" href=https://colab.research.google.com/notebooks/data_table.ipynb>data table notebook</a>'\n",
              "            + ' to learn more about interactive tables.';\n",
              "          element.innerHTML = '';\n",
              "          dataTable['output_type'] = 'display_data';\n",
              "          await google.colab.output.renderOutput(dataTable, element);\n",
              "          const docLink = document.createElement('div');\n",
              "          docLink.innerHTML = docLinkHtml;\n",
              "          element.appendChild(docLink);\n",
              "        }\n",
              "      </script>\n",
              "    </div>\n",
              "  </div>\n",
              "  "
            ]
          },
          "metadata": {},
          "execution_count": 109
        }
      ],
      "source": [
        "score_label(data)"
      ]
    },
    {
      "cell_type": "code",
      "execution_count": null,
      "metadata": {
        "id": "PZJJFno5WosL"
      },
      "outputs": [],
      "source": [
        "#plit data\n",
        "# 0.2% test, 0.2% validation, 0.6% train\n",
        "from sklearn.model_selection import train_test_split\n",
        "train, test = train_test_split(data, test_size = 0.2)\n",
        "train, validation = train_test_split(train, test_size = 0.2)\n",
        "\n",
        "x_train, y_train = train[['comment_text']], train[['probability', 'toxic indicator']]\n",
        "x_validate, y_validate = validation[['comment_text']], validation[['probability', 'toxic indicator']]\n",
        "x_test, y_test = test[['comment_text']], test[['probability', 'toxic indicator']]"
      ]
    },
    {
      "cell_type": "code",
      "execution_count": null,
      "metadata": {
        "colab": {
          "base_uri": "https://localhost:8080/"
        },
        "id": "c8Ap5IiUWsQA",
        "outputId": "a9c31e3e-70d9-4066-8826-c7056b1d42a8"
      },
      "outputs": [
        {
          "output_type": "stream",
          "name": "stdout",
          "text": [
            "0.2\n",
            "0.2\n",
            "0.2\n",
            "0.2\n",
            "0.2\n",
            "0.2\n",
            "0.2\n",
            "0.2\n",
            "0.2\n",
            "0.2\n",
            "0.2\n",
            "0.2\n",
            "0.2\n",
            "0.2\n",
            "0.2\n",
            "0.2\n",
            "0.2\n",
            "0.2\n",
            "0.2\n",
            "0.2\n",
            "0.2\n",
            "0.2\n",
            "0.2\n",
            "0.2\n",
            "0.2\n",
            "0.2\n",
            "0.2\n",
            "0.2\n",
            "0.2\n",
            "0.2\n",
            "0.2\n",
            "0.2\n",
            "0.2\n",
            "0.2\n",
            "0.2\n",
            "0.2\n",
            "0.2\n",
            "0.2\n",
            "0.2\n",
            "0.2\n",
            "0.2\n",
            "0.2\n",
            "0.2\n",
            "0.2\n",
            "0.2\n",
            "0.2\n",
            "0.2\n",
            "0.2\n",
            "0.2\n",
            "0.2\n",
            "0.2\n",
            "0.2\n",
            "0.2\n",
            "0.2\n",
            "0.2\n",
            "0.2\n",
            "0.2\n",
            "0.2\n",
            "0.2\n",
            "0.2\n",
            "0.2\n",
            "0.2\n",
            "0.2\n",
            "0.2\n",
            "0.2\n",
            "0.2\n",
            "0.2\n",
            "0.2\n",
            "0.2\n",
            "0.2\n",
            "0.2\n",
            "0.2\n",
            "0.2\n",
            "0.2\n",
            "0.2\n",
            "0.2\n",
            "0.2\n",
            "0.2\n",
            "0.2\n",
            "0.2\n",
            "0.2\n",
            "0.2\n",
            "0.2\n",
            "0.2\n",
            "0.2\n",
            "0.2\n",
            "0.2\n",
            "0.2\n",
            "0.2\n",
            "0.2\n",
            "0.2\n",
            "0.2\n",
            "0.2\n",
            "0.2\n",
            "0.2\n",
            "0.2\n",
            "0.2\n",
            "0.2\n",
            "0.2\n",
            "0.2\n",
            "0.2\n",
            "0.2\n",
            "0.2\n",
            "0.2\n",
            "0.2\n",
            "0.2\n",
            "0.2\n",
            "0.2\n",
            "0.2\n",
            "0.2\n",
            "0.2\n",
            "0.2\n",
            "0.2\n",
            "0.2\n",
            "0.2\n",
            "0.2\n",
            "0.2\n",
            "0.2\n",
            "0.2\n",
            "0.2\n",
            "0.2\n",
            "0.2\n",
            "0.2\n",
            "0.2\n",
            "0.2\n",
            "0.2\n",
            "0.2\n",
            "0.2\n",
            "0.2\n",
            "0.2\n",
            "0.2\n",
            "0.2\n",
            "0.2\n",
            "0.2\n",
            "0.2\n",
            "0.2\n",
            "0.2\n",
            "0.2\n",
            "0.2\n",
            "0.2\n",
            "0.2\n",
            "0.2\n",
            "0.2\n",
            "0.2\n"
          ]
        }
      ],
      "source": [
        "#check the probability >0, but not indicated as toxic\n",
        "for i in range(len(y_train)):\n",
        "  if y_train.iloc[i][ \"toxic indicator\"] == 0:\n",
        "    if y_train.iloc[i][ 'probability'] >0:\n",
        "      print(y_train.iloc[i][ 'probability'])"
      ]
    },
    {
      "cell_type": "code",
      "execution_count": null,
      "metadata": {
        "id": "NaMuM8A-XDYB"
      },
      "outputs": [],
      "source": [
        "#convert the result in toxic indicator column to binary \n",
        "def binary_convert(data):\n",
        "  check = []\n",
        "  for i in range(len(data)):\n",
        "    if data.iloc[i]['toxic indicator']>=1:\n",
        "      check.append(1)\n",
        "    else:\n",
        "      check.append(0)\n",
        "  return check "
      ]
    },
    {
      "cell_type": "code",
      "execution_count": null,
      "metadata": {
        "id": "1mKjLFNpXeoE"
      },
      "outputs": [],
      "source": [
        "binary_y_train = binary_convert(y_train)\n",
        "binary_y_validate = binary_convert(y_validate)\n",
        "binary_y_test = binary_convert(y_test)"
      ]
    },
    {
      "cell_type": "code",
      "execution_count": null,
      "metadata": {
        "id": "bBGkwqVzXjBS"
      },
      "outputs": [],
      "source": [
        "#check if uppercase have any indicate in the data toxicity level\n",
        "def lengthUpperCase(data, result):\n",
        "  processed_data = list(data['comment_text'])\n",
        "  for i in range(len(processed_data)):\n",
        "    #print(i)\n",
        "    count = 0\n",
        "    #print(processed_data[i])\n",
        "    for char in processed_data[i]:\n",
        "      if char.isupper():\n",
        "        count = count +1\n",
        "    result.at[i,'length_uppercase']= count/len(processed_data[i])\n",
        "  return result"
      ]
    },
    {
      "cell_type": "code",
      "execution_count": null,
      "metadata": {
        "colab": {
          "base_uri": "https://localhost:8080/",
          "height": 614
        },
        "id": "q0F-q64LXnnR",
        "outputId": "3be74c52-e0d2-4da4-d994-00ecf4e65911"
      },
      "outputs": [
        {
          "output_type": "stream",
          "name": "stderr",
          "text": [
            "<ipython-input-114-ae1c0eeeffaa>:11: SettingWithCopyWarning: \n",
            "A value is trying to be set on a copy of a slice from a DataFrame.\n",
            "Try using .loc[row_indexer,col_indexer] = value instead\n",
            "\n",
            "See the caveats in the documentation: https://pandas.pydata.org/pandas-docs/stable/user_guide/indexing.html#returning-a-view-versus-a-copy\n",
            "  result.at[i,'length_uppercase']= count/len(processed_data[i])\n",
            "<ipython-input-114-ae1c0eeeffaa>:11: SettingWithCopyWarning: \n",
            "A value is trying to be set on a copy of a slice from a DataFrame\n",
            "\n",
            "See the caveats in the documentation: https://pandas.pydata.org/pandas-docs/stable/user_guide/indexing.html#returning-a-view-versus-a-copy\n",
            "  result.at[i,'length_uppercase']= count/len(processed_data[i])\n"
          ]
        },
        {
          "output_type": "execute_result",
          "data": {
            "text/plain": [
              "        probability  toxic indicator  length_uppercase\n",
              "6109            0.4              1.0          0.078431\n",
              "107476          0.0              0.0               NaN\n",
              "36364           0.0              0.0          0.031250\n",
              "109170          0.2              1.0               NaN\n",
              "111325          0.0              0.0               NaN\n",
              "...             ...              ...               ...\n",
              "102113          NaN              NaN          0.044547\n",
              "102116          NaN              NaN          0.049697\n",
              "102117          NaN              NaN          0.092000\n",
              "102119          NaN              NaN          0.060345\n",
              "102122          NaN              NaN          0.125000\n",
              "\n",
              "[138793 rows x 3 columns]"
            ],
            "text/html": [
              "\n",
              "  <div id=\"df-84f341e6-9b3b-4889-9458-f6031983f5dd\">\n",
              "    <div class=\"colab-df-container\">\n",
              "      <div>\n",
              "<style scoped>\n",
              "    .dataframe tbody tr th:only-of-type {\n",
              "        vertical-align: middle;\n",
              "    }\n",
              "\n",
              "    .dataframe tbody tr th {\n",
              "        vertical-align: top;\n",
              "    }\n",
              "\n",
              "    .dataframe thead th {\n",
              "        text-align: right;\n",
              "    }\n",
              "</style>\n",
              "<table border=\"1\" class=\"dataframe\">\n",
              "  <thead>\n",
              "    <tr style=\"text-align: right;\">\n",
              "      <th></th>\n",
              "      <th>probability</th>\n",
              "      <th>toxic indicator</th>\n",
              "      <th>length_uppercase</th>\n",
              "    </tr>\n",
              "  </thead>\n",
              "  <tbody>\n",
              "    <tr>\n",
              "      <th>6109</th>\n",
              "      <td>0.4</td>\n",
              "      <td>1.0</td>\n",
              "      <td>0.078431</td>\n",
              "    </tr>\n",
              "    <tr>\n",
              "      <th>107476</th>\n",
              "      <td>0.0</td>\n",
              "      <td>0.0</td>\n",
              "      <td>NaN</td>\n",
              "    </tr>\n",
              "    <tr>\n",
              "      <th>36364</th>\n",
              "      <td>0.0</td>\n",
              "      <td>0.0</td>\n",
              "      <td>0.031250</td>\n",
              "    </tr>\n",
              "    <tr>\n",
              "      <th>109170</th>\n",
              "      <td>0.2</td>\n",
              "      <td>1.0</td>\n",
              "      <td>NaN</td>\n",
              "    </tr>\n",
              "    <tr>\n",
              "      <th>111325</th>\n",
              "      <td>0.0</td>\n",
              "      <td>0.0</td>\n",
              "      <td>NaN</td>\n",
              "    </tr>\n",
              "    <tr>\n",
              "      <th>...</th>\n",
              "      <td>...</td>\n",
              "      <td>...</td>\n",
              "      <td>...</td>\n",
              "    </tr>\n",
              "    <tr>\n",
              "      <th>102113</th>\n",
              "      <td>NaN</td>\n",
              "      <td>NaN</td>\n",
              "      <td>0.044547</td>\n",
              "    </tr>\n",
              "    <tr>\n",
              "      <th>102116</th>\n",
              "      <td>NaN</td>\n",
              "      <td>NaN</td>\n",
              "      <td>0.049697</td>\n",
              "    </tr>\n",
              "    <tr>\n",
              "      <th>102117</th>\n",
              "      <td>NaN</td>\n",
              "      <td>NaN</td>\n",
              "      <td>0.092000</td>\n",
              "    </tr>\n",
              "    <tr>\n",
              "      <th>102119</th>\n",
              "      <td>NaN</td>\n",
              "      <td>NaN</td>\n",
              "      <td>0.060345</td>\n",
              "    </tr>\n",
              "    <tr>\n",
              "      <th>102122</th>\n",
              "      <td>NaN</td>\n",
              "      <td>NaN</td>\n",
              "      <td>0.125000</td>\n",
              "    </tr>\n",
              "  </tbody>\n",
              "</table>\n",
              "<p>138793 rows × 3 columns</p>\n",
              "</div>\n",
              "      <button class=\"colab-df-convert\" onclick=\"convertToInteractive('df-84f341e6-9b3b-4889-9458-f6031983f5dd')\"\n",
              "              title=\"Convert this dataframe to an interactive table.\"\n",
              "              style=\"display:none;\">\n",
              "        \n",
              "  <svg xmlns=\"http://www.w3.org/2000/svg\" height=\"24px\"viewBox=\"0 0 24 24\"\n",
              "       width=\"24px\">\n",
              "    <path d=\"M0 0h24v24H0V0z\" fill=\"none\"/>\n",
              "    <path d=\"M18.56 5.44l.94 2.06.94-2.06 2.06-.94-2.06-.94-.94-2.06-.94 2.06-2.06.94zm-11 1L8.5 8.5l.94-2.06 2.06-.94-2.06-.94L8.5 2.5l-.94 2.06-2.06.94zm10 10l.94 2.06.94-2.06 2.06-.94-2.06-.94-.94-2.06-.94 2.06-2.06.94z\"/><path d=\"M17.41 7.96l-1.37-1.37c-.4-.4-.92-.59-1.43-.59-.52 0-1.04.2-1.43.59L10.3 9.45l-7.72 7.72c-.78.78-.78 2.05 0 2.83L4 21.41c.39.39.9.59 1.41.59.51 0 1.02-.2 1.41-.59l7.78-7.78 2.81-2.81c.8-.78.8-2.07 0-2.86zM5.41 20L4 18.59l7.72-7.72 1.47 1.35L5.41 20z\"/>\n",
              "  </svg>\n",
              "      </button>\n",
              "      \n",
              "  <style>\n",
              "    .colab-df-container {\n",
              "      display:flex;\n",
              "      flex-wrap:wrap;\n",
              "      gap: 12px;\n",
              "    }\n",
              "\n",
              "    .colab-df-convert {\n",
              "      background-color: #E8F0FE;\n",
              "      border: none;\n",
              "      border-radius: 50%;\n",
              "      cursor: pointer;\n",
              "      display: none;\n",
              "      fill: #1967D2;\n",
              "      height: 32px;\n",
              "      padding: 0 0 0 0;\n",
              "      width: 32px;\n",
              "    }\n",
              "\n",
              "    .colab-df-convert:hover {\n",
              "      background-color: #E2EBFA;\n",
              "      box-shadow: 0px 1px 2px rgba(60, 64, 67, 0.3), 0px 1px 3px 1px rgba(60, 64, 67, 0.15);\n",
              "      fill: #174EA6;\n",
              "    }\n",
              "\n",
              "    [theme=dark] .colab-df-convert {\n",
              "      background-color: #3B4455;\n",
              "      fill: #D2E3FC;\n",
              "    }\n",
              "\n",
              "    [theme=dark] .colab-df-convert:hover {\n",
              "      background-color: #434B5C;\n",
              "      box-shadow: 0px 1px 3px 1px rgba(0, 0, 0, 0.15);\n",
              "      filter: drop-shadow(0px 1px 2px rgba(0, 0, 0, 0.3));\n",
              "      fill: #FFFFFF;\n",
              "    }\n",
              "  </style>\n",
              "\n",
              "      <script>\n",
              "        const buttonEl =\n",
              "          document.querySelector('#df-84f341e6-9b3b-4889-9458-f6031983f5dd button.colab-df-convert');\n",
              "        buttonEl.style.display =\n",
              "          google.colab.kernel.accessAllowed ? 'block' : 'none';\n",
              "\n",
              "        async function convertToInteractive(key) {\n",
              "          const element = document.querySelector('#df-84f341e6-9b3b-4889-9458-f6031983f5dd');\n",
              "          const dataTable =\n",
              "            await google.colab.kernel.invokeFunction('convertToInteractive',\n",
              "                                                     [key], {});\n",
              "          if (!dataTable) return;\n",
              "\n",
              "          const docLinkHtml = 'Like what you see? Visit the ' +\n",
              "            '<a target=\"_blank\" href=https://colab.research.google.com/notebooks/data_table.ipynb>data table notebook</a>'\n",
              "            + ' to learn more about interactive tables.';\n",
              "          element.innerHTML = '';\n",
              "          dataTable['output_type'] = 'display_data';\n",
              "          await google.colab.output.renderOutput(dataTable, element);\n",
              "          const docLink = document.createElement('div');\n",
              "          docLink.innerHTML = docLinkHtml;\n",
              "          element.appendChild(docLink);\n",
              "        }\n",
              "      </script>\n",
              "    </div>\n",
              "  </div>\n",
              "  "
            ]
          },
          "metadata": {},
          "execution_count": 115
        }
      ],
      "source": [
        "lengthUpperCase(x_train, y_train)"
      ]
    },
    {
      "cell_type": "code",
      "execution_count": null,
      "metadata": {
        "id": "o35FdZdYYBu_",
        "colab": {
          "base_uri": "https://localhost:8080/",
          "height": 423
        },
        "outputId": "1cb640a9-478c-42bf-b3ff-c37c688e556a"
      },
      "outputs": [
        {
          "output_type": "execute_result",
          "data": {
            "text/plain": [
              "        probability  toxic indicator  length_uppercase\n",
              "6109            0.4              1.0          0.078431\n",
              "107476          0.0              0.0          0.000000\n",
              "36364           0.0              0.0          0.031250\n",
              "109170          0.2              1.0          0.000000\n",
              "111325          0.0              0.0          0.000000\n",
              "...             ...              ...               ...\n",
              "148238          0.0              0.0          0.000000\n",
              "23637           0.0              0.0          0.043478\n",
              "68106           0.0              0.0          0.027027\n",
              "92682           0.0              0.0          0.048387\n",
              "122627          0.0              0.0          0.000000\n",
              "\n",
              "[102124 rows x 3 columns]"
            ],
            "text/html": [
              "\n",
              "  <div id=\"df-7769b5d9-f0fe-45ec-a7dd-8ec2761a4916\">\n",
              "    <div class=\"colab-df-container\">\n",
              "      <div>\n",
              "<style scoped>\n",
              "    .dataframe tbody tr th:only-of-type {\n",
              "        vertical-align: middle;\n",
              "    }\n",
              "\n",
              "    .dataframe tbody tr th {\n",
              "        vertical-align: top;\n",
              "    }\n",
              "\n",
              "    .dataframe thead th {\n",
              "        text-align: right;\n",
              "    }\n",
              "</style>\n",
              "<table border=\"1\" class=\"dataframe\">\n",
              "  <thead>\n",
              "    <tr style=\"text-align: right;\">\n",
              "      <th></th>\n",
              "      <th>probability</th>\n",
              "      <th>toxic indicator</th>\n",
              "      <th>length_uppercase</th>\n",
              "    </tr>\n",
              "  </thead>\n",
              "  <tbody>\n",
              "    <tr>\n",
              "      <th>6109</th>\n",
              "      <td>0.4</td>\n",
              "      <td>1.0</td>\n",
              "      <td>0.078431</td>\n",
              "    </tr>\n",
              "    <tr>\n",
              "      <th>107476</th>\n",
              "      <td>0.0</td>\n",
              "      <td>0.0</td>\n",
              "      <td>0.000000</td>\n",
              "    </tr>\n",
              "    <tr>\n",
              "      <th>36364</th>\n",
              "      <td>0.0</td>\n",
              "      <td>0.0</td>\n",
              "      <td>0.031250</td>\n",
              "    </tr>\n",
              "    <tr>\n",
              "      <th>109170</th>\n",
              "      <td>0.2</td>\n",
              "      <td>1.0</td>\n",
              "      <td>0.000000</td>\n",
              "    </tr>\n",
              "    <tr>\n",
              "      <th>111325</th>\n",
              "      <td>0.0</td>\n",
              "      <td>0.0</td>\n",
              "      <td>0.000000</td>\n",
              "    </tr>\n",
              "    <tr>\n",
              "      <th>...</th>\n",
              "      <td>...</td>\n",
              "      <td>...</td>\n",
              "      <td>...</td>\n",
              "    </tr>\n",
              "    <tr>\n",
              "      <th>148238</th>\n",
              "      <td>0.0</td>\n",
              "      <td>0.0</td>\n",
              "      <td>0.000000</td>\n",
              "    </tr>\n",
              "    <tr>\n",
              "      <th>23637</th>\n",
              "      <td>0.0</td>\n",
              "      <td>0.0</td>\n",
              "      <td>0.043478</td>\n",
              "    </tr>\n",
              "    <tr>\n",
              "      <th>68106</th>\n",
              "      <td>0.0</td>\n",
              "      <td>0.0</td>\n",
              "      <td>0.027027</td>\n",
              "    </tr>\n",
              "    <tr>\n",
              "      <th>92682</th>\n",
              "      <td>0.0</td>\n",
              "      <td>0.0</td>\n",
              "      <td>0.048387</td>\n",
              "    </tr>\n",
              "    <tr>\n",
              "      <th>122627</th>\n",
              "      <td>0.0</td>\n",
              "      <td>0.0</td>\n",
              "      <td>0.000000</td>\n",
              "    </tr>\n",
              "  </tbody>\n",
              "</table>\n",
              "<p>102124 rows × 3 columns</p>\n",
              "</div>\n",
              "      <button class=\"colab-df-convert\" onclick=\"convertToInteractive('df-7769b5d9-f0fe-45ec-a7dd-8ec2761a4916')\"\n",
              "              title=\"Convert this dataframe to an interactive table.\"\n",
              "              style=\"display:none;\">\n",
              "        \n",
              "  <svg xmlns=\"http://www.w3.org/2000/svg\" height=\"24px\"viewBox=\"0 0 24 24\"\n",
              "       width=\"24px\">\n",
              "    <path d=\"M0 0h24v24H0V0z\" fill=\"none\"/>\n",
              "    <path d=\"M18.56 5.44l.94 2.06.94-2.06 2.06-.94-2.06-.94-.94-2.06-.94 2.06-2.06.94zm-11 1L8.5 8.5l.94-2.06 2.06-.94-2.06-.94L8.5 2.5l-.94 2.06-2.06.94zm10 10l.94 2.06.94-2.06 2.06-.94-2.06-.94-.94-2.06-.94 2.06-2.06.94z\"/><path d=\"M17.41 7.96l-1.37-1.37c-.4-.4-.92-.59-1.43-.59-.52 0-1.04.2-1.43.59L10.3 9.45l-7.72 7.72c-.78.78-.78 2.05 0 2.83L4 21.41c.39.39.9.59 1.41.59.51 0 1.02-.2 1.41-.59l7.78-7.78 2.81-2.81c.8-.78.8-2.07 0-2.86zM5.41 20L4 18.59l7.72-7.72 1.47 1.35L5.41 20z\"/>\n",
              "  </svg>\n",
              "      </button>\n",
              "      \n",
              "  <style>\n",
              "    .colab-df-container {\n",
              "      display:flex;\n",
              "      flex-wrap:wrap;\n",
              "      gap: 12px;\n",
              "    }\n",
              "\n",
              "    .colab-df-convert {\n",
              "      background-color: #E8F0FE;\n",
              "      border: none;\n",
              "      border-radius: 50%;\n",
              "      cursor: pointer;\n",
              "      display: none;\n",
              "      fill: #1967D2;\n",
              "      height: 32px;\n",
              "      padding: 0 0 0 0;\n",
              "      width: 32px;\n",
              "    }\n",
              "\n",
              "    .colab-df-convert:hover {\n",
              "      background-color: #E2EBFA;\n",
              "      box-shadow: 0px 1px 2px rgba(60, 64, 67, 0.3), 0px 1px 3px 1px rgba(60, 64, 67, 0.15);\n",
              "      fill: #174EA6;\n",
              "    }\n",
              "\n",
              "    [theme=dark] .colab-df-convert {\n",
              "      background-color: #3B4455;\n",
              "      fill: #D2E3FC;\n",
              "    }\n",
              "\n",
              "    [theme=dark] .colab-df-convert:hover {\n",
              "      background-color: #434B5C;\n",
              "      box-shadow: 0px 1px 3px 1px rgba(0, 0, 0, 0.15);\n",
              "      filter: drop-shadow(0px 1px 2px rgba(0, 0, 0, 0.3));\n",
              "      fill: #FFFFFF;\n",
              "    }\n",
              "  </style>\n",
              "\n",
              "      <script>\n",
              "        const buttonEl =\n",
              "          document.querySelector('#df-7769b5d9-f0fe-45ec-a7dd-8ec2761a4916 button.colab-df-convert');\n",
              "        buttonEl.style.display =\n",
              "          google.colab.kernel.accessAllowed ? 'block' : 'none';\n",
              "\n",
              "        async function convertToInteractive(key) {\n",
              "          const element = document.querySelector('#df-7769b5d9-f0fe-45ec-a7dd-8ec2761a4916');\n",
              "          const dataTable =\n",
              "            await google.colab.kernel.invokeFunction('convertToInteractive',\n",
              "                                                     [key], {});\n",
              "          if (!dataTable) return;\n",
              "\n",
              "          const docLinkHtml = 'Like what you see? Visit the ' +\n",
              "            '<a target=\"_blank\" href=https://colab.research.google.com/notebooks/data_table.ipynb>data table notebook</a>'\n",
              "            + ' to learn more about interactive tables.';\n",
              "          element.innerHTML = '';\n",
              "          dataTable['output_type'] = 'display_data';\n",
              "          await google.colab.output.renderOutput(dataTable, element);\n",
              "          const docLink = document.createElement('div');\n",
              "          docLink.innerHTML = docLinkHtml;\n",
              "          element.appendChild(docLink);\n",
              "        }\n",
              "      </script>\n",
              "    </div>\n",
              "  </div>\n",
              "  "
            ]
          },
          "metadata": {},
          "execution_count": 116
        }
      ],
      "source": [
        "y_train['length_uppercase']=y_train['length_uppercase'].fillna(0)\n",
        "y_train = y_train.dropna()\n",
        "y_train"
      ]
    },
    {
      "cell_type": "code",
      "execution_count": null,
      "metadata": {
        "id": "_kC8SHjNYtCD",
        "colab": {
          "base_uri": "https://localhost:8080/"
        },
        "outputId": "bc54741c-aa1a-4f1e-d7b9-ff7f5b7b51de"
      },
      "outputs": [
        {
          "output_type": "execute_result",
          "data": {
            "text/plain": [
              "array([[ 1.        , -0.00462422],\n",
              "       [-0.00462422,  1.        ]])"
            ]
          },
          "metadata": {},
          "execution_count": 117
        }
      ],
      "source": [
        "#correlation between %upper case and level of toxicity\n",
        "np.corrcoef(y_train['length_uppercase'], y_train['probability'])"
      ]
    },
    {
      "cell_type": "code",
      "execution_count": null,
      "metadata": {
        "id": "cZk3xK2rYxgs",
        "colab": {
          "base_uri": "https://localhost:8080/"
        },
        "outputId": "7b163088-31ca-4238-f87f-9f8d181f1673"
      },
      "outputs": [
        {
          "output_type": "execute_result",
          "data": {
            "text/plain": [
              "array([[ 1.        , -0.00296705],\n",
              "       [-0.00296705,  1.        ]])"
            ]
          },
          "metadata": {},
          "execution_count": 118
        }
      ],
      "source": [
        "#correlation between %upper case and binary of toxicity \n",
        "np.corrcoef(y_train['length_uppercase'], binary_y_train)"
      ]
    },
    {
      "cell_type": "markdown",
      "metadata": {
        "id": "ULJh4fOkaIwQ"
      },
      "source": [
        "# Text processing - BoW"
      ]
    },
    {
      "cell_type": "code",
      "execution_count": null,
      "metadata": {
        "id": "8hRRHsfoaatL"
      },
      "outputs": [],
      "source": [
        "from collections import Counter\n",
        "from sklearn.feature_extraction.text import TfidfVectorizer, CountVectorizer"
      ]
    },
    {
      "cell_type": "code",
      "execution_count": null,
      "metadata": {
        "id": "mBawgYaMa6PV",
        "colab": {
          "base_uri": "https://localhost:8080/",
          "height": 423
        },
        "outputId": "45de4ecf-28e2-433d-e77f-76925dfc2e19"
      },
      "outputs": [
        {
          "output_type": "execute_result",
          "data": {
            "text/plain": [
              "                                             comment_text\n",
              "34670   Facepalm * I referring saying I harassed someo...\n",
              "154628  call him: partyjniak 22:41, 9 Feb 2004 (UTC) M...\n",
              "5174    ! ROBBIE MONCINO LIKES THESE KIND OF PEOPLE ES...\n",
              "106280  \" Tony Blair Thank experimenting Wikipedia. Yo...\n",
              "89808   Mullet man calling us dorks ? You clearly made...\n",
              "...                                                   ...\n",
              "82205   \" Vandalism Please stop vandalizing \"\"Natalee_...\n",
              "135556  Fine. I find citations show many viewers see s...\n",
              "38772   I ' sad hear that. However, I feel I say anyth...\n",
              "137033  \" Bah, this, insult competition, I ' meant poi...\n",
              "79635   I would say, article. During Golden Age Comics...\n",
              "\n",
              "[25532 rows x 1 columns]"
            ],
            "text/html": [
              "\n",
              "  <div id=\"df-3328668d-e294-4bc3-b3fc-4359872d3e4d\">\n",
              "    <div class=\"colab-df-container\">\n",
              "      <div>\n",
              "<style scoped>\n",
              "    .dataframe tbody tr th:only-of-type {\n",
              "        vertical-align: middle;\n",
              "    }\n",
              "\n",
              "    .dataframe tbody tr th {\n",
              "        vertical-align: top;\n",
              "    }\n",
              "\n",
              "    .dataframe thead th {\n",
              "        text-align: right;\n",
              "    }\n",
              "</style>\n",
              "<table border=\"1\" class=\"dataframe\">\n",
              "  <thead>\n",
              "    <tr style=\"text-align: right;\">\n",
              "      <th></th>\n",
              "      <th>comment_text</th>\n",
              "    </tr>\n",
              "  </thead>\n",
              "  <tbody>\n",
              "    <tr>\n",
              "      <th>34670</th>\n",
              "      <td>Facepalm * I referring saying I harassed someo...</td>\n",
              "    </tr>\n",
              "    <tr>\n",
              "      <th>154628</th>\n",
              "      <td>call him: partyjniak 22:41, 9 Feb 2004 (UTC) M...</td>\n",
              "    </tr>\n",
              "    <tr>\n",
              "      <th>5174</th>\n",
              "      <td>! ROBBIE MONCINO LIKES THESE KIND OF PEOPLE ES...</td>\n",
              "    </tr>\n",
              "    <tr>\n",
              "      <th>106280</th>\n",
              "      <td>\" Tony Blair Thank experimenting Wikipedia. Yo...</td>\n",
              "    </tr>\n",
              "    <tr>\n",
              "      <th>89808</th>\n",
              "      <td>Mullet man calling us dorks ? You clearly made...</td>\n",
              "    </tr>\n",
              "    <tr>\n",
              "      <th>...</th>\n",
              "      <td>...</td>\n",
              "    </tr>\n",
              "    <tr>\n",
              "      <th>82205</th>\n",
              "      <td>\" Vandalism Please stop vandalizing \"\"Natalee_...</td>\n",
              "    </tr>\n",
              "    <tr>\n",
              "      <th>135556</th>\n",
              "      <td>Fine. I find citations show many viewers see s...</td>\n",
              "    </tr>\n",
              "    <tr>\n",
              "      <th>38772</th>\n",
              "      <td>I ' sad hear that. However, I feel I say anyth...</td>\n",
              "    </tr>\n",
              "    <tr>\n",
              "      <th>137033</th>\n",
              "      <td>\" Bah, this, insult competition, I ' meant poi...</td>\n",
              "    </tr>\n",
              "    <tr>\n",
              "      <th>79635</th>\n",
              "      <td>I would say, article. During Golden Age Comics...</td>\n",
              "    </tr>\n",
              "  </tbody>\n",
              "</table>\n",
              "<p>25532 rows × 1 columns</p>\n",
              "</div>\n",
              "      <button class=\"colab-df-convert\" onclick=\"convertToInteractive('df-3328668d-e294-4bc3-b3fc-4359872d3e4d')\"\n",
              "              title=\"Convert this dataframe to an interactive table.\"\n",
              "              style=\"display:none;\">\n",
              "        \n",
              "  <svg xmlns=\"http://www.w3.org/2000/svg\" height=\"24px\"viewBox=\"0 0 24 24\"\n",
              "       width=\"24px\">\n",
              "    <path d=\"M0 0h24v24H0V0z\" fill=\"none\"/>\n",
              "    <path d=\"M18.56 5.44l.94 2.06.94-2.06 2.06-.94-2.06-.94-.94-2.06-.94 2.06-2.06.94zm-11 1L8.5 8.5l.94-2.06 2.06-.94-2.06-.94L8.5 2.5l-.94 2.06-2.06.94zm10 10l.94 2.06.94-2.06 2.06-.94-2.06-.94-.94-2.06-.94 2.06-2.06.94z\"/><path d=\"M17.41 7.96l-1.37-1.37c-.4-.4-.92-.59-1.43-.59-.52 0-1.04.2-1.43.59L10.3 9.45l-7.72 7.72c-.78.78-.78 2.05 0 2.83L4 21.41c.39.39.9.59 1.41.59.51 0 1.02-.2 1.41-.59l7.78-7.78 2.81-2.81c.8-.78.8-2.07 0-2.86zM5.41 20L4 18.59l7.72-7.72 1.47 1.35L5.41 20z\"/>\n",
              "  </svg>\n",
              "      </button>\n",
              "      \n",
              "  <style>\n",
              "    .colab-df-container {\n",
              "      display:flex;\n",
              "      flex-wrap:wrap;\n",
              "      gap: 12px;\n",
              "    }\n",
              "\n",
              "    .colab-df-convert {\n",
              "      background-color: #E8F0FE;\n",
              "      border: none;\n",
              "      border-radius: 50%;\n",
              "      cursor: pointer;\n",
              "      display: none;\n",
              "      fill: #1967D2;\n",
              "      height: 32px;\n",
              "      padding: 0 0 0 0;\n",
              "      width: 32px;\n",
              "    }\n",
              "\n",
              "    .colab-df-convert:hover {\n",
              "      background-color: #E2EBFA;\n",
              "      box-shadow: 0px 1px 2px rgba(60, 64, 67, 0.3), 0px 1px 3px 1px rgba(60, 64, 67, 0.15);\n",
              "      fill: #174EA6;\n",
              "    }\n",
              "\n",
              "    [theme=dark] .colab-df-convert {\n",
              "      background-color: #3B4455;\n",
              "      fill: #D2E3FC;\n",
              "    }\n",
              "\n",
              "    [theme=dark] .colab-df-convert:hover {\n",
              "      background-color: #434B5C;\n",
              "      box-shadow: 0px 1px 3px 1px rgba(0, 0, 0, 0.15);\n",
              "      filter: drop-shadow(0px 1px 2px rgba(0, 0, 0, 0.3));\n",
              "      fill: #FFFFFF;\n",
              "    }\n",
              "  </style>\n",
              "\n",
              "      <script>\n",
              "        const buttonEl =\n",
              "          document.querySelector('#df-3328668d-e294-4bc3-b3fc-4359872d3e4d button.colab-df-convert');\n",
              "        buttonEl.style.display =\n",
              "          google.colab.kernel.accessAllowed ? 'block' : 'none';\n",
              "\n",
              "        async function convertToInteractive(key) {\n",
              "          const element = document.querySelector('#df-3328668d-e294-4bc3-b3fc-4359872d3e4d');\n",
              "          const dataTable =\n",
              "            await google.colab.kernel.invokeFunction('convertToInteractive',\n",
              "                                                     [key], {});\n",
              "          if (!dataTable) return;\n",
              "\n",
              "          const docLinkHtml = 'Like what you see? Visit the ' +\n",
              "            '<a target=\"_blank\" href=https://colab.research.google.com/notebooks/data_table.ipynb>data table notebook</a>'\n",
              "            + ' to learn more about interactive tables.';\n",
              "          element.innerHTML = '';\n",
              "          dataTable['output_type'] = 'display_data';\n",
              "          await google.colab.output.renderOutput(dataTable, element);\n",
              "          const docLink = document.createElement('div');\n",
              "          docLink.innerHTML = docLinkHtml;\n",
              "          element.appendChild(docLink);\n",
              "        }\n",
              "      </script>\n",
              "    </div>\n",
              "  </div>\n",
              "  "
            ]
          },
          "metadata": {},
          "execution_count": 31
        }
      ],
      "source": [
        "x_validate"
      ]
    },
    {
      "cell_type": "code",
      "execution_count": null,
      "metadata": {
        "id": "A_V1iaWjaLXJ",
        "colab": {
          "base_uri": "https://localhost:8080/"
        },
        "outputId": "93fd4b93-aec7-4aad-bf89-3e8d58b7d239"
      },
      "outputs": [
        {
          "output_type": "stream",
          "name": "stdout",
          "text": [
            "(102124, 30000)\n",
            "(25532, 30000)\n",
            "(31915, 30000)\n"
          ]
        }
      ],
      "source": [
        "cnt_vec = CountVectorizer(ngram_range=(1,2), max_features=30000)\n",
        "vectorizer = CountVectorizer()\n",
        "bow_train = cnt_vec.fit_transform(x_train['comment_text'])\n",
        "bow_validate = cnt_vec.transform(x_validate['comment_text'])\n",
        "bow_test = cnt_vec.transform(x_test['comment_text'])\n",
        "\n",
        "print(bow_train.shape)\n",
        "print(bow_validate.shape)\n",
        "print(bow_test.shape)"
      ]
    },
    {
      "cell_type": "markdown",
      "metadata": {
        "id": "61DotflnZRGo"
      },
      "source": [
        "# Training - Naive Bayes"
      ]
    },
    {
      "cell_type": "code",
      "execution_count": null,
      "metadata": {
        "id": "E_VUwLN-ZQyG"
      },
      "outputs": [],
      "source": [
        "from sklearn.naive_bayes import MultinomialNB\n",
        "from sklearn.feature_extraction.text import CountVectorizer"
      ]
    },
    {
      "cell_type": "markdown",
      "metadata": {
        "id": "-Dz18xDYZfeO"
      },
      "source": [
        "### Base on probability then convert to binary\n",
        "- Because the data is too unbalanced, then for NB, guessing non-toxic will result in the highest score -> this is not a good technique although it results in high accuracy"
      ]
    },
    {
      "cell_type": "code",
      "execution_count": null,
      "metadata": {
        "id": "wvUX0ZoIZF6d",
        "colab": {
          "base_uri": "https://localhost:8080/",
          "height": 178
        },
        "outputId": "2377474c-7ad9-494f-c2ba-30b8b4a517d5"
      },
      "outputs": [
        {
          "output_type": "stream",
          "name": "stderr",
          "text": [
            "<ipython-input-88-35d6c8f4bbee>:2: SettingWithCopyWarning: \n",
            "A value is trying to be set on a copy of a slice from a DataFrame.\n",
            "Try using .loc[row_indexer,col_indexer] = value instead\n",
            "\n",
            "See the caveats in the documentation: https://pandas.pydata.org/pandas-docs/stable/user_guide/indexing.html#returning-a-view-versus-a-copy\n",
            "  y_train['probability']= y_train['probability'].astype('int')\n"
          ]
        },
        {
          "output_type": "execute_result",
          "data": {
            "text/plain": [
              "MultinomialNB()"
            ],
            "text/html": [
              "<style>#sk-container-id-6 {color: black;background-color: white;}#sk-container-id-6 pre{padding: 0;}#sk-container-id-6 div.sk-toggleable {background-color: white;}#sk-container-id-6 label.sk-toggleable__label {cursor: pointer;display: block;width: 100%;margin-bottom: 0;padding: 0.3em;box-sizing: border-box;text-align: center;}#sk-container-id-6 label.sk-toggleable__label-arrow:before {content: \"▸\";float: left;margin-right: 0.25em;color: #696969;}#sk-container-id-6 label.sk-toggleable__label-arrow:hover:before {color: black;}#sk-container-id-6 div.sk-estimator:hover label.sk-toggleable__label-arrow:before {color: black;}#sk-container-id-6 div.sk-toggleable__content {max-height: 0;max-width: 0;overflow: hidden;text-align: left;background-color: #f0f8ff;}#sk-container-id-6 div.sk-toggleable__content pre {margin: 0.2em;color: black;border-radius: 0.25em;background-color: #f0f8ff;}#sk-container-id-6 input.sk-toggleable__control:checked~div.sk-toggleable__content {max-height: 200px;max-width: 100%;overflow: auto;}#sk-container-id-6 input.sk-toggleable__control:checked~label.sk-toggleable__label-arrow:before {content: \"▾\";}#sk-container-id-6 div.sk-estimator input.sk-toggleable__control:checked~label.sk-toggleable__label {background-color: #d4ebff;}#sk-container-id-6 div.sk-label input.sk-toggleable__control:checked~label.sk-toggleable__label {background-color: #d4ebff;}#sk-container-id-6 input.sk-hidden--visually {border: 0;clip: rect(1px 1px 1px 1px);clip: rect(1px, 1px, 1px, 1px);height: 1px;margin: -1px;overflow: hidden;padding: 0;position: absolute;width: 1px;}#sk-container-id-6 div.sk-estimator {font-family: monospace;background-color: #f0f8ff;border: 1px dotted black;border-radius: 0.25em;box-sizing: border-box;margin-bottom: 0.5em;}#sk-container-id-6 div.sk-estimator:hover {background-color: #d4ebff;}#sk-container-id-6 div.sk-parallel-item::after {content: \"\";width: 100%;border-bottom: 1px solid gray;flex-grow: 1;}#sk-container-id-6 div.sk-label:hover label.sk-toggleable__label {background-color: #d4ebff;}#sk-container-id-6 div.sk-serial::before {content: \"\";position: absolute;border-left: 1px solid gray;box-sizing: border-box;top: 0;bottom: 0;left: 50%;z-index: 0;}#sk-container-id-6 div.sk-serial {display: flex;flex-direction: column;align-items: center;background-color: white;padding-right: 0.2em;padding-left: 0.2em;position: relative;}#sk-container-id-6 div.sk-item {position: relative;z-index: 1;}#sk-container-id-6 div.sk-parallel {display: flex;align-items: stretch;justify-content: center;background-color: white;position: relative;}#sk-container-id-6 div.sk-item::before, #sk-container-id-6 div.sk-parallel-item::before {content: \"\";position: absolute;border-left: 1px solid gray;box-sizing: border-box;top: 0;bottom: 0;left: 50%;z-index: -1;}#sk-container-id-6 div.sk-parallel-item {display: flex;flex-direction: column;z-index: 1;position: relative;background-color: white;}#sk-container-id-6 div.sk-parallel-item:first-child::after {align-self: flex-end;width: 50%;}#sk-container-id-6 div.sk-parallel-item:last-child::after {align-self: flex-start;width: 50%;}#sk-container-id-6 div.sk-parallel-item:only-child::after {width: 0;}#sk-container-id-6 div.sk-dashed-wrapped {border: 1px dashed gray;margin: 0 0.4em 0.5em 0.4em;box-sizing: border-box;padding-bottom: 0.4em;background-color: white;}#sk-container-id-6 div.sk-label label {font-family: monospace;font-weight: bold;display: inline-block;line-height: 1.2em;}#sk-container-id-6 div.sk-label-container {text-align: center;}#sk-container-id-6 div.sk-container {/* jupyter's `normalize.less` sets `[hidden] { display: none; }` but bootstrap.min.css set `[hidden] { display: none !important; }` so we also need the `!important` here to be able to override the default hidden behavior on the sphinx rendered scikit-learn.org. See: https://github.com/scikit-learn/scikit-learn/issues/21755 */display: inline-block !important;position: relative;}#sk-container-id-6 div.sk-text-repr-fallback {display: none;}</style><div id=\"sk-container-id-6\" class=\"sk-top-container\"><div class=\"sk-text-repr-fallback\"><pre>MultinomialNB()</pre><b>In a Jupyter environment, please rerun this cell to show the HTML representation or trust the notebook. <br />On GitHub, the HTML representation is unable to render, please try loading this page with nbviewer.org.</b></div><div class=\"sk-container\" hidden><div class=\"sk-item\"><div class=\"sk-estimator sk-toggleable\"><input class=\"sk-toggleable__control sk-hidden--visually\" id=\"sk-estimator-id-6\" type=\"checkbox\" checked><label for=\"sk-estimator-id-6\" class=\"sk-toggleable__label sk-toggleable__label-arrow\">MultinomialNB</label><div class=\"sk-toggleable__content\"><pre>MultinomialNB()</pre></div></div></div></div></div>"
            ]
          },
          "metadata": {},
          "execution_count": 88
        }
      ],
      "source": [
        "vec = CountVectorizer()\n",
        "y_train['probability']= y_train['probability'].astype('int')\n",
        "model = MultinomialNB()\n",
        "model.fit(bow_train, y_train['probability'])"
      ]
    },
    {
      "cell_type": "code",
      "execution_count": null,
      "metadata": {
        "id": "DMOVvqJ5ZrJW"
      },
      "outputs": [],
      "source": [
        "#check validate\n",
        "validate_NB = model.predict_proba(bow_validate)"
      ]
    },
    {
      "cell_type": "code",
      "execution_count": null,
      "metadata": {
        "id": "SpNv0by8bXn0",
        "colab": {
          "base_uri": "https://localhost:8080/"
        },
        "outputId": "8820d828-1c43-450d-9852-e31c1ce03d37"
      },
      "outputs": [
        {
          "output_type": "stream",
          "name": "stdout",
          "text": [
            "Step: 0.0 -> accuracy 0.09490052\n",
            "Step: 0.05 -> accuracy 0.13837537\n",
            "Step: 0.1 -> accuracy 0.18337772\n",
            "Step: 0.15000000000000002 -> accuracy 0.22841924\n",
            "Step: 0.2 -> accuracy 0.27428325\n",
            "Step: 0.25 -> accuracy 0.31869810\n",
            "Step: 0.30000000000000004 -> accuracy 0.36346546\n",
            "Step: 0.35000000000000003 -> accuracy 0.40788031\n",
            "Step: 0.4 -> accuracy 0.45178599\n",
            "Step: 0.45 -> accuracy 0.49612251\n",
            "Step: 0.5 -> accuracy 0.53955820\n",
            "Step: 0.55 -> accuracy 0.58111390\n",
            "Step: 0.6000000000000001 -> accuracy 0.62200376\n",
            "Step: 0.65 -> accuracy 0.66261946\n",
            "Step: 0.7000000000000001 -> accuracy 0.70311766\n",
            "Step: 0.75 -> accuracy 0.74287169\n",
            "Step: 0.8 -> accuracy 0.78125490\n",
            "Step: 0.8500000000000001 -> accuracy 0.81795394\n",
            "Step: 0.9 -> accuracy 0.85320382\n",
            "Step: 0.9500000000000001 -> accuracy 0.88426289\n",
            "Step: 1.0 -> accuracy 0.90631365\n"
          ]
        }
      ],
      "source": [
        "#tuning the quantile of convert\n",
        "def convert_binary(data, step):\n",
        "  binary = []\n",
        "  for i in data: \n",
        "    if i>np.quantile(data, step):\n",
        "      binary.append(1)\n",
        "    else:\n",
        "      binary.append(0)\n",
        "  return binary\n",
        "\n",
        "def accuracy_cal(data, truth):\n",
        "  count = 0\n",
        "  for i in range(len(data)):\n",
        "    if data[i] == truth[i]:\n",
        "      count = count + 1\n",
        "  return count/len(data)\n",
        "\n",
        "step = [0.05*i for i in range(0,21)]\n",
        "validation_accuracy =[]\n",
        "for i in step:\n",
        "  check = convert_binary(validate_NB[:,1], i)\n",
        "  accuracy = accuracy_cal(check, binary_y_validate )\n",
        "  print('Step: {} -> accuracy {:.08f}'.format(i, accuracy))\n",
        "  validation_accuracy.append(accuracy)"
      ]
    },
    {
      "cell_type": "code",
      "execution_count": null,
      "metadata": {
        "id": "orEuFCwqZ43U",
        "colab": {
          "base_uri": "https://localhost:8080/"
        },
        "outputId": "9f009014-225b-4621-8dec-919cc55319b5"
      },
      "outputs": [
        {
          "output_type": "stream",
          "name": "stdout",
          "text": [
            "Step: 0.991 -> accuracy 0.90325866\n",
            "Step: 0.992 -> accuracy 0.90353282\n",
            "Step: 0.993 -> accuracy 0.90408115\n",
            "Step: 0.994 -> accuracy 0.90439449\n",
            "Step: 0.995 -> accuracy 0.90482532\n",
            "Step: 0.996 -> accuracy 0.90525615\n",
            "Step: 0.997 -> accuracy 0.90564781\n",
            "Step: 0.998 -> accuracy 0.90615698\n",
            "Step: 0.999 -> accuracy 0.90647031\n"
          ]
        }
      ],
      "source": [
        "step = [0.99+0.001*i for i in range(1,10)]\n",
        "validation_accuracy =[]\n",
        "for i in step:\n",
        "  check = convert_binary(validate_NB[:,1], i)\n",
        "  accuracy = accuracy_cal(check, binary_y_validate )\n",
        "  print('Step: {} -> accuracy {:.08f}'.format(i, accuracy))\n",
        "  validation_accuracy.append(accuracy)"
      ]
    },
    {
      "cell_type": "code",
      "execution_count": null,
      "metadata": {
        "id": "SJc6QG3fc6zD"
      },
      "outputs": [],
      "source": [
        "#check test accuracy \n",
        "predict_NB= model.predict_proba(bow_test)\n",
        "step = 0.999\n",
        "check = convert_binary(predict_NB[:,1], step)\n",
        "accuracy = accuracy_cal(check, binary_y_test)"
      ]
    },
    {
      "cell_type": "code",
      "execution_count": null,
      "metadata": {
        "id": "NFOXPwNreVTm",
        "colab": {
          "base_uri": "https://localhost:8080/"
        },
        "outputId": "e3ff5900-d055-4b7b-c6eb-0473c215e4a9"
      },
      "outputs": [
        {
          "output_type": "execute_result",
          "data": {
            "text/plain": [
              "0.9016449945166849"
            ]
          },
          "metadata": {},
          "execution_count": 93
        }
      ],
      "source": [
        "accuracy"
      ]
    },
    {
      "cell_type": "code",
      "execution_count": null,
      "metadata": {
        "id": "fSWVxl_tex4z",
        "colab": {
          "base_uri": "https://localhost:8080/"
        },
        "outputId": "2d854bdd-c893-4001-940c-cd21d5c757a2"
      },
      "outputs": [
        {
          "output_type": "execute_result",
          "data": {
            "text/plain": [
              "0.013742198668799822"
            ]
          },
          "metadata": {},
          "execution_count": 40
        }
      ],
      "source": [
        "from sklearn.metrics import roc_auc_score, roc_curve, auc, mean_squared_error\n",
        "err_NB = mean_squared_error(predict_NB[:,1], y_test['probability'])\n",
        "err_NB"
      ]
    },
    {
      "cell_type": "markdown",
      "metadata": {
        "id": "XX6qUL7JfijC"
      },
      "source": [
        "### Base only on toxic indicator"
      ]
    },
    {
      "cell_type": "code",
      "execution_count": null,
      "metadata": {
        "id": "JnGBElBwfDnf",
        "colab": {
          "base_uri": "https://localhost:8080/",
          "height": 74
        },
        "outputId": "d164c0af-d8b7-40ae-a473-b6e70c08ac32"
      },
      "outputs": [
        {
          "output_type": "execute_result",
          "data": {
            "text/plain": [
              "MultinomialNB()"
            ],
            "text/html": [
              "<style>#sk-container-id-7 {color: black;background-color: white;}#sk-container-id-7 pre{padding: 0;}#sk-container-id-7 div.sk-toggleable {background-color: white;}#sk-container-id-7 label.sk-toggleable__label {cursor: pointer;display: block;width: 100%;margin-bottom: 0;padding: 0.3em;box-sizing: border-box;text-align: center;}#sk-container-id-7 label.sk-toggleable__label-arrow:before {content: \"▸\";float: left;margin-right: 0.25em;color: #696969;}#sk-container-id-7 label.sk-toggleable__label-arrow:hover:before {color: black;}#sk-container-id-7 div.sk-estimator:hover label.sk-toggleable__label-arrow:before {color: black;}#sk-container-id-7 div.sk-toggleable__content {max-height: 0;max-width: 0;overflow: hidden;text-align: left;background-color: #f0f8ff;}#sk-container-id-7 div.sk-toggleable__content pre {margin: 0.2em;color: black;border-radius: 0.25em;background-color: #f0f8ff;}#sk-container-id-7 input.sk-toggleable__control:checked~div.sk-toggleable__content {max-height: 200px;max-width: 100%;overflow: auto;}#sk-container-id-7 input.sk-toggleable__control:checked~label.sk-toggleable__label-arrow:before {content: \"▾\";}#sk-container-id-7 div.sk-estimator input.sk-toggleable__control:checked~label.sk-toggleable__label {background-color: #d4ebff;}#sk-container-id-7 div.sk-label input.sk-toggleable__control:checked~label.sk-toggleable__label {background-color: #d4ebff;}#sk-container-id-7 input.sk-hidden--visually {border: 0;clip: rect(1px 1px 1px 1px);clip: rect(1px, 1px, 1px, 1px);height: 1px;margin: -1px;overflow: hidden;padding: 0;position: absolute;width: 1px;}#sk-container-id-7 div.sk-estimator {font-family: monospace;background-color: #f0f8ff;border: 1px dotted black;border-radius: 0.25em;box-sizing: border-box;margin-bottom: 0.5em;}#sk-container-id-7 div.sk-estimator:hover {background-color: #d4ebff;}#sk-container-id-7 div.sk-parallel-item::after {content: \"\";width: 100%;border-bottom: 1px solid gray;flex-grow: 1;}#sk-container-id-7 div.sk-label:hover label.sk-toggleable__label {background-color: #d4ebff;}#sk-container-id-7 div.sk-serial::before {content: \"\";position: absolute;border-left: 1px solid gray;box-sizing: border-box;top: 0;bottom: 0;left: 50%;z-index: 0;}#sk-container-id-7 div.sk-serial {display: flex;flex-direction: column;align-items: center;background-color: white;padding-right: 0.2em;padding-left: 0.2em;position: relative;}#sk-container-id-7 div.sk-item {position: relative;z-index: 1;}#sk-container-id-7 div.sk-parallel {display: flex;align-items: stretch;justify-content: center;background-color: white;position: relative;}#sk-container-id-7 div.sk-item::before, #sk-container-id-7 div.sk-parallel-item::before {content: \"\";position: absolute;border-left: 1px solid gray;box-sizing: border-box;top: 0;bottom: 0;left: 50%;z-index: -1;}#sk-container-id-7 div.sk-parallel-item {display: flex;flex-direction: column;z-index: 1;position: relative;background-color: white;}#sk-container-id-7 div.sk-parallel-item:first-child::after {align-self: flex-end;width: 50%;}#sk-container-id-7 div.sk-parallel-item:last-child::after {align-self: flex-start;width: 50%;}#sk-container-id-7 div.sk-parallel-item:only-child::after {width: 0;}#sk-container-id-7 div.sk-dashed-wrapped {border: 1px dashed gray;margin: 0 0.4em 0.5em 0.4em;box-sizing: border-box;padding-bottom: 0.4em;background-color: white;}#sk-container-id-7 div.sk-label label {font-family: monospace;font-weight: bold;display: inline-block;line-height: 1.2em;}#sk-container-id-7 div.sk-label-container {text-align: center;}#sk-container-id-7 div.sk-container {/* jupyter's `normalize.less` sets `[hidden] { display: none; }` but bootstrap.min.css set `[hidden] { display: none !important; }` so we also need the `!important` here to be able to override the default hidden behavior on the sphinx rendered scikit-learn.org. See: https://github.com/scikit-learn/scikit-learn/issues/21755 */display: inline-block !important;position: relative;}#sk-container-id-7 div.sk-text-repr-fallback {display: none;}</style><div id=\"sk-container-id-7\" class=\"sk-top-container\"><div class=\"sk-text-repr-fallback\"><pre>MultinomialNB()</pre><b>In a Jupyter environment, please rerun this cell to show the HTML representation or trust the notebook. <br />On GitHub, the HTML representation is unable to render, please try loading this page with nbviewer.org.</b></div><div class=\"sk-container\" hidden><div class=\"sk-item\"><div class=\"sk-estimator sk-toggleable\"><input class=\"sk-toggleable__control sk-hidden--visually\" id=\"sk-estimator-id-7\" type=\"checkbox\" checked><label for=\"sk-estimator-id-7\" class=\"sk-toggleable__label sk-toggleable__label-arrow\">MultinomialNB</label><div class=\"sk-toggleable__content\"><pre>MultinomialNB()</pre></div></div></div></div></div>"
            ]
          },
          "metadata": {},
          "execution_count": 94
        }
      ],
      "source": [
        "model = MultinomialNB()\n",
        "model.fit(bow_train, binary_y_train)"
      ]
    },
    {
      "cell_type": "code",
      "execution_count": null,
      "metadata": {
        "id": "yqSpoY7pfs5b"
      },
      "outputs": [],
      "source": [
        "#check validate\n",
        "validate_NB = model.predict_proba(bow_validate)"
      ]
    },
    {
      "cell_type": "code",
      "execution_count": null,
      "metadata": {
        "colab": {
          "base_uri": "https://localhost:8080/"
        },
        "id": "kNN8vEIifz3F",
        "outputId": "ec361a35-78e0-4ced-87ea-1c13a5907170"
      },
      "outputs": [
        {
          "output_type": "stream",
          "name": "stdout",
          "text": [
            "Step: 0.0 -> accuracy 0.09493968\n",
            "Step: 0.05 -> accuracy 0.14307536\n",
            "Step: 0.1 -> accuracy 0.19215103\n",
            "Step: 0.15000000000000002 -> accuracy 0.24126586\n",
            "Step: 0.2 -> accuracy 0.29002820\n",
            "Step: 0.25 -> accuracy 0.33898637\n",
            "Step: 0.30000000000000004 -> accuracy 0.38821871\n",
            "Step: 0.35000000000000003 -> accuracy 0.43678521\n",
            "Step: 0.4 -> accuracy 0.48570421\n",
            "Step: 0.45 -> accuracy 0.53411405\n",
            "Step: 0.5 -> accuracy 0.58240639\n",
            "Step: 0.55 -> accuracy 0.62913207\n",
            "Step: 0.6000000000000001 -> accuracy 0.67621025\n",
            "Step: 0.65 -> accuracy 0.72371925\n",
            "Step: 0.7000000000000001 -> accuracy 0.77118910\n",
            "Step: 0.75 -> accuracy 0.81744478\n",
            "Step: 0.8 -> accuracy 0.86201629\n",
            "Step: 0.8500000000000001 -> accuracy 0.90694031\n",
            "Step: 0.9 -> accuracy 0.94117186\n",
            "Step: 0.9500000000000001 -> accuracy 0.94583268\n",
            "Step: 1.0 -> accuracy 0.90631365\n"
          ]
        }
      ],
      "source": [
        "step = [0.05*i for i in range(0,21)]\n",
        "validation_accuracy =[]\n",
        "for i in step:\n",
        "  check = convert_binary(validate_NB[:,1], i)\n",
        "  accuracy = accuracy_cal(check, binary_y_validate )\n",
        "  print('Step: {} -> accuracy {:.08f}'.format(i, accuracy))\n",
        "  validation_accuracy.append(accuracy)"
      ]
    },
    {
      "cell_type": "code",
      "execution_count": null,
      "metadata": {
        "id": "Ykn1uWn1gC48"
      },
      "outputs": [],
      "source": [
        "predict_NB= model.predict_proba(bow_test)\n",
        "step = 0.95\n",
        "check = convert_binary(predict_NB[:,1], step)\n",
        "accuracy = accuracy_cal(check, binary_y_test)"
      ]
    },
    {
      "cell_type": "code",
      "execution_count": null,
      "metadata": {
        "colab": {
          "base_uri": "https://localhost:8080/"
        },
        "id": "GW3mTPFghK3y",
        "outputId": "53ab6394-116c-41ae-f00f-293f34a937b8"
      },
      "outputs": [
        {
          "output_type": "execute_result",
          "data": {
            "text/plain": [
              "0.9413755287482375"
            ]
          },
          "metadata": {},
          "execution_count": 98
        }
      ],
      "source": [
        "accuracy"
      ]
    },
    {
      "cell_type": "code",
      "execution_count": null,
      "metadata": {
        "colab": {
          "base_uri": "https://localhost:8080/"
        },
        "id": "7EnNJObLhOG9",
        "outputId": "9cefd436-dd0b-4ad9-ca42-a18d513a394d"
      },
      "outputs": [
        {
          "output_type": "execute_result",
          "data": {
            "text/plain": [
              "0.044521219174130156"
            ]
          },
          "metadata": {},
          "execution_count": 99
        }
      ],
      "source": [
        "err_NB = mean_squared_error(predict_NB[:,1], y_test['probability'])\n",
        "err_NB"
      ]
    },
    {
      "cell_type": "markdown",
      "metadata": {
        "id": "3NgK7eOSiP3k"
      },
      "source": [
        "# Training - SGD"
      ]
    },
    {
      "cell_type": "code",
      "execution_count": null,
      "metadata": {
        "id": "nnmfdpA0inRT"
      },
      "outputs": [],
      "source": [
        "from sklearn.linear_model import LinearRegression, SGDRegressor"
      ]
    },
    {
      "cell_type": "code",
      "execution_count": null,
      "metadata": {
        "colab": {
          "base_uri": "https://localhost:8080/"
        },
        "id": "vinKe_48iCI-",
        "outputId": "014249b4-5092-4b89-f0fd-d55544d54295"
      },
      "outputs": [
        {
          "output_type": "stream",
          "name": "stdout",
          "text": [
            "alpha: 1e-05 -> penlaty l1\n",
            "Mean Squared Error on train set:  2.459374854526336e+25\n",
            "Mean Squared Error on validate set:  7.926314119513088e+23\n",
            "-----------------------------------------------\n",
            "alpha: 1e-05 -> penlaty l2\n",
            "Mean Squared Error on train set:  2.924824903143688e+25\n",
            "Mean Squared Error on validate set:  3.970197195824065e+23\n",
            "-----------------------------------------------\n",
            "alpha: 0.0001 -> penlaty l1\n",
            "Mean Squared Error on train set:  3.1951564631443458e+25\n",
            "Mean Squared Error on validate set:  6.054630943096359e+23\n",
            "-----------------------------------------------\n",
            "alpha: 0.0001 -> penlaty l2\n",
            "Mean Squared Error on train set:  2.763232602895053e+25\n",
            "Mean Squared Error on validate set:  1.2812183058897302e+24\n",
            "-----------------------------------------------\n",
            "alpha: 0.001 -> penlaty l1\n",
            "Mean Squared Error on train set:  1.951502194545984e+25\n",
            "Mean Squared Error on validate set:  6.882682288265661e+23\n",
            "-----------------------------------------------\n",
            "alpha: 0.001 -> penlaty l2\n",
            "Mean Squared Error on train set:  1.4855607500653724e+25\n",
            "Mean Squared Error on validate set:  7.016586161733365e+23\n",
            "-----------------------------------------------\n",
            "alpha: 0.01 -> penlaty l1\n",
            "Mean Squared Error on train set:  0.012363193582860364\n",
            "Mean Squared Error on validate set:  0.012015003078073568\n",
            "-----------------------------------------------\n",
            "alpha: 0.01 -> penlaty l2\n",
            "Mean Squared Error on train set:  2.246690246103978e+25\n",
            "Mean Squared Error on validate set:  1.44788833573769e+24\n",
            "-----------------------------------------------\n",
            "alpha: 0.1 -> penlaty l1\n",
            "Mean Squared Error on train set:  0.012363057656884063\n",
            "Mean Squared Error on validate set:  0.012014919348669325\n",
            "-----------------------------------------------\n",
            "alpha: 0.1 -> penlaty l2\n",
            "Mean Squared Error on train set:  1.3774202625417517e+25\n",
            "Mean Squared Error on validate set:  1.0249202275473544e+23\n",
            "-----------------------------------------------\n",
            "alpha: 1 -> penlaty l1\n",
            "Mean Squared Error on train set:  0.012363158380190717\n",
            "Mean Squared Error on validate set:  0.012014981274443948\n",
            "-----------------------------------------------\n",
            "alpha: 1 -> penlaty l2\n",
            "Mean Squared Error on train set:  8.046692106607182e+19\n",
            "Mean Squared Error on validate set:  1.170744982841855e+19\n",
            "-----------------------------------------------\n",
            "alpha: 10 -> penlaty l1\n",
            "Mean Squared Error on train set:  0.012363263011487402\n",
            "Mean Squared Error on validate set:  0.012015046315737077\n",
            "-----------------------------------------------\n",
            "alpha: 10 -> penlaty l2\n",
            "Mean Squared Error on train set:  0.012378029585462138\n",
            "Mean Squared Error on validate set:  0.012026197925650212\n",
            "-----------------------------------------------\n",
            "alpha: 100 -> penlaty l1\n",
            "Mean Squared Error on train set:  0.012363192568138105\n",
            "Mean Squared Error on validate set:  0.012015002448443135\n",
            "-----------------------------------------------\n",
            "alpha: 100 -> penlaty l2\n",
            "Mean Squared Error on train set:  0.012363942375574357\n",
            "Mean Squared Error on validate set:  0.012014982128459549\n",
            "-----------------------------------------------\n"
          ]
        }
      ],
      "source": [
        "alpha = [0.00001, 0.0001, 0.001, 0.01, 0.1, 1, 10, 100]\n",
        "penalty = ['l1', 'l2']\n",
        "xticks = []\n",
        "tr_errors = []\n",
        "cv_errors = []\n",
        "best_model = None\n",
        "best_error = 100\n",
        "for a in alpha:\n",
        "    for p in penalty:\n",
        "        print('alpha: {} -> penlaty {}'.format(a, p))\n",
        "        \n",
        "        model = SGDRegressor(alpha=a, penalty=p) \n",
        "        model.fit(bow_train, y_train['probability']) # Train\n",
        "        \n",
        "        prediction = model.predict(bow_train) # Get predictions\n",
        "        error = mean_squared_error(y_train['probability'], prediction) # Calculate error on trainset\n",
        "        tr_errors.append(err)\n",
        "        print(\"Mean Squared Error on train set: \", error)\n",
        "        \n",
        "        prediction = model.predict(bow_validate) \n",
        "        error = mean_squared_error(y_validate['probability'], prediction) \n",
        "        cv_errors.append(error)\n",
        "        print(\"Mean Squared Error on validate set: \", error)\n",
        "        \n",
        "        if error < best_error: \n",
        "            best_error = error\n",
        "            best_model = model\n",
        "        \n",
        "        print(\"-----------------------------------------------\")"
      ]
    },
    {
      "cell_type": "code",
      "execution_count": null,
      "metadata": {
        "colab": {
          "base_uri": "https://localhost:8080/",
          "height": 557
        },
        "id": "Ii7UfmbUiKe1",
        "outputId": "4f44d302-aa45-4dc6-f47b-09ee854868b9"
      },
      "outputs": [
        {
          "output_type": "display_data",
          "data": {
            "text/plain": [
              "<Figure size 1500x500 with 1 Axes>"
            ],
            "image/png": "[encoded data removed]"
          },
          "metadata": {}
        }
      ],
      "source": [
        "plt.figure(figsize=(15,5))\n",
        "plt.suptitle(\"Hyperparameters vs MSE\")\n",
        "plt.plot(range(len(alpha) * len(penalty)), tr_errors)\n",
        "plt.plot(range(len(alpha) * len(penalty)), cv_errors)\n",
        "plt.legend(['train', 'validate'])\n",
        "plt.xticks(range(len(alpha) * len(penalty)), xticks, rotation=45)\n",
        "plt.xlabel('Hyperparameter: alpha + penalty')\n",
        "plt.ylabel('Mean Squared Error')\n",
        "plt.show()"
      ]
    },
    {
      "cell_type": "code",
      "execution_count": null,
      "metadata": {
        "colab": {
          "base_uri": "https://localhost:8080/"
        },
        "id": "1R_sCSKJjJTc",
        "outputId": "e36f1c99-690d-4f7a-fc4e-69ea6ff8cdbb"
      },
      "outputs": [
        {
          "output_type": "execute_result",
          "data": {
            "text/plain": [
              "{'alpha': 1,\n",
              " 'average': False,\n",
              " 'early_stopping': False,\n",
              " 'epsilon': 0.1,\n",
              " 'eta0': 0.01,\n",
              " 'fit_intercept': True,\n",
              " 'l1_ratio': 0.15,\n",
              " 'learning_rate': 'invscaling',\n",
              " 'loss': 'squared_error',\n",
              " 'max_iter': 1000,\n",
              " 'n_iter_no_change': 5,\n",
              " 'penalty': 'l1',\n",
              " 'power_t': 0.25,\n",
              " 'random_state': None,\n",
              " 'shuffle': True,\n",
              " 'tol': 0.001,\n",
              " 'validation_fraction': 0.1,\n",
              " 'verbose': 0,\n",
              " 'warm_start': False}"
            ]
          },
          "metadata": {},
          "execution_count": 51
        }
      ],
      "source": [
        "# Getting the best model parameters:\n",
        "best_model.get_params()"
      ]
    },
    {
      "cell_type": "code",
      "execution_count": null,
      "metadata": {
        "colab": {
          "base_uri": "https://localhost:8080/",
          "height": 74
        },
        "id": "TBim-g1yjLd6",
        "outputId": "6024513f-594a-4d90-bea9-ae8c73ae9ccd"
      },
      "outputs": [
        {
          "output_type": "execute_result",
          "data": {
            "text/plain": [
              "SGDRegressor(alpha=0.01, penalty='l1')"
            ],
            "text/html": [
              "<style>#sk-container-id-3 {color: black;background-color: white;}#sk-container-id-3 pre{padding: 0;}#sk-container-id-3 div.sk-toggleable {background-color: white;}#sk-container-id-3 label.sk-toggleable__label {cursor: pointer;display: block;width: 100%;margin-bottom: 0;padding: 0.3em;box-sizing: border-box;text-align: center;}#sk-container-id-3 label.sk-toggleable__label-arrow:before {content: \"▸\";float: left;margin-right: 0.25em;color: #696969;}#sk-container-id-3 label.sk-toggleable__label-arrow:hover:before {color: black;}#sk-container-id-3 div.sk-estimator:hover label.sk-toggleable__label-arrow:before {color: black;}#sk-container-id-3 div.sk-toggleable__content {max-height: 0;max-width: 0;overflow: hidden;text-align: left;background-color: #f0f8ff;}#sk-container-id-3 div.sk-toggleable__content pre {margin: 0.2em;color: black;border-radius: 0.25em;background-color: #f0f8ff;}#sk-container-id-3 input.sk-toggleable__control:checked~div.sk-toggleable__content {max-height: 200px;max-width: 100%;overflow: auto;}#sk-container-id-3 input.sk-toggleable__control:checked~label.sk-toggleable__label-arrow:before {content: \"▾\";}#sk-container-id-3 div.sk-estimator input.sk-toggleable__control:checked~label.sk-toggleable__label {background-color: #d4ebff;}#sk-container-id-3 div.sk-label input.sk-toggleable__control:checked~label.sk-toggleable__label {background-color: #d4ebff;}#sk-container-id-3 input.sk-hidden--visually {border: 0;clip: rect(1px 1px 1px 1px);clip: rect(1px, 1px, 1px, 1px);height: 1px;margin: -1px;overflow: hidden;padding: 0;position: absolute;width: 1px;}#sk-container-id-3 div.sk-estimator {font-family: monospace;background-color: #f0f8ff;border: 1px dotted black;border-radius: 0.25em;box-sizing: border-box;margin-bottom: 0.5em;}#sk-container-id-3 div.sk-estimator:hover {background-color: #d4ebff;}#sk-container-id-3 div.sk-parallel-item::after {content: \"\";width: 100%;border-bottom: 1px solid gray;flex-grow: 1;}#sk-container-id-3 div.sk-label:hover label.sk-toggleable__label {background-color: #d4ebff;}#sk-container-id-3 div.sk-serial::before {content: \"\";position: absolute;border-left: 1px solid gray;box-sizing: border-box;top: 0;bottom: 0;left: 50%;z-index: 0;}#sk-container-id-3 div.sk-serial {display: flex;flex-direction: column;align-items: center;background-color: white;padding-right: 0.2em;padding-left: 0.2em;position: relative;}#sk-container-id-3 div.sk-item {position: relative;z-index: 1;}#sk-container-id-3 div.sk-parallel {display: flex;align-items: stretch;justify-content: center;background-color: white;position: relative;}#sk-container-id-3 div.sk-item::before, #sk-container-id-3 div.sk-parallel-item::before {content: \"\";position: absolute;border-left: 1px solid gray;box-sizing: border-box;top: 0;bottom: 0;left: 50%;z-index: -1;}#sk-container-id-3 div.sk-parallel-item {display: flex;flex-direction: column;z-index: 1;position: relative;background-color: white;}#sk-container-id-3 div.sk-parallel-item:first-child::after {align-self: flex-end;width: 50%;}#sk-container-id-3 div.sk-parallel-item:last-child::after {align-self: flex-start;width: 50%;}#sk-container-id-3 div.sk-parallel-item:only-child::after {width: 0;}#sk-container-id-3 div.sk-dashed-wrapped {border: 1px dashed gray;margin: 0 0.4em 0.5em 0.4em;box-sizing: border-box;padding-bottom: 0.4em;background-color: white;}#sk-container-id-3 div.sk-label label {font-family: monospace;font-weight: bold;display: inline-block;line-height: 1.2em;}#sk-container-id-3 div.sk-label-container {text-align: center;}#sk-container-id-3 div.sk-container {/* jupyter's `normalize.less` sets `[hidden] { display: none; }` but bootstrap.min.css set `[hidden] { display: none !important; }` so we also need the `!important` here to be able to override the default hidden behavior on the sphinx rendered scikit-learn.org. See: https://github.com/scikit-learn/scikit-learn/issues/21755 */display: inline-block !important;position: relative;}#sk-container-id-3 div.sk-text-repr-fallback {display: none;}</style><div id=\"sk-container-id-3\" class=\"sk-top-container\"><div class=\"sk-text-repr-fallback\"><pre>SGDRegressor(alpha=0.01, penalty=&#x27;l1&#x27;)</pre><b>In a Jupyter environment, please rerun this cell to show the HTML representation or trust the notebook. <br />On GitHub, the HTML representation is unable to render, please try loading this page with nbviewer.org.</b></div><div class=\"sk-container\" hidden><div class=\"sk-item\"><div class=\"sk-estimator sk-toggleable\"><input class=\"sk-toggleable__control sk-hidden--visually\" id=\"sk-estimator-id-3\" type=\"checkbox\" checked><label for=\"sk-estimator-id-3\" class=\"sk-toggleable__label sk-toggleable__label-arrow\">SGDRegressor</label><div class=\"sk-toggleable__content\"><pre>SGDRegressor(alpha=0.01, penalty=&#x27;l1&#x27;)</pre></div></div></div></div></div>"
            ]
          },
          "metadata": {},
          "execution_count": 52
        }
      ],
      "source": [
        "alpha = 0.01\n",
        "penalty = 'l1'\n",
        "model = SGDRegressor(alpha=alpha, penalty=penalty) \n",
        "model.fit(bow_train,binary_y_train) \n"
      ]
    },
    {
      "cell_type": "code",
      "execution_count": null,
      "metadata": {
        "colab": {
          "base_uri": "https://localhost:8080/"
        },
        "id": "jTc0u664jpTx",
        "outputId": "bb2bcbcc-6fed-4855-f880-0c5171803f6e"
      },
      "outputs": [
        {
          "output_type": "stream",
          "name": "stdout",
          "text": [
            "Step: 0.0 -> accuracy 0.09364719\n",
            "Step: 0.05 -> accuracy 0.11244713\n",
            "Step: 0.1 -> accuracy 0.14640451\n",
            "Step: 0.15000000000000002 -> accuracy 0.18400439\n",
            "Step: 0.2 -> accuracy 0.22509008\n",
            "Step: 0.25 -> accuracy 0.26801661\n",
            "Step: 0.30000000000000004 -> accuracy 0.30988563\n",
            "Step: 0.35000000000000003 -> accuracy 0.35265549\n",
            "Step: 0.4 -> accuracy 0.39585618\n",
            "Step: 0.45 -> accuracy 0.43901770\n",
            "Step: 0.5 -> accuracy 0.48378505\n",
            "Step: 0.55 -> accuracy 0.52776907\n",
            "Step: 0.6000000000000001 -> accuracy 0.57163559\n",
            "Step: 0.65 -> accuracy 0.61428795\n",
            "Step: 0.7000000000000001 -> accuracy 0.65768447\n",
            "Step: 0.75 -> accuracy 0.70198183\n",
            "Step: 0.8 -> accuracy 0.74451668\n",
            "Step: 0.8500000000000001 -> accuracy 0.78810904\n",
            "Step: 0.9 -> accuracy 0.82954723\n",
            "Step: 0.9500000000000001 -> accuracy 0.86906627\n",
            "Step: 1.0 -> accuracy 0.90631365\n"
          ]
        }
      ],
      "source": [
        "#tuning quantile \n",
        "step = [0.05*i for i in range(0,21)]\n",
        "validate_SDG = model.predict(bow_validate)\n",
        "for i in step:\n",
        "  check = convert_binary(validate_SDG, i)\n",
        "  accuracy = accuracy_cal(check, binary_y_validate )\n",
        "  print('Step: {} -> accuracy {:.08f}'.format(i, accuracy))\n",
        "  validation_accuracy.append(accuracy)"
      ]
    },
    {
      "cell_type": "code",
      "execution_count": null,
      "metadata": {
        "colab": {
          "base_uri": "https://localhost:8080/"
        },
        "id": "UASp90AdjkB6",
        "outputId": "a6aff137-0eda-4555-8c4c-2bbed89d4f5a"
      },
      "outputs": [
        {
          "output_type": "execute_result",
          "data": {
            "text/plain": [
              "0.8651104496318346"
            ]
          },
          "metadata": {},
          "execution_count": 54
        }
      ],
      "source": [
        "#predict \n",
        "predict_SDG = model.predict(bow_test)\n",
        "check_predict_SDG =[]\n",
        "for i in predict_SDG:\n",
        "  if i>=np.quantile(predict_SDG, 0.95):\n",
        "    check_predict_SDG.append(1)\n",
        "  else:\n",
        "    check_predict_SDG.append(0)\n",
        "accuracy_cal(check_predict_SDG, binary_y_test)\n"
      ]
    },
    {
      "cell_type": "code",
      "execution_count": null,
      "metadata": {
        "id": "6vsFLUzv7DtM"
      },
      "outputs": [],
      "source": [
        "err_SDG = mean_squared_error(check_predict_SDG, binary_y_test)"
      ]
    },
    {
      "cell_type": "code",
      "execution_count": null,
      "metadata": {
        "colab": {
          "base_uri": "https://localhost:8080/"
        },
        "id": "VnLi9Fme7MzY",
        "outputId": "9327c01d-2d72-47fc-f5fc-85bbba8c6cc8"
      },
      "outputs": [
        {
          "output_type": "execute_result",
          "data": {
            "text/plain": [
              "0.13488955036816544"
            ]
          },
          "metadata": {},
          "execution_count": 56
        }
      ],
      "source": [
        "err_SDG"
      ]
    },
    {
      "cell_type": "markdown",
      "metadata": {
        "id": "QmEgO-5mqxnJ"
      },
      "source": [
        "# Training - DT"
      ]
    },
    {
      "cell_type": "code",
      "execution_count": null,
      "metadata": {
        "id": "6aW9BykErDSh"
      },
      "outputs": [],
      "source": [
        "from sklearn.tree import DecisionTreeRegressor"
      ]
    },
    {
      "cell_type": "code",
      "execution_count": null,
      "metadata": {
        "colab": {
          "base_uri": "https://localhost:8080/"
        },
        "id": "q1ZuVMHaqzPp",
        "outputId": "6f865429-b2d7-4ba4-a21c-b1749496464b"
      },
      "outputs": [
        {
          "output_type": "stream",
          "name": "stdout",
          "text": [
            "max_depth: 3, min_samples 10\n",
            "Mean Squared Error on train set:  0.08661727502756122\n",
            "Mean Squared Error on cv set:  0.08562859336973756\n",
            "---------------------------------------------\n",
            "max_depth: 3, min_samples 100\n",
            "Mean Squared Error on train set:  0.0866478173128735\n",
            "Mean Squared Error on cv set:  0.08554088169362592\n",
            "---------------------------------------------\n",
            "max_depth: 3, min_samples 1000\n",
            "Mean Squared Error on train set:  0.08666111986948843\n",
            "Mean Squared Error on cv set:  0.08553487124222557\n",
            "---------------------------------------------\n",
            "max_depth: 5, min_samples 10\n",
            "Mean Squared Error on train set:  0.08658209414704511\n",
            "Mean Squared Error on cv set:  0.08567002486059945\n",
            "---------------------------------------------\n",
            "max_depth: 5, min_samples 100\n",
            "Mean Squared Error on train set:  0.0866242254626256\n",
            "Mean Squared Error on cv set:  0.08560011850007358\n",
            "---------------------------------------------\n",
            "max_depth: 5, min_samples 1000\n",
            "Mean Squared Error on train set:  0.08664589780546868\n",
            "Mean Squared Error on cv set:  0.08556746707432429\n",
            "---------------------------------------------\n",
            "max_depth: 7, min_samples 10\n",
            "Mean Squared Error on train set:  0.0865339425338834\n",
            "Mean Squared Error on cv set:  0.08577669588280581\n",
            "---------------------------------------------\n",
            "max_depth: 7, min_samples 100\n",
            "Mean Squared Error on train set:  0.08660562884159988\n",
            "Mean Squared Error on cv set:  0.08564186106598133\n",
            "---------------------------------------------\n",
            "max_depth: 7, min_samples 1000\n",
            "Mean Squared Error on train set:  0.08663388990740815\n",
            "Mean Squared Error on cv set:  0.08559292888604418\n",
            "---------------------------------------------\n"
          ]
        }
      ],
      "source": [
        "max_depth = [3, 5, 7]\n",
        "min_samples = [10, 100, 1000]\n",
        "xticks = []\n",
        "tr_errors = []\n",
        "cv_errors = []\n",
        "best_model = None\n",
        "best_error = 100\n",
        "for d in max_depth:\n",
        "    for samp in min_samples:\n",
        "       \n",
        "        print('max_depth: {}, min_samples {}'.format(d, samp))\n",
        "        \n",
        "        model = DecisionTreeRegressor(max_depth=d, min_samples_leaf=samp)\n",
        "        model.fit(bow_train, binary_y_train) \n",
        "        \n",
        "        prediction = model.predict(bow_train) \n",
        "        error = mean_squared_error(binary_y_train, prediction) \n",
        "        tr_errors.append(error)\n",
        "        print(\"Mean Squared Error on train set: \", error)\n",
        "        \n",
        "        prediction = model.predict(bow_validate) \n",
        "        error = mean_squared_error(binary_y_validate, prediction) \n",
        "        cv_errors.append(err)\n",
        "        print(\"Mean Squared Error on cv set: \", error)\n",
        "        \n",
        "        if error < best_error: \n",
        "            best_error = error\n",
        "            best_model = model\n",
        "        \n",
        "        print(\"---------------------------------------------\")\n"
      ]
    },
    {
      "cell_type": "code",
      "execution_count": null,
      "metadata": {
        "colab": {
          "base_uri": "https://localhost:8080/",
          "height": 668
        },
        "id": "GOeY-M8lrRek",
        "outputId": "ddbc6834-bc32-44eb-b79e-f7a2844800ae"
      },
      "outputs": [
        {
          "output_type": "display_data",
          "data": {
            "text/plain": [
              "<Figure size 1500x500 with 1 Axes>"
            ],
            "image/png": "[encoded data removed]"
          },
          "metadata": {}
        }
      ],
      "source": [
        "plt.figure(figsize=(15,5))\n",
        "plt.suptitle(\"Hyperparameters vs MSE\")\n",
        "plt.plot(range(len(max_depth) * len(min_samples)), tr_errors)\n",
        "plt.plot(range(len(max_depth) * len(min_samples)), cv_errors)\n",
        "plt.legend(['train', 'cv'])\n",
        "plt.xticks(range(len(max_depth) * len(min_samples)), xticks, rotation=45)\n",
        "plt.xlabel('Hyperparameter: max depth + min_samples_leaf')\n",
        "plt.ylabel('Mean Squared Error')\n",
        "plt.show()\n"
      ]
    },
    {
      "cell_type": "code",
      "execution_count": null,
      "metadata": {
        "colab": {
          "base_uri": "https://localhost:8080/"
        },
        "id": "R6T6Y7WmrVdD",
        "outputId": "21ed548d-ef90-4ce8-9ad8-5bcd91f6f5a7"
      },
      "outputs": [
        {
          "output_type": "execute_result",
          "data": {
            "text/plain": [
              "{'ccp_alpha': 0.0,\n",
              " 'criterion': 'squared_error',\n",
              " 'max_depth': 7,\n",
              " 'max_features': None,\n",
              " 'max_leaf_nodes': None,\n",
              " 'min_impurity_decrease': 0.0,\n",
              " 'min_samples_leaf': 100,\n",
              " 'min_samples_split': 2,\n",
              " 'min_weight_fraction_leaf': 0.0,\n",
              " 'random_state': None,\n",
              " 'splitter': 'best'}"
            ]
          },
          "metadata": {},
          "execution_count": 60
        }
      ],
      "source": [
        "# Best models parameters:\n",
        "best_model.get_params()"
      ]
    },
    {
      "cell_type": "code",
      "execution_count": null,
      "metadata": {
        "id": "JZhr2gQ8rWeq"
      },
      "outputs": [],
      "source": [
        "max_depth = 3\n",
        "min_samples_leaf = 1000\n",
        "min_samples_split =2"
      ]
    },
    {
      "cell_type": "code",
      "execution_count": null,
      "metadata": {
        "id": "EGiba32P4MOM"
      },
      "outputs": [],
      "source": [
        "model = DecisionTreeRegressor(max_depth=max_depth, min_samples_leaf=min_samples_leaf)\n",
        "model.fit(bow_train, binary_y_train) \n",
        "validate_DT = model.predict(bow_validate) "
      ]
    },
    {
      "cell_type": "code",
      "execution_count": null,
      "metadata": {
        "colab": {
          "base_uri": "https://localhost:8080/"
        },
        "id": "MSKLOYox4VEP",
        "outputId": "46f53d75-2bcc-4841-a398-adaeab29ebd4"
      },
      "outputs": [
        {
          "output_type": "stream",
          "name": "stdout",
          "text": [
            "Step: 0.0 -> accuracy 0.12474542\n",
            "Step: 0.05 -> accuracy 0.27984490\n",
            "Step: 0.1 -> accuracy 0.27984490\n",
            "Step: 0.15000000000000002 -> accuracy 0.27984490\n",
            "Step: 0.2 -> accuracy 0.83753721\n",
            "Step: 0.25 -> accuracy 0.83753721\n",
            "Step: 0.30000000000000004 -> accuracy 0.83753721\n",
            "Step: 0.35000000000000003 -> accuracy 0.83753721\n",
            "Step: 0.4 -> accuracy 0.83753721\n",
            "Step: 0.45 -> accuracy 0.83753721\n",
            "Step: 0.5 -> accuracy 0.83753721\n",
            "Step: 0.55 -> accuracy 0.83753721\n",
            "Step: 0.6000000000000001 -> accuracy 0.83753721\n",
            "Step: 0.65 -> accuracy 0.83753721\n",
            "Step: 0.7000000000000001 -> accuracy 0.83753721\n",
            "Step: 0.75 -> accuracy 0.83753721\n",
            "Step: 0.8 -> accuracy 0.83753721\n",
            "Step: 0.8500000000000001 -> accuracy 0.83753721\n",
            "Step: 0.9 -> accuracy 0.92057026\n",
            "Step: 0.9500000000000001 -> accuracy 0.92057026\n",
            "Step: 1.0 -> accuracy 0.90631365\n"
          ]
        }
      ],
      "source": [
        "#tuning quantile\n",
        "step = [0.05*i for i in range(0,21)]\n",
        "for i in step:\n",
        "  check = convert_binary(validate_DT, i)\n",
        "  accuracy = accuracy_cal(check, binary_y_validate )\n",
        "  print('Step: {} -> accuracy {:.08f}'.format(i, accuracy))\n",
        "  validation_accuracy.append(accuracy)"
      ]
    },
    {
      "cell_type": "code",
      "execution_count": null,
      "metadata": {
        "colab": {
          "base_uri": "https://localhost:8080/"
        },
        "id": "EgoaFHxs4bje",
        "outputId": "f2f51d26-94a4-4ec1-dd1a-d74ff0c76216"
      },
      "outputs": [
        {
          "output_type": "execute_result",
          "data": {
            "text/plain": [
              "0.8322732257559141"
            ]
          },
          "metadata": {},
          "execution_count": 64
        }
      ],
      "source": [
        "predict_DT = model.predict(bow_test)\n",
        "check_predict_DT =[]\n",
        "for i in predict_DT:\n",
        "  if i>=np.quantile(predict_DT, 0.95):\n",
        "    check_predict_DT.append(1)\n",
        "  else:\n",
        "    check_predict_DT.append(0)\n",
        "accuracy_cal(check_predict_DT, binary_y_test)"
      ]
    },
    {
      "cell_type": "code",
      "execution_count": null,
      "metadata": {
        "colab": {
          "base_uri": "https://localhost:8080/"
        },
        "id": "Zyx0T-Lx6j_F",
        "outputId": "807d2a12-436c-43a4-ce2b-ba8faf28c14b"
      },
      "outputs": [
        {
          "output_type": "execute_result",
          "data": {
            "text/plain": [
              "0.16772677424408586"
            ]
          },
          "metadata": {},
          "execution_count": 65
        }
      ],
      "source": [
        "err_DT = mean_squared_error(check_predict_DT, binary_y_test)\n",
        "err_DT"
      ]
    },
    {
      "cell_type": "markdown",
      "metadata": {
        "id": "txV5-Phr7Z7O"
      },
      "source": [
        "# Test processing - TF-IDF"
      ]
    },
    {
      "cell_type": "code",
      "execution_count": null,
      "metadata": {
        "colab": {
          "base_uri": "https://localhost:8080/"
        },
        "id": "4Fr5uSo67XlW",
        "outputId": "00825f70-0468-4585-df55-10da615c069c"
      },
      "outputs": [
        {
          "output_type": "stream",
          "name": "stdout",
          "text": [
            "(102124, 30000)\n",
            "(25532, 30000)\n",
            "(31915, 30000)\n"
          ]
        }
      ],
      "source": [
        "tfidf_vec = TfidfVectorizer(ngram_range=(1,2), max_features=30000)\n",
        "tfidf_train = tfidf_vec.fit_transform(x_train['comment_text'])\n",
        "tfidf_validate = tfidf_vec.transform(x_validate['comment_text'])\n",
        "tfidf_test = tfidf_vec.transform(x_test['comment_text'])\n",
        "\n",
        "print(tfidf_train.shape)\n",
        "print(tfidf_validate.shape)\n",
        "print(tfidf_test.shape)"
      ]
    },
    {
      "cell_type": "markdown",
      "metadata": {
        "id": "fIYiVE8uAsve"
      },
      "source": [
        "# Training - SGD"
      ]
    },
    {
      "cell_type": "code",
      "execution_count": null,
      "metadata": {
        "colab": {
          "base_uri": "https://localhost:8080/"
        },
        "id": "HcXuOk3H73c5",
        "outputId": "d5a03174-c709-4dcb-9dde-3eb24d2c0463"
      },
      "outputs": [
        {
          "output_type": "stream",
          "name": "stdout",
          "text": [
            "alpha: 1e-05 -> penlaty l1\n",
            "Mean Squared Error on train set:  0.08665211449525473\n",
            "Mean Squared Error on cv set:  0.08572256725032973\n",
            "-------------------------------------------------\n",
            "alpha: 1e-05 -> penlaty l2\n",
            "Mean Squared Error on train set:  0.0863743270440746\n",
            "Mean Squared Error on cv set:  0.08575832515192287\n",
            "-------------------------------------------------\n",
            "alpha: 0.0001 -> penlaty l1\n",
            "Mean Squared Error on train set:  0.08674519472436963\n",
            "Mean Squared Error on cv set:  0.08559243588960691\n",
            "-------------------------------------------------\n",
            "alpha: 0.0001 -> penlaty l2\n",
            "Mean Squared Error on train set:  0.08637940285369865\n",
            "Mean Squared Error on cv set:  0.085752892935526\n",
            "-------------------------------------------------\n",
            "alpha: 0.001 -> penlaty l1\n",
            "Mean Squared Error on train set:  0.08669500207382214\n",
            "Mean Squared Error on cv set:  0.08551814019249554\n",
            "-------------------------------------------------\n",
            "alpha: 0.001 -> penlaty l2\n",
            "Mean Squared Error on train set:  0.08640510927807986\n",
            "Mean Squared Error on cv set:  0.08570347665401616\n",
            "-------------------------------------------------\n",
            "alpha: 0.01 -> penlaty l1\n",
            "Mean Squared Error on train set:  0.08669534278151789\n",
            "Mean Squared Error on cv set:  0.08551834599545005\n",
            "-------------------------------------------------\n",
            "alpha: 0.01 -> penlaty l2\n",
            "Mean Squared Error on train set:  0.08658851506506222\n",
            "Mean Squared Error on cv set:  0.08556538847067574\n",
            "-------------------------------------------------\n",
            "alpha: 0.1 -> penlaty l1\n",
            "Mean Squared Error on train set:  0.08669497194690912\n",
            "Mean Squared Error on cv set:  0.08551812207835581\n",
            "-------------------------------------------------\n",
            "alpha: 0.1 -> penlaty l2\n",
            "Mean Squared Error on train set:  0.08668384982982053\n",
            "Mean Squared Error on cv set:  0.08552182785296708\n",
            "-------------------------------------------------\n",
            "alpha: 1 -> penlaty l1\n",
            "Mean Squared Error on train set:  0.08669496927384945\n",
            "Mean Squared Error on cv set:  0.08551812047181681\n",
            "-------------------------------------------------\n",
            "alpha: 1 -> penlaty l2\n",
            "Mean Squared Error on train set:  0.08669366132781059\n",
            "Mean Squared Error on cv set:  0.08551823705683054\n",
            "-------------------------------------------------\n",
            "alpha: 10 -> penlaty l1\n",
            "Mean Squared Error on train set:  0.08669421609383779\n",
            "Mean Squared Error on cv set:  0.08551767227261108\n",
            "-------------------------------------------------\n",
            "alpha: 10 -> penlaty l2\n",
            "Mean Squared Error on train set:  0.08669446282392833\n",
            "Mean Squared Error on cv set:  0.08551781953607718\n",
            "-------------------------------------------------\n",
            "alpha: 100 -> penlaty l1\n",
            "Mean Squared Error on train set:  0.08669517370831334\n",
            "Mean Squared Error on cv set:  0.08551824365130675\n",
            "-------------------------------------------------\n",
            "alpha: 100 -> penlaty l2\n",
            "Mean Squared Error on train set:  0.08669479123589632\n",
            "Mean Squared Error on cv set:  0.08551811034657229\n",
            "-------------------------------------------------\n"
          ]
        }
      ],
      "source": [
        "# Performing hyperparameter tuning:\n",
        "alpha = [0.00001, 0.0001, 0.001, 0.01, 0.1, 1, 10, 100]\n",
        "penalty = ['l1', 'l2']\n",
        "xticks = []\n",
        "tr_errors = []\n",
        "cv_errors = []\n",
        "best_model = None\n",
        "best_error = 100\n",
        "for a in alpha:\n",
        "    for p in penalty:\n",
        "        print('alpha: {} -> penlaty {}'.format(a, p))\n",
        "        \n",
        "        model = SGDRegressor(alpha=a, penalty=p) \n",
        "        model.fit(tfidf_train, binary_y_train) \n",
        "        prediction = model.predict(tfidf_train)\n",
        "\n",
        "       \n",
        "        error = mean_squared_error(binary_y_train, prediction)\n",
        "        tr_errors.append(error)\n",
        "        print(\"Mean Squared Error on train set: \", error)\n",
        "        \n",
        "        prediction = model.predict(tfidf_validate) \n",
        "        error = mean_squared_error(binary_y_validate, prediction) \n",
        "        cv_errors.append(error)\n",
        "        print(\"Mean Squared Error on cv set: \", error)\n",
        "        \n",
        "        if error < best_error: # Get best model trained\n",
        "            best_error = error\n",
        "            best_model = model\n",
        "        \n",
        "        print(\"-------------------------------------------------\")"
      ]
    },
    {
      "cell_type": "code",
      "execution_count": null,
      "metadata": {
        "colab": {
          "base_uri": "https://localhost:8080/",
          "height": 557
        },
        "id": "qAecmuM-8vvu",
        "outputId": "2bc89e08-c0e6-4626-f9ea-50b6429a0ec5"
      },
      "outputs": [
        {
          "output_type": "display_data",
          "data": {
            "text/plain": [
              "<Figure size 1500x500 with 1 Axes>"
            ],
            "image/png": "[encoded data removed]"
          },
          "metadata": {}
        }
      ],
      "source": [
        "plt.figure(figsize=(15,5))\n",
        "plt.suptitle(\"Hyperparameters vs MSE\")\n",
        "plt.plot(range(len(alpha) * len(penalty)), tr_errors)\n",
        "plt.plot(range(len(alpha) * len(penalty)), cv_errors)\n",
        "plt.legend(['train', 'cv'])\n",
        "plt.xticks(range(len(alpha) * len(penalty)), xticks, rotation=45)\n",
        "plt.xlabel('Hyperparameter: alpha + penalty')\n",
        "plt.ylabel('Mean Squared Error')\n",
        "plt.show()"
      ]
    },
    {
      "cell_type": "code",
      "execution_count": null,
      "metadata": {
        "colab": {
          "base_uri": "https://localhost:8080/"
        },
        "id": "Imc_3CQQ9L3H",
        "outputId": "60906f7f-c5b3-4836-fb97-21ec62e4dfa9"
      },
      "outputs": [
        {
          "output_type": "execute_result",
          "data": {
            "text/plain": [
              "{'alpha': 1e-05,\n",
              " 'average': False,\n",
              " 'early_stopping': False,\n",
              " 'epsilon': 0.1,\n",
              " 'eta0': 0.01,\n",
              " 'fit_intercept': True,\n",
              " 'l1_ratio': 0.15,\n",
              " 'learning_rate': 'invscaling',\n",
              " 'loss': 'squared_error',\n",
              " 'max_iter': 1000,\n",
              " 'n_iter_no_change': 5,\n",
              " 'penalty': 'l2',\n",
              " 'power_t': 0.25,\n",
              " 'random_state': None,\n",
              " 'shuffle': True,\n",
              " 'tol': 0.001,\n",
              " 'validation_fraction': 0.1,\n",
              " 'verbose': 0,\n",
              " 'warm_start': False}"
            ]
          },
          "metadata": {},
          "execution_count": 69
        }
      ],
      "source": [
        "# Best models parameters:\n",
        "best_model.get_params()"
      ]
    },
    {
      "cell_type": "code",
      "execution_count": null,
      "metadata": {
        "colab": {
          "base_uri": "https://localhost:8080/"
        },
        "id": "ABPK9--698p6",
        "outputId": "04701a53-4fc8-4882-8a16-f44cb4fdc9c3"
      },
      "outputs": [
        {
          "output_type": "stream",
          "name": "stdout",
          "text": [
            "Step: 0.0 -> accuracy 0.09380385\n",
            "Step: 0.05 -> accuracy 0.14205703\n",
            "Step: 0.1 -> accuracy 0.18956603\n",
            "Step: 0.15000000000000002 -> accuracy 0.23648755\n",
            "Step: 0.2 -> accuracy 0.28266489\n",
            "Step: 0.25 -> accuracy 0.32770641\n",
            "Step: 0.30000000000000004 -> accuracy 0.37294376\n",
            "Step: 0.35000000000000003 -> accuracy 0.41743694\n",
            "Step: 0.4 -> accuracy 0.46055930\n",
            "Step: 0.45 -> accuracy 0.50082250\n",
            "Step: 0.5 -> accuracy 0.54527652\n",
            "Step: 0.55 -> accuracy 0.59098386\n",
            "Step: 0.6000000000000001 -> accuracy 0.63602538\n",
            "Step: 0.65 -> accuracy 0.68134106\n",
            "Step: 0.7000000000000001 -> accuracy 0.72426759\n",
            "Step: 0.75 -> accuracy 0.76637161\n",
            "Step: 0.8 -> accuracy 0.80804481\n",
            "Step: 0.8500000000000001 -> accuracy 0.84701551\n",
            "Step: 0.9 -> accuracy 0.88195206\n",
            "Step: 0.9500000000000001 -> accuracy 0.90885947\n",
            "Step: 1.0 -> accuracy 0.90631365\n"
          ]
        }
      ],
      "source": [
        "alpha = 100\n",
        "penalty = 'l2'\n",
        "model = SGDRegressor(alpha=alpha, penalty=penalty) \n",
        "model.fit(tfidf_train,binary_y_train)\n",
        "#tuning quantile \n",
        "step = [0.05*i for i in range(0,21)]\n",
        "validate_SDG = model.predict(tfidf_validate)\n",
        "for i in step:\n",
        "  check = convert_binary(validate_SDG, i)\n",
        "  accuracy = accuracy_cal(check, binary_y_validate )\n",
        "  print('Step: {} -> accuracy {:.08f}'.format(i, accuracy))\n",
        "  validation_accuracy.append(accuracy)"
      ]
    },
    {
      "cell_type": "code",
      "execution_count": null,
      "metadata": {
        "colab": {
          "base_uri": "https://localhost:8080/"
        },
        "id": "B-A61gfW-nS4",
        "outputId": "1f3616b7-f5fb-464b-bb57-a14074d7239a"
      },
      "outputs": [
        {
          "output_type": "execute_result",
          "data": {
            "text/plain": [
              "0.9039009869967101"
            ]
          },
          "metadata": {},
          "execution_count": 71
        }
      ],
      "source": [
        "predict_SDG = model.predict(tfidf_test)\n",
        "check_predict_SDG =[]\n",
        "for i in predict_SDG:\n",
        "  if i>=np.quantile(predict_SDG, 0.95):\n",
        "    check_predict_SDG.append(1)\n",
        "  else:\n",
        "    check_predict_SDG.append(0)\n",
        "accuracy_cal(check_predict_SDG, binary_y_test)"
      ]
    },
    {
      "cell_type": "code",
      "execution_count": null,
      "metadata": {
        "colab": {
          "base_uri": "https://localhost:8080/"
        },
        "id": "ZqAzL1KDACk3",
        "outputId": "edd4e1da-1e6f-4839-f2b8-87357948933b"
      },
      "outputs": [
        {
          "output_type": "execute_result",
          "data": {
            "text/plain": [
              "0.09609901300328999"
            ]
          },
          "metadata": {},
          "execution_count": 72
        }
      ],
      "source": [
        "err_SDG = mean_squared_error(check_predict_SDG, binary_y_test)\n",
        "err_SDG"
      ]
    },
    {
      "cell_type": "markdown",
      "metadata": {
        "id": "QEvo73lrA5Ja"
      },
      "source": [
        "# Training - NB"
      ]
    },
    {
      "cell_type": "code",
      "execution_count": null,
      "metadata": {
        "colab": {
          "base_uri": "https://localhost:8080/",
          "height": 178
        },
        "id": "bdcTfOZUAiEl",
        "outputId": "d183952e-6fa0-4c38-a82e-bb06ec14250f"
      },
      "outputs": [
        {
          "output_type": "stream",
          "name": "stderr",
          "text": [
            "<ipython-input-73-7cb51045e6f4>:2: SettingWithCopyWarning: \n",
            "A value is trying to be set on a copy of a slice from a DataFrame.\n",
            "Try using .loc[row_indexer,col_indexer] = value instead\n",
            "\n",
            "See the caveats in the documentation: https://pandas.pydata.org/pandas-docs/stable/user_guide/indexing.html#returning-a-view-versus-a-copy\n",
            "  y_train['probability']= y_train['probability'].astype('int')\n"
          ]
        },
        {
          "output_type": "execute_result",
          "data": {
            "text/plain": [
              "MultinomialNB()"
            ],
            "text/html": [
              "<style>#sk-container-id-4 {color: black;background-color: white;}#sk-container-id-4 pre{padding: 0;}#sk-container-id-4 div.sk-toggleable {background-color: white;}#sk-container-id-4 label.sk-toggleable__label {cursor: pointer;display: block;width: 100%;margin-bottom: 0;padding: 0.3em;box-sizing: border-box;text-align: center;}#sk-container-id-4 label.sk-toggleable__label-arrow:before {content: \"▸\";float: left;margin-right: 0.25em;color: #696969;}#sk-container-id-4 label.sk-toggleable__label-arrow:hover:before {color: black;}#sk-container-id-4 div.sk-estimator:hover label.sk-toggleable__label-arrow:before {color: black;}#sk-container-id-4 div.sk-toggleable__content {max-height: 0;max-width: 0;overflow: hidden;text-align: left;background-color: #f0f8ff;}#sk-container-id-4 div.sk-toggleable__content pre {margin: 0.2em;color: black;border-radius: 0.25em;background-color: #f0f8ff;}#sk-container-id-4 input.sk-toggleable__control:checked~div.sk-toggleable__content {max-height: 200px;max-width: 100%;overflow: auto;}#sk-container-id-4 input.sk-toggleable__control:checked~label.sk-toggleable__label-arrow:before {content: \"▾\";}#sk-container-id-4 div.sk-estimator input.sk-toggleable__control:checked~label.sk-toggleable__label {background-color: #d4ebff;}#sk-container-id-4 div.sk-label input.sk-toggleable__control:checked~label.sk-toggleable__label {background-color: #d4ebff;}#sk-container-id-4 input.sk-hidden--visually {border: 0;clip: rect(1px 1px 1px 1px);clip: rect(1px, 1px, 1px, 1px);height: 1px;margin: -1px;overflow: hidden;padding: 0;position: absolute;width: 1px;}#sk-container-id-4 div.sk-estimator {font-family: monospace;background-color: #f0f8ff;border: 1px dotted black;border-radius: 0.25em;box-sizing: border-box;margin-bottom: 0.5em;}#sk-container-id-4 div.sk-estimator:hover {background-color: #d4ebff;}#sk-container-id-4 div.sk-parallel-item::after {content: \"\";width: 100%;border-bottom: 1px solid gray;flex-grow: 1;}#sk-container-id-4 div.sk-label:hover label.sk-toggleable__label {background-color: #d4ebff;}#sk-container-id-4 div.sk-serial::before {content: \"\";position: absolute;border-left: 1px solid gray;box-sizing: border-box;top: 0;bottom: 0;left: 50%;z-index: 0;}#sk-container-id-4 div.sk-serial {display: flex;flex-direction: column;align-items: center;background-color: white;padding-right: 0.2em;padding-left: 0.2em;position: relative;}#sk-container-id-4 div.sk-item {position: relative;z-index: 1;}#sk-container-id-4 div.sk-parallel {display: flex;align-items: stretch;justify-content: center;background-color: white;position: relative;}#sk-container-id-4 div.sk-item::before, #sk-container-id-4 div.sk-parallel-item::before {content: \"\";position: absolute;border-left: 1px solid gray;box-sizing: border-box;top: 0;bottom: 0;left: 50%;z-index: -1;}#sk-container-id-4 div.sk-parallel-item {display: flex;flex-direction: column;z-index: 1;position: relative;background-color: white;}#sk-container-id-4 div.sk-parallel-item:first-child::after {align-self: flex-end;width: 50%;}#sk-container-id-4 div.sk-parallel-item:last-child::after {align-self: flex-start;width: 50%;}#sk-container-id-4 div.sk-parallel-item:only-child::after {width: 0;}#sk-container-id-4 div.sk-dashed-wrapped {border: 1px dashed gray;margin: 0 0.4em 0.5em 0.4em;box-sizing: border-box;padding-bottom: 0.4em;background-color: white;}#sk-container-id-4 div.sk-label label {font-family: monospace;font-weight: bold;display: inline-block;line-height: 1.2em;}#sk-container-id-4 div.sk-label-container {text-align: center;}#sk-container-id-4 div.sk-container {/* jupyter's `normalize.less` sets `[hidden] { display: none; }` but bootstrap.min.css set `[hidden] { display: none !important; }` so we also need the `!important` here to be able to override the default hidden behavior on the sphinx rendered scikit-learn.org. See: https://github.com/scikit-learn/scikit-learn/issues/21755 */display: inline-block !important;position: relative;}#sk-container-id-4 div.sk-text-repr-fallback {display: none;}</style><div id=\"sk-container-id-4\" class=\"sk-top-container\"><div class=\"sk-text-repr-fallback\"><pre>MultinomialNB()</pre><b>In a Jupyter environment, please rerun this cell to show the HTML representation or trust the notebook. <br />On GitHub, the HTML representation is unable to render, please try loading this page with nbviewer.org.</b></div><div class=\"sk-container\" hidden><div class=\"sk-item\"><div class=\"sk-estimator sk-toggleable\"><input class=\"sk-toggleable__control sk-hidden--visually\" id=\"sk-estimator-id-4\" type=\"checkbox\" checked><label for=\"sk-estimator-id-4\" class=\"sk-toggleable__label sk-toggleable__label-arrow\">MultinomialNB</label><div class=\"sk-toggleable__content\"><pre>MultinomialNB()</pre></div></div></div></div></div>"
            ]
          },
          "metadata": {},
          "execution_count": 73
        }
      ],
      "source": [
        "vec = TfidfVectorizer()\n",
        "y_train['probability']= y_train['probability'].astype('int')\n",
        "model = MultinomialNB()\n",
        "model.fit(bow_train, binary_y_train)"
      ]
    },
    {
      "cell_type": "code",
      "execution_count": null,
      "metadata": {
        "id": "kIeDlpJVCZ89"
      },
      "outputs": [],
      "source": [
        "#check validate\n",
        "validate_NB = model.predict_proba(bow_validate)"
      ]
    },
    {
      "cell_type": "code",
      "execution_count": null,
      "metadata": {
        "colab": {
          "base_uri": "https://localhost:8080/"
        },
        "id": "85-y85z5KlVP",
        "outputId": "c72930e3-43d4-4493-b658-f5eed01c2e47"
      },
      "outputs": [
        {
          "output_type": "stream",
          "name": "stdout",
          "text": [
            "Step: 0.0 -> accuracy 0.09493968\n",
            "Step: 0.05 -> accuracy 0.14307536\n",
            "Step: 0.1 -> accuracy 0.19215103\n",
            "Step: 0.15000000000000002 -> accuracy 0.24126586\n",
            "Step: 0.2 -> accuracy 0.29002820\n",
            "Step: 0.25 -> accuracy 0.33898637\n",
            "Step: 0.30000000000000004 -> accuracy 0.38821871\n",
            "Step: 0.35000000000000003 -> accuracy 0.43678521\n",
            "Step: 0.4 -> accuracy 0.48570421\n",
            "Step: 0.45 -> accuracy 0.53411405\n",
            "Step: 0.5 -> accuracy 0.58240639\n",
            "Step: 0.55 -> accuracy 0.62913207\n",
            "Step: 0.6000000000000001 -> accuracy 0.67621025\n",
            "Step: 0.65 -> accuracy 0.72371925\n",
            "Step: 0.7000000000000001 -> accuracy 0.77118910\n",
            "Step: 0.75 -> accuracy 0.81744478\n",
            "Step: 0.8 -> accuracy 0.86201629\n",
            "Step: 0.8500000000000001 -> accuracy 0.90694031\n",
            "Step: 0.9 -> accuracy 0.94117186\n",
            "Step: 0.9500000000000001 -> accuracy 0.94583268\n",
            "Step: 1.0 -> accuracy 0.90631365\n"
          ]
        }
      ],
      "source": [
        "step = [0.05*i for i in range(0,21)]\n",
        "validation_accuracy =[]\n",
        "for i in step:\n",
        "  check = convert_binary(validate_NB[:,1], i)\n",
        "  accuracy = accuracy_cal(check, binary_y_validate )\n",
        "  print('Step: {} -> accuracy {:.08f}'.format(i, accuracy))\n",
        "  validation_accuracy.append(accuracy)"
      ]
    },
    {
      "cell_type": "code",
      "execution_count": null,
      "metadata": {
        "colab": {
          "base_uri": "https://localhost:8080/",
          "height": 74
        },
        "id": "XZ92fjF-KmlB",
        "outputId": "4ebde2d1-8934-4a3d-ae09-94f4310f47c3"
      },
      "outputs": [
        {
          "output_type": "execute_result",
          "data": {
            "text/plain": [
              "MultinomialNB()"
            ],
            "text/html": [
              "<style>#sk-container-id-5 {color: black;background-color: white;}#sk-container-id-5 pre{padding: 0;}#sk-container-id-5 div.sk-toggleable {background-color: white;}#sk-container-id-5 label.sk-toggleable__label {cursor: pointer;display: block;width: 100%;margin-bottom: 0;padding: 0.3em;box-sizing: border-box;text-align: center;}#sk-container-id-5 label.sk-toggleable__label-arrow:before {content: \"▸\";float: left;margin-right: 0.25em;color: #696969;}#sk-container-id-5 label.sk-toggleable__label-arrow:hover:before {color: black;}#sk-container-id-5 div.sk-estimator:hover label.sk-toggleable__label-arrow:before {color: black;}#sk-container-id-5 div.sk-toggleable__content {max-height: 0;max-width: 0;overflow: hidden;text-align: left;background-color: #f0f8ff;}#sk-container-id-5 div.sk-toggleable__content pre {margin: 0.2em;color: black;border-radius: 0.25em;background-color: #f0f8ff;}#sk-container-id-5 input.sk-toggleable__control:checked~div.sk-toggleable__content {max-height: 200px;max-width: 100%;overflow: auto;}#sk-container-id-5 input.sk-toggleable__control:checked~label.sk-toggleable__label-arrow:before {content: \"▾\";}#sk-container-id-5 div.sk-estimator input.sk-toggleable__control:checked~label.sk-toggleable__label {background-color: #d4ebff;}#sk-container-id-5 div.sk-label input.sk-toggleable__control:checked~label.sk-toggleable__label {background-color: #d4ebff;}#sk-container-id-5 input.sk-hidden--visually {border: 0;clip: rect(1px 1px 1px 1px);clip: rect(1px, 1px, 1px, 1px);height: 1px;margin: -1px;overflow: hidden;padding: 0;position: absolute;width: 1px;}#sk-container-id-5 div.sk-estimator {font-family: monospace;background-color: #f0f8ff;border: 1px dotted black;border-radius: 0.25em;box-sizing: border-box;margin-bottom: 0.5em;}#sk-container-id-5 div.sk-estimator:hover {background-color: #d4ebff;}#sk-container-id-5 div.sk-parallel-item::after {content: \"\";width: 100%;border-bottom: 1px solid gray;flex-grow: 1;}#sk-container-id-5 div.sk-label:hover label.sk-toggleable__label {background-color: #d4ebff;}#sk-container-id-5 div.sk-serial::before {content: \"\";position: absolute;border-left: 1px solid gray;box-sizing: border-box;top: 0;bottom: 0;left: 50%;z-index: 0;}#sk-container-id-5 div.sk-serial {display: flex;flex-direction: column;align-items: center;background-color: white;padding-right: 0.2em;padding-left: 0.2em;position: relative;}#sk-container-id-5 div.sk-item {position: relative;z-index: 1;}#sk-container-id-5 div.sk-parallel {display: flex;align-items: stretch;justify-content: center;background-color: white;position: relative;}#sk-container-id-5 div.sk-item::before, #sk-container-id-5 div.sk-parallel-item::before {content: \"\";position: absolute;border-left: 1px solid gray;box-sizing: border-box;top: 0;bottom: 0;left: 50%;z-index: -1;}#sk-container-id-5 div.sk-parallel-item {display: flex;flex-direction: column;z-index: 1;position: relative;background-color: white;}#sk-container-id-5 div.sk-parallel-item:first-child::after {align-self: flex-end;width: 50%;}#sk-container-id-5 div.sk-parallel-item:last-child::after {align-self: flex-start;width: 50%;}#sk-container-id-5 div.sk-parallel-item:only-child::after {width: 0;}#sk-container-id-5 div.sk-dashed-wrapped {border: 1px dashed gray;margin: 0 0.4em 0.5em 0.4em;box-sizing: border-box;padding-bottom: 0.4em;background-color: white;}#sk-container-id-5 div.sk-label label {font-family: monospace;font-weight: bold;display: inline-block;line-height: 1.2em;}#sk-container-id-5 div.sk-label-container {text-align: center;}#sk-container-id-5 div.sk-container {/* jupyter's `normalize.less` sets `[hidden] { display: none; }` but bootstrap.min.css set `[hidden] { display: none !important; }` so we also need the `!important` here to be able to override the default hidden behavior on the sphinx rendered scikit-learn.org. See: https://github.com/scikit-learn/scikit-learn/issues/21755 */display: inline-block !important;position: relative;}#sk-container-id-5 div.sk-text-repr-fallback {display: none;}</style><div id=\"sk-container-id-5\" class=\"sk-top-container\"><div class=\"sk-text-repr-fallback\"><pre>MultinomialNB()</pre><b>In a Jupyter environment, please rerun this cell to show the HTML representation or trust the notebook. <br />On GitHub, the HTML representation is unable to render, please try loading this page with nbviewer.org.</b></div><div class=\"sk-container\" hidden><div class=\"sk-item\"><div class=\"sk-estimator sk-toggleable\"><input class=\"sk-toggleable__control sk-hidden--visually\" id=\"sk-estimator-id-5\" type=\"checkbox\" checked><label for=\"sk-estimator-id-5\" class=\"sk-toggleable__label sk-toggleable__label-arrow\">MultinomialNB</label><div class=\"sk-toggleable__content\"><pre>MultinomialNB()</pre></div></div></div></div></div>"
            ]
          },
          "metadata": {},
          "execution_count": 76
        }
      ],
      "source": [
        "model = MultinomialNB()\n",
        "model.fit(tfidf_train, y_train['probability'])"
      ]
    },
    {
      "cell_type": "code",
      "source": [
        "predict_NB= model.predict_proba(tfidf_test)\n",
        "step = 0.95\n",
        "check = convert_binary(predict_NB[:,1], step)\n",
        "accuracy = accuracy_cal(check, binary_y_test)"
      ],
      "metadata": {
        "id": "3I6lrYpYLxFn"
      },
      "execution_count": null,
      "outputs": []
    },
    {
      "cell_type": "code",
      "source": [
        "accuracy"
      ],
      "metadata": {
        "colab": {
          "base_uri": "https://localhost:8080/"
        },
        "id": "04G5yaM-Mci-",
        "outputId": "b4c4121d-15fd-4de5-b602-18264250d944"
      },
      "execution_count": null,
      "outputs": [
        {
          "output_type": "execute_result",
          "data": {
            "text/plain": [
              "0.8739464201785994"
            ]
          },
          "metadata": {},
          "execution_count": 78
        }
      ]
    },
    {
      "cell_type": "code",
      "source": [
        "err_NB = mean_squared_error(predict_NB[:,1], binary_y_test)\n",
        "err_NB"
      ],
      "metadata": {
        "colab": {
          "base_uri": "https://localhost:8080/"
        },
        "id": "Ardi7LaTMP9c",
        "outputId": "9cd3750b-4963-48f5-c57b-8cfaa92e0c14"
      },
      "execution_count": null,
      "outputs": [
        {
          "output_type": "execute_result",
          "data": {
            "text/plain": [
              "0.09845444567472572"
            ]
          },
          "metadata": {},
          "execution_count": 79
        }
      ]
    },
    {
      "cell_type": "markdown",
      "metadata": {
        "id": "RwSoZk8yrt6t"
      },
      "source": [
        "# Training - DT"
      ]
    },
    {
      "cell_type": "code",
      "source": [
        "max_depth = [3, 5, 7]\n",
        "min_samples = [10, 100, 1000]\n",
        "xticks = []\n",
        "tr_errors = []\n",
        "cv_errors = []\n",
        "best_model = None\n",
        "best_error = 100\n",
        "for d in max_depth:\n",
        "    for samp in min_samples:\n",
        "        print('max_depth: {} min_samples {}'.format(d, samp))\n",
        "        \n",
        "        model = DecisionTreeRegressor(max_depth=d, min_samples_leaf=samp)\n",
        "        model.fit(tfidf_train, binary_y_train) \n",
        "        \n",
        "        prediction = model.predict(tfidf_train) \n",
        "        error = mean_squared_error(binary_y_train, prediction) \n",
        "        tr_errors.append(error)\n",
        "        print(\"Mean Squared Error on train set: \", error)\n",
        "        \n",
        "        prediction = model.predict(tfidf_validate) \n",
        "        error = mean_squared_error(binary_y_validate, preds) \n",
        "        cv_errors.append(error)\n",
        "        print(\"Mean Squared Error on cv set: \", error)\n",
        "        \n",
        "        if error < best_error:\n",
        "            best_error = error\n",
        "            best_model = model\n",
        "        \n",
        "        print(\"---------------------------------------\")\n"
      ],
      "metadata": {
        "colab": {
          "base_uri": "https://localhost:8080/"
        },
        "id": "9fVnGo6MOa3D",
        "outputId": "7d94ede8-02c9-40a4-b17e-eb602182b7bd"
      },
      "execution_count": null,
      "outputs": [
        {
          "output_type": "stream",
          "name": "stdout",
          "text": [
            "max_depth: 3 min_samples 10\n",
            "Mean Squared Error on train set:  0.08658537050392405\n",
            "Mean Squared Error on cv set:  0.08562859336973756\n",
            "---------------------------------------\n",
            "max_depth: 3 min_samples 100\n",
            "Mean Squared Error on train set:  0.08663994583172589\n",
            "Mean Squared Error on cv set:  0.08562859336973756\n",
            "---------------------------------------\n",
            "max_depth: 3 min_samples 1000\n",
            "Mean Squared Error on train set:  0.08665054925960765\n",
            "Mean Squared Error on cv set:  0.08562859336973756\n",
            "---------------------------------------\n",
            "max_depth: 5 min_samples 10\n",
            "Mean Squared Error on train set:  0.08651452037226275\n",
            "Mean Squared Error on cv set:  0.08562859336973756\n",
            "---------------------------------------\n",
            "max_depth: 5 min_samples 100\n",
            "Mean Squared Error on train set:  0.08661275162589588\n",
            "Mean Squared Error on cv set:  0.08562859336973756\n",
            "---------------------------------------\n",
            "max_depth: 5 min_samples 1000\n",
            "Mean Squared Error on train set:  0.0866312028634588\n",
            "Mean Squared Error on cv set:  0.08562859336973756\n",
            "---------------------------------------\n",
            "max_depth: 7 min_samples 10\n",
            "Mean Squared Error on train set:  0.0864646721644004\n",
            "Mean Squared Error on cv set:  0.08562859336973756\n",
            "---------------------------------------\n",
            "max_depth: 7 min_samples 100\n"
          ]
        }
      ]
    },
    {
      "cell_type": "code",
      "source": [
        "plt.figure(figsize=(15,5))\n",
        "plt.suptitle(\"Hyperparameters vs MSE\")\n",
        "plt.plot(range(len(max_depth) * len(min_samples)), tr_errors)\n",
        "plt.plot(range(len(max_depth) * len(min_samples)), cv_errors)\n",
        "plt.legend(['train', 'cv'])\n",
        "plt.xticks(range(len(max_depth) * len(min_samples)), xticks, rotation=45)\n",
        "plt.xlabel('Hyperparameter: max depth + min_samples_leaf')\n",
        "plt.ylabel('Mean Squared Error')\n",
        "plt.show()\n"
      ],
      "metadata": {
        "colab": {
          "base_uri": "https://localhost:8080/",
          "height": 668
        },
        "id": "inZeanrNOuUI",
        "outputId": "c2fec4c2-88f4-4a03-cd16-4aab323830fa"
      },
      "execution_count": null,
      "outputs": [
        {
          "output_type": "display_data",
          "data": {
            "text/plain": [
              "<Figure size 1500x500 with 1 Axes>"
            ],
            "image/png": "[encoded data removed]"
          },
          "metadata": {}
        }
      ]
    },
    {
      "cell_type": "code",
      "source": [
        "# Best models parameters:\n",
        "best_model.get_params()"
      ],
      "metadata": {
        "colab": {
          "base_uri": "https://localhost:8080/"
        },
        "id": "0TCTwmanOy29",
        "outputId": "42c03f3f-e6af-44d7-8772-4cc4600a39ab"
      },
      "execution_count": null,
      "outputs": [
        {
          "output_type": "execute_result",
          "data": {
            "text/plain": [
              "{'ccp_alpha': 0.0,\n",
              " 'criterion': 'squared_error',\n",
              " 'max_depth': 7,\n",
              " 'max_features': None,\n",
              " 'max_leaf_nodes': None,\n",
              " 'min_impurity_decrease': 0.0,\n",
              " 'min_samples_leaf': 100,\n",
              " 'min_samples_split': 2,\n",
              " 'min_weight_fraction_leaf': 0.0,\n",
              " 'random_state': None,\n",
              " 'splitter': 'best'}"
            ]
          },
          "metadata": {},
          "execution_count": 82
        }
      ]
    },
    {
      "cell_type": "code",
      "source": [
        "max_depth = 7\n",
        "min_sample_leaf = 100\n",
        "model = DecisionTreeRegressor(max_depth=max_depth, min_samples_leaf=min_samples_leaf)\n",
        "model.fit(tfidf_train, binary_y_train) \n",
        "validate_DT = model.predict(tfidf_validate) "
      ],
      "metadata": {
        "id": "JshplJkKO16A"
      },
      "execution_count": null,
      "outputs": []
    },
    {
      "cell_type": "code",
      "source": [
        "#tuning quantile\n",
        "step = [0.05*i for i in range(0,21)]\n",
        "for i in step:\n",
        "  check = convert_binary(validate_DT, i)\n",
        "  accuracy = accuracy_cal(check, binary_y_validate )\n",
        "  print('Step: {} -> accuracy {:.08f}'.format(i, accuracy))\n",
        "  validation_accuracy.append(accuracy)"
      ],
      "metadata": {
        "colab": {
          "base_uri": "https://localhost:8080/"
        },
        "id": "HRMGSh8qPMsN",
        "outputId": "a9c3a8eb-bc95-4951-b6de-1ac53bf80309"
      },
      "execution_count": null,
      "outputs": [
        {
          "output_type": "stream",
          "name": "stdout",
          "text": [
            "Step: 0.0 -> accuracy 0.11393545\n",
            "Step: 0.05 -> accuracy 0.14507285\n",
            "Step: 0.1 -> accuracy 0.20339182\n",
            "Step: 0.15000000000000002 -> accuracy 0.29179069\n",
            "Step: 0.2 -> accuracy 0.29179069\n",
            "Step: 0.25 -> accuracy 0.33663638\n",
            "Step: 0.30000000000000004 -> accuracy 0.39887200\n",
            "Step: 0.35000000000000003 -> accuracy 0.43592355\n",
            "Step: 0.4 -> accuracy 0.87827041\n",
            "Step: 0.45 -> accuracy 0.87827041\n",
            "Step: 0.5 -> accuracy 0.87827041\n",
            "Step: 0.55 -> accuracy 0.87827041\n",
            "Step: 0.6000000000000001 -> accuracy 0.87827041\n",
            "Step: 0.65 -> accuracy 0.87827041\n",
            "Step: 0.7000000000000001 -> accuracy 0.87827041\n",
            "Step: 0.75 -> accuracy 0.87827041\n",
            "Step: 0.8 -> accuracy 0.87827041\n",
            "Step: 0.8500000000000001 -> accuracy 0.87827041\n",
            "Step: 0.9 -> accuracy 0.87827041\n",
            "Step: 0.9500000000000001 -> accuracy 0.90725364\n",
            "Step: 1.0 -> accuracy 0.90631365\n"
          ]
        }
      ]
    },
    {
      "cell_type": "code",
      "source": [
        "predict_DT = model.predict(tfidf_test)\n",
        "check_predict_DT =[]\n",
        "for i in predict_DT:\n",
        "  if i>=np.quantile(predict_DT, 0.95):\n",
        "    check_predict_DT.append(1)\n",
        "  else:\n",
        "    check_predict_DT.append(0)\n",
        "accuracy_cal(check_predict_DT, binary_y_test)"
      ],
      "metadata": {
        "colab": {
          "base_uri": "https://localhost:8080/"
        },
        "id": "4tpj7Z0RPTP3",
        "outputId": "06a208fa-0a38-4e30-c823-75b65ffc5747"
      },
      "execution_count": null,
      "outputs": [
        {
          "output_type": "execute_result",
          "data": {
            "text/plain": [
              "0.9053736487545041"
            ]
          },
          "metadata": {},
          "execution_count": 85
        }
      ]
    },
    {
      "cell_type": "code",
      "source": [
        "err_DT = mean_squared_error(check_predict_DT, binary_y_test)\n",
        "err_DT"
      ],
      "metadata": {
        "colab": {
          "base_uri": "https://localhost:8080/"
        },
        "id": "K2sr-_n7PWwR",
        "outputId": "0a1ec172-ca8a-4dee-f96a-f43457d5bd1d"
      },
      "execution_count": null,
      "outputs": [
        {
          "output_type": "execute_result",
          "data": {
            "text/plain": [
              "0.09462635124549584"
            ]
          },
          "metadata": {},
          "execution_count": 86
        }
      ]
    }
  ],
  "metadata": {
    "colab": {
      "collapsed_sections": [
        "oGM5kK3ImXH7"
      ],
      "toc_visible": true,
      "provenance": []
    },
    "kernelspec": {
      "display_name": "Python 3",
      "name": "python3"
    },
    "language_info": {
      "name": "python"
    }
  },
  "nbformat": 4,
  "nbformat_minor": 0
}